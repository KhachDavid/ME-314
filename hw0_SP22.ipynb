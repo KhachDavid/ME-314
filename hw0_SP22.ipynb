{
  "nbformat": 4,
  "nbformat_minor": 0,
  "metadata": {
    "kernelspec": {
      "display_name": "Python 3",
      "language": "python",
      "name": "python3"
    },
    "language_info": {
      "codemirror_mode": {
        "name": "ipython",
        "version": 3
      },
      "file_extension": ".py",
      "mimetype": "text/x-python",
      "name": "python",
      "nbconvert_exporter": "python",
      "pygments_lexer": "ipython3",
      "version": "3.6.9"
    },
    "colab": {
      "provenance": [],
      "include_colab_link": true
    }
  },
  "cells": [
    {
      "cell_type": "markdown",
      "metadata": {
        "id": "view-in-github",
        "colab_type": "text"
      },
      "source": [
        "<a href=\"https://colab.research.google.com/github/KhachDavid/ME314/blob/main/hw0_SP22.ipynb\" target=\"_parent\"><img src=\"https://colab.research.google.com/assets/colab-badge.svg\" alt=\"Open In Colab\"/></a>"
      ]
    },
    {
      "cell_type": "markdown",
      "metadata": {
        "id": "p5AANcq8aXQE"
      },
      "source": [
        "# ME314 Homework 0\n",
        "\n",
        "###Submission instructions\n",
        "\n",
        "Deliverables that should be included with your submission are shown in **bold** at the end of each problem statement and the corresponding supplemental material. Your homework will be graded IFF you submit a **single** PDF and a link to a Google colab file that meet all the requirements outlined below.\n",
        "\n",
        "- List the names of students you've collaborated with on this homework assignment.\n",
        "- Include all of your code (and handwritten solutions when applicable) used to complete the problems.\n",
        "- Highlight your answers (i.e. **bold** and outline the answers) and include simplified code outputs (e.g. .simplify()).\n",
        "- Enable Google Colab permission for viewing\n",
        " * Click Share in the upper right corner\n",
        " * Under \"Get Link\" click \"Share with...\" or \"Change\"\n",
        " * Then make sure it says \"Anyone with Link\" and \"Editor\" under the dropdown menu\n",
        "- Make sure all cells are run before submitting (i.e. check the permission by running your code in a private mode)\n",
        " * Please don't make changes to your file after submitting, so we can grade it!\n",
        "- Submit a link to your Google Colab file that has been run (before the submission deadline) and don't edit it afterwards!\n",
        "\n",
        "**NOTE:** This Juputer Notebook file serves as a template for you to start homework. Make sure you first copy this template to your own Google driver (click \"File\" -> \"Save a copy in Drive\"), and then start to edit it."
      ]
    },
    {
      "cell_type": "code",
      "metadata": {
        "id": "e10BTR6Ldtgc"
      },
      "source": [
        "#IMPORT ALL NECESSARY PACKAGES AT THE TOP OF THE CODE\n",
        "import sympy as sym\n",
        "import numpy as np\n",
        "import matplotlib.pyplot as plt"
      ],
      "execution_count": 1,
      "outputs": []
    },
    {
      "cell_type": "code",
      "metadata": {
        "id": "9HlLVMmeaXQF"
      },
      "source": [
        "# ##############################################################################################\n",
        "# # If you're using Google Colab, uncomment this section by selecting the whole section and press\n",
        "# # ctrl+'/' (Linux/Windows) or cmd+'/' (MacOS) on your and keyboard. Run it before you start\n",
        "# # programming, this will enable the nice LaTeX \"display()\" function for you. If you're using\n",
        "# # the local Jupyter environment, leave it alone\n",
        "# ##############################################################################################\n",
        "\n",
        "\n",
        "def custom_latex_printer(exp,**options):\n",
        "    from google.colab.output._publish import javascript\n",
        "    url = \"https://cdnjs.cloudflare.com/ajax/libs/mathjax/3.1.1/latest.js?config=TeX-AMS_HTML\"\n",
        "    javascript(url=url)\n",
        "    return sym.printing.latex(exp,**options)\n",
        "sym.init_printing(use_latex=\"mathjax\",latex_printer=custom_latex_printer)"
      ],
      "execution_count": null,
      "outputs": []
    },
    {
      "cell_type": "markdown",
      "metadata": {
        "id": "R8KcW-HdaXQK"
      },
      "source": [
        "## Problem 1 (20pts)\n",
        "\n",
        "Given a function $f(x)=\\sin(x)$, find the derivative of $f(x)$ and find the directional derivative of $f(x)$ in the direction $v$.  Moreover, compute these derivatives using Pythons's SymPy package.\n",
        "\n",
        "*Hint 1: As an example, below is the code solving the problem when $f(x) = x^2$ (feel free to take it as a start point for your solution).*"
      ]
    },
    {
      "cell_type": "code",
      "metadata": {
        "id": "sWtszMPMaXQK",
        "colab": {
          "base_uri": "https://localhost:8080/",
          "height": 133
        },
        "outputId": "ac37f2c6-cd1f-48f4-a97a-b92d18d9ba79"
      },
      "source": [
        "####################################\n",
        "# Part 1: compute derivative of f\n",
        "\n",
        "# define your symbolic variable here\n",
        "x = sym.symbols('x')\n",
        "\n",
        "# define the function f\n",
        "f = x**2 # if you're using Jupyter-Notebook, try \"display(f)\"\n",
        "\n",
        "# compute derivative of f\n",
        "# (uncomment next line and add your code)\n",
        "df = f.diff(x)\n",
        "\n",
        "# output resutls\n",
        "print(\"derivative of f: \")\n",
        "display(df)\n",
        "\n",
        "####################################\n",
        "# Part 2: compute directional derivative of f\n",
        "\n",
        "# define dummy variable epsilon, and the direction v\n",
        "# note 1: here the character 'r' means raw string\n",
        "# note 2: here I define the symbol for epsilon with\n",
        "#          the name \"\\epsilon\", this is for LaTeX printing\n",
        "#          later. In your case, you can give it any other\n",
        "#          name you want.\n",
        "eps, v = sym.symbols(r'\\epsilon, v')\n",
        "\n",
        "# add eplision into function f\n",
        "new_f = (x + v*eps)**2\n",
        "\n",
        "# take derivative of the new function w.r.t. epsilon\n",
        "df_eps = new_f.diff(eps)\n",
        "\n",
        "# output this derivative\n",
        "print(\"derivative of f wrt eps: \")\n",
        "display(df_eps)\n",
        "\n",
        "# now, as you've seen the class, we need evaluate for eps=0 to ...\n",
        "# ... get the directional derivative. To do this, we need to ...\n",
        "# ... use SymPy's built-in substitution method \"subs()\" to ...\n",
        "# ... replace the epsilon symbol with 0\n",
        "new_df = df_eps.subs(eps, 0)\n",
        "\n",
        "# output directional derivative\n",
        "print(\"directional derivative of f on v: \")\n",
        "display(new_df)"
      ],
      "execution_count": null,
      "outputs": [
        {
          "output_type": "stream",
          "name": "stdout",
          "text": [
            "derivative of f: \n"
          ]
        },
        {
          "output_type": "display_data",
          "data": {
            "text/plain": [
              "<IPython.core.display.HTML object>"
            ],
            "text/html": [
              "<script src='https://cdnjs.cloudflare.com/ajax/libs/mathjax/3.1.1/latest.js?config=TeX-AMS_HTML'></script>"
            ]
          },
          "metadata": {}
        },
        {
          "output_type": "display_data",
          "data": {
            "text/plain": [
              "2⋅x"
            ],
            "text/latex": "$\\displaystyle 2 x$"
          },
          "metadata": {}
        },
        {
          "output_type": "stream",
          "name": "stdout",
          "text": [
            "derivative of f wrt eps: \n"
          ]
        },
        {
          "output_type": "display_data",
          "data": {
            "text/plain": [
              "<IPython.core.display.HTML object>"
            ],
            "text/html": [
              "<script src='https://cdnjs.cloudflare.com/ajax/libs/mathjax/3.1.1/latest.js?config=TeX-AMS_HTML'></script>"
            ]
          },
          "metadata": {}
        },
        {
          "output_type": "display_data",
          "data": {
            "text/plain": [
              "2⋅v⋅(\\epsilon⋅v + x)"
            ],
            "text/latex": "$\\displaystyle 2 v \\left(\\epsilon v + x\\right)$"
          },
          "metadata": {}
        },
        {
          "output_type": "stream",
          "name": "stdout",
          "text": [
            "directional derivative of f on v: \n"
          ]
        },
        {
          "output_type": "display_data",
          "data": {
            "text/plain": [
              "<IPython.core.display.HTML object>"
            ],
            "text/html": [
              "<script src='https://cdnjs.cloudflare.com/ajax/libs/mathjax/3.1.1/latest.js?config=TeX-AMS_HTML'></script>"
            ]
          },
          "metadata": {}
        },
        {
          "output_type": "display_data",
          "data": {
            "text/plain": [
              "2⋅v⋅x"
            ],
            "text/latex": "$\\displaystyle 2 v x$"
          },
          "metadata": {}
        }
      ]
    },
    {
      "cell_type": "markdown",
      "metadata": {
        "id": "mBdOhX1vaXQO"
      },
      "source": [
        "**Turn in: A scanned (or photograph from your phone or webcam) copy of your hand written solution for both derivatives (or you can use $\\LaTeX$, instead of hand writing). Also, turn in the code used to compute the symbolic solutions for both derivatives and the code output.**"
      ]
    },
    {
      "cell_type": "code",
      "metadata": {
        "id": "-ZivndofaXQP"
      },
      "source": [
        "# You can start your implementation here :)"
      ],
      "execution_count": null,
      "outputs": []
    },
    {
      "cell_type": "markdown",
      "metadata": {
        "id": "2GySmCekaXRC"
      },
      "source": [
        "## Problem 2 (20pts)\n",
        "\n",
        "Given a function of trajectory:\n",
        "$$\n",
        "J(x(t)) = \\int_0^{\\pi/2} \\frac{1}{2} x(t)^2 dt\n",
        "$$\n",
        "Compute the analytical solution when $x=\\cos(t)$, verify your answer by numerical integration.\n",
        "\n",
        "The code for numerical integration is provided below:"
      ]
    },
    {
      "cell_type": "code",
      "metadata": {
        "id": "OvgRhdLMaXRC",
        "colab": {
          "base_uri": "https://localhost:8080/"
        },
        "outputId": "01839829-3cdb-4b30-c574-c5be178ef15b"
      },
      "source": [
        "def integrate(func, xspan, step_size):\n",
        "    '''\n",
        "    Numerical integration with Euler's method\n",
        "\n",
        "    Parameters:\n",
        "    ====================\n",
        "    func: Python function\n",
        "        func is the function you want to integrate for\n",
        "    xspan: list\n",
        "        xspan is a list of two elements, representing\n",
        "        the start and end of integration\n",
        "    step_size:\n",
        "        a smaller step_size will give a more accurate result\n",
        "\n",
        "    Returns:\n",
        "    int_val:\n",
        "        result of the integration\n",
        "    ====================\n",
        "    '''\n",
        "    x = np.arange(xspan[0], xspan[1], step_size)\n",
        "    int_val = 0\n",
        "    for xi in x:\n",
        "        int_val += func(xi) * step_size\n",
        "    return int_val\n",
        "\n",
        "# a simple test\n",
        "def square(x):\n",
        "    return x**2\n",
        "print( integrate(func=square, xspan=[0, 1], step_size=0.01) )\n",
        "# or you just call the function without indicating parameters\n",
        "# print( integrate(square, [0, 1], 0.01) )"
      ],
      "execution_count": null,
      "outputs": [
        {
          "output_type": "stream",
          "name": "stdout",
          "text": [
            "0.32835000000000014\n"
          ]
        }
      ]
    },
    {
      "cell_type": "markdown",
      "metadata": {
        "id": "Mn5Oe2QVaXSP"
      },
      "source": [
        "**Turn in: A scanned (or photograph from your phone or webcam) copy of your hand written analytical solution (or you can use $\\LaTeX$). Also, turn in the code you used to numerically evaluate the result and the code output.**"
      ]
    },
    {
      "cell_type": "code",
      "metadata": {
        "id": "YdxntM2maXSP"
      },
      "source": [
        "# You can start your implementation here :)"
      ],
      "execution_count": null,
      "outputs": []
    },
    {
      "cell_type": "markdown",
      "metadata": {
        "id": "Xuw8SIBPaXSS"
      },
      "source": [
        "## Problem 3 (20pts)\n",
        "\n",
        "For the function $J(x(t))$ in Problem 2, compute and evaluate the analytical solution for the directional derivative of $J$ at $x(t) = \\cos(t)$ in the direction $v(t) = \\sin(t)$. Note that the directional derivative should be in the form of integration. Evaluate this integral analytically, and verify your answer using the same numerical integration function as in Problem 2.\n",
        "\n",
        "**Turn in: A scanned (or photograph from your phone or webcam) copy of your hand written (or you can use $\\LaTeX$) derivation and evaluation of the directional derivative. Also, include the code used to numerically verify the integration result.**"
      ]
    },
    {
      "cell_type": "code",
      "metadata": {
        "id": "o2AafVE6aXSS",
        "colab": {
          "base_uri": "https://localhost:8080/",
          "height": 46
        },
        "outputId": "a0f349fc-53c3-492a-ca75-655006f879d0"
      },
      "source": [
        "# Put this in your import cell.\n",
        "from IPython.display import Markdown, display\n",
        "\n",
        "# How to print in bold, you could wrap the \"display(Markdown())\"\"\n",
        "# in a function if you want a more consice alternative.\n",
        "answer = 42\n",
        "display(Markdown(\"**Hello World: {}**\".format(answer)))"
      ],
      "execution_count": null,
      "outputs": [
        {
          "output_type": "display_data",
          "data": {
            "text/plain": [
              "<IPython.core.display.Markdown object>"
            ],
            "text/markdown": "**Hello World: 42**"
          },
          "metadata": {}
        }
      ]
    },
    {
      "cell_type": "markdown",
      "metadata": {
        "id": "72Jg3xWJaXSw"
      },
      "source": [
        "## Problem 4 (20pts)\n",
        "\n",
        "Verify your answer in Problem 3 symbolically using Python's SymPy package, this means you need to compute the directional derivative and evaluate the integration all symbolically.\n",
        "\n",
        "*Hint 1: Different from computing directional derivative in Problem 1, this time the function includes integration. Thus, instead of defining x as a symbol, you should define x as a function of symbol t. An example of defining function and taking the derivative of the function integration is provided below.*"
      ]
    },
    {
      "cell_type": "code",
      "metadata": {
        "id": "VES-iwYBaXSz",
        "colab": {
          "base_uri": "https://localhost:8080/",
          "height": 287
        },
        "outputId": "9d509762-0a05-4a5e-f64e-45b64fbf9329"
      },
      "source": [
        "t = sym.symbols('t')\n",
        "# define function x and y\n",
        "x = sym.Function('x')(t)\n",
        "y = sym.Function('y')(t)\n",
        "# define J(x(t), y(t))\n",
        "J = sym.integrate(x**2 + x*y, [t, 0, sym.pi])\n",
        "print('J(x(t), y(t)) = ')\n",
        "display(J)\n",
        "\n",
        "# take the time derivative of J(x(t))\n",
        "dJdx = J.diff(x)\n",
        "print('derivative of J(x(t), y(t)) wrt x(t): ')\n",
        "display(dJdx)\n",
        "\n",
        "# now, we have x(t)=sin(t) and y(t)=cos(t), we substitute them\n",
        "# in, and evaluate the integration\n",
        "dJdx_subs = dJdx.subs({x:sym.sin(t), y:sym.cos(t)})\n",
        "print('derivative of J, after substitution: ')\n",
        "display(dJdx_subs)\n",
        "print('evaluation of derivative of J, after substitution: ')\n",
        "display(sym.N(dJdx_subs))"
      ],
      "execution_count": null,
      "outputs": [
        {
          "output_type": "stream",
          "name": "stdout",
          "text": [
            "J(x(t), y(t)) = \n"
          ]
        },
        {
          "output_type": "display_data",
          "data": {
            "text/plain": [
              "<IPython.core.display.HTML object>"
            ],
            "text/html": [
              "<script src='https://cdnjs.cloudflare.com/ajax/libs/mathjax/3.1.1/latest.js?config=TeX-AMS_HTML'></script>"
            ]
          },
          "metadata": {}
        },
        {
          "output_type": "display_data",
          "data": {
            "text/plain": [
              "π                      \n",
              "⌠                      \n",
              "⎮ (x(t) + y(t))⋅x(t) dt\n",
              "⌡                      \n",
              "0                      "
            ],
            "text/latex": "$\\displaystyle \\int\\limits_{0}^{\\pi} \\left(x{\\left(t \\right)} + y{\\left(t \\right)}\\right) x{\\left(t \\right)}\\, dt$"
          },
          "metadata": {}
        },
        {
          "output_type": "stream",
          "name": "stdout",
          "text": [
            "derivative of J(x(t), y(t)) wrt x(t): \n"
          ]
        },
        {
          "output_type": "display_data",
          "data": {
            "text/plain": [
              "<IPython.core.display.HTML object>"
            ],
            "text/html": [
              "<script src='https://cdnjs.cloudflare.com/ajax/libs/mathjax/3.1.1/latest.js?config=TeX-AMS_HTML'></script>"
            ]
          },
          "metadata": {}
        },
        {
          "output_type": "display_data",
          "data": {
            "text/plain": [
              "π                   \n",
              "⌠                   \n",
              "⎮ (2⋅x(t) + y(t)) dt\n",
              "⌡                   \n",
              "0                   "
            ],
            "text/latex": "$\\displaystyle \\int\\limits_{0}^{\\pi} \\left(2 x{\\left(t \\right)} + y{\\left(t \\right)}\\right)\\, dt$"
          },
          "metadata": {}
        },
        {
          "output_type": "stream",
          "name": "stdout",
          "text": [
            "derivative of J, after substitution: \n"
          ]
        },
        {
          "output_type": "display_data",
          "data": {
            "text/plain": [
              "<IPython.core.display.HTML object>"
            ],
            "text/html": [
              "<script src='https://cdnjs.cloudflare.com/ajax/libs/mathjax/3.1.1/latest.js?config=TeX-AMS_HTML'></script>"
            ]
          },
          "metadata": {}
        },
        {
          "output_type": "display_data",
          "data": {
            "text/plain": [
              "π                       \n",
              "⌠                       \n",
              "⎮ (2⋅sin(t) + cos(t)) dt\n",
              "⌡                       \n",
              "0                       "
            ],
            "text/latex": "$\\displaystyle \\int\\limits_{0}^{\\pi} \\left(2 \\sin{\\left(t \\right)} + \\cos{\\left(t \\right)}\\right)\\, dt$"
          },
          "metadata": {}
        },
        {
          "output_type": "stream",
          "name": "stdout",
          "text": [
            "evaluation of derivative of J, after substitution: \n"
          ]
        },
        {
          "output_type": "display_data",
          "data": {
            "text/plain": [
              "<IPython.core.display.HTML object>"
            ],
            "text/html": [
              "<script src='https://cdnjs.cloudflare.com/ajax/libs/mathjax/3.1.1/latest.js?config=TeX-AMS_HTML'></script>"
            ]
          },
          "metadata": {}
        },
        {
          "output_type": "display_data",
          "data": {
            "text/plain": [
              "4.00000000000000"
            ],
            "text/latex": "$\\displaystyle 4.0$"
          },
          "metadata": {}
        }
      ]
    },
    {
      "cell_type": "markdown",
      "metadata": {
        "id": "XpXlPCKGaXS1"
      },
      "source": [
        "**Turn in: A copy of the code you used to symbolically evaluate the solution as well as the corresponding code output.**"
      ]
    },
    {
      "cell_type": "code",
      "metadata": {
        "id": "T-A50gSgaXS2"
      },
      "source": [
        "# You can start your implementation here :)"
      ],
      "execution_count": null,
      "outputs": []
    },
    {
      "cell_type": "markdown",
      "metadata": {
        "id": "rmzz-xtCaXS4"
      },
      "source": [
        "## Problem 5 (20pts)\n",
        "\n",
        "Given the equation:\n",
        "$$\n",
        "xy + \\sin(x) = x + y\n",
        "$$\n",
        "Use Python's SymPy package to symbolically solve this equation for $y$, thus you can write $y$ as a function of $x$. Transfer your symbolic solution into a numerical function and plot this function for $x\\in[0, \\pi]$ with Python's Matplotlib package.\n",
        "\n",
        "In this problem you will use two methods in SymPy. The first is its symbolic sovler method **solve()**, which takes in an equation or expression (in this it equals 0) and solve it for one or one set of variables. Another method you will use is **lambdify()**, which can transfer a symbolic expression into a numerical function automatically (of course in this problem we can hand code the function, but later in the class we will have super sophisticated expression to evaluate.\n",
        "\n",
        "Below is an example of using these two methods for an equation $2x^3\\sin(4x) = xy$ (feel free to take this as the start point for your solution):"
      ]
    },
    {
      "cell_type": "code",
      "metadata": {
        "id": "fbFESQlpaXS4",
        "colab": {
          "base_uri": "https://localhost:8080/",
          "height": 521
        },
        "outputId": "f5a02704-683f-42d9-b32e-74ed29382c1a"
      },
      "source": [
        "# from sympy.abc import x, y # it's same as defining x, y using symbols() OR\n",
        "x, y = sym.symbols(r'x,y')\n",
        "\n",
        "# define an equation\n",
        "eqn = sym.Eq(x**3 * 2*sym.sin(4*x), x*y)\n",
        "print('Original equation')\n",
        "display(eqn)\n",
        "\n",
        "# solve this equation for y\n",
        "y_sol = sym.solve(eqn, y) # this method returns a list,\n",
        "                             # which may include multiple solutions\n",
        "print('Symbolic solutions')\n",
        "print(y_sol)\n",
        "y_expr = y_sol[0] # in this case we just have one solution\n",
        "\n",
        "# lambdify the expression wrt symbol x\n",
        "func = sym.lambdify(x, y_expr)\n",
        "print('Test: func(1.0) = ', func(1.0))\n",
        "\n",
        "##############\n",
        "# now it's time to plot it from 0 to pi\n",
        "\n",
        "# generate list of values from 0 to pi\n",
        "x_list = np.linspace(0, np.pi, 100)\n",
        "\n",
        "# evaluate function at those values\n",
        "f_list = func(x_list)\n",
        "\n",
        "# plot it\n",
        "plt.plot(x_list, f_list)\n",
        "plt.show()"
      ],
      "execution_count": null,
      "outputs": [
        {
          "output_type": "stream",
          "name": "stdout",
          "text": [
            "Original equation\n"
          ]
        },
        {
          "output_type": "display_data",
          "data": {
            "text/plain": [
              "<IPython.core.display.HTML object>"
            ],
            "text/html": [
              "<script src='https://cdnjs.cloudflare.com/ajax/libs/mathjax/3.1.1/latest.js?config=TeX-AMS_HTML'></script>"
            ]
          },
          "metadata": {}
        },
        {
          "output_type": "display_data",
          "data": {
            "text/plain": [
              "   3               \n",
              "2⋅x ⋅sin(4⋅x) = x⋅y"
            ],
            "text/latex": "$\\displaystyle 2 x^{3} \\sin{\\left(4 x \\right)} = x y$"
          },
          "metadata": {}
        },
        {
          "output_type": "stream",
          "name": "stdout",
          "text": [
            "Symbolic solutions\n",
            "[2*x**2*sin(4*x)]\n",
            "Test: func(1.0) =  -1.5136049906158564\n"
          ]
        },
        {
          "output_type": "display_data",
          "data": {
            "text/plain": [
              "<Figure size 640x480 with 1 Axes>"
            ],
            "image/png": "[encoded data removed]"
          },
          "metadata": {}
        }
      ]
    },
    {
      "cell_type": "markdown",
      "metadata": {
        "id": "UBG_nJa0aXS7"
      },
      "source": [
        "**Turn in: A copy of the code used to solve for symbolic solution and evaluate it as a numerical function. Also, include the plot of the numerical function.**"
      ]
    },
    {
      "cell_type": "code",
      "metadata": {
        "id": "OYaAr10EaXS7"
      },
      "source": [
        "# You can start your implementation here :)"
      ],
      "execution_count": null,
      "outputs": []
    }
  ]
}