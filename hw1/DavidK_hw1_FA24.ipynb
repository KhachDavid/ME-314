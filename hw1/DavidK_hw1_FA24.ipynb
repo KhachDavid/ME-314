{
  "nbformat": 4,
  "nbformat_minor": 0,
  "metadata": {
    "kernelspec": {
      "display_name": "Python 3",
      "language": "python",
      "name": "python3"
    },
    "language_info": {
      "codemirror_mode": {
        "name": "ipython",
        "version": 3
      },
      "file_extension": ".py",
      "mimetype": "text/x-python",
      "name": "python",
      "nbconvert_exporter": "python",
      "pygments_lexer": "ipython3",
      "version": "3.6.9"
    },
    "colab": {
      "provenance": []
    }
  },
  "cells": [
    {
      "cell_type": "markdown",
      "metadata": {
        "id": "p5AANcq8aXQE"
      },
      "source": [
        "# ME314 Homework 1\n",
        "\n",
        "###Submission instructions\n",
        "\n",
        "Deliverables that should be included with your submission are shown in **bold** at the end of each problem statement and the corresponding supplemental material. Your homework will be graded IFF you submit a **single** PDF and a link to a Google colab file that meet all the requirements outlined below.\n",
        "\n",
        "- List the names of students you've collaborated with on this homework assignment.\n",
        "- Include all of your code (and handwritten solutions when applicable) used to complete the problems.\n",
        "- Highlight your answers (i.e. **bold** and outline the answers) for handwritten or markdown questions and include simplified code outputs (e.g. .simplify()) for python questions.\n",
        "- Enable Google Colab permission for viewing\n",
        " * Click Share in the upper right corner\n",
        " * Under \"Get Link\" click \"Share with...\" or \"Change\"\n",
        " * Then make sure it says \"Anyone with Link\" and \"Editor\" under the dropdown menu\n",
        "- Make sure all cells are run before submitting (i.e. check the permission by running your code in a private mode)\n",
        " * Please don't make changes to your file after submitting, so we can grade it!\n",
        "- Submit a link to your Google Colab file that has been run (before the submission deadline) and don't edit it afterwards!\n",
        "\n",
        "**NOTE:** This Juputer Notebook file serves as a template for you to start homework. Make sure you first copy this template to your own Google driver (click \"File\" -> \"Save a copy in Drive\"), and then start to edit it."
      ]
    },
    {
      "cell_type": "code",
      "metadata": {
        "id": "e10BTR6Ldtgc"
      },
      "source": [
        "#IMPORT ALL NECESSARY PACKAGES AT THE TOP OF THE CODE\n",
        "import sympy as sym\n",
        "import numpy as np\n",
        "import matplotlib.pyplot as plt\n",
        "from IPython.display import Markdown, display"
      ],
      "execution_count": 22,
      "outputs": []
    },
    {
      "cell_type": "code",
      "metadata": {
        "id": "9HlLVMmeaXQF"
      },
      "source": [
        "def custom_latex_printer(exp,**options):\n",
        "    from google.colab.output._publish import javascript\n",
        "    url = \"https://cdnjs.cloudflare.com/ajax/libs/mathjax/3.1.1/latest.js?config=TeX-AMS_HTML\"\n",
        "    javascript(url=url)\n",
        "    return sym.printing.latex(exp,**options)\n",
        "sym.init_printing(use_latex=\"mathjax\",latex_printer=custom_latex_printer)"
      ],
      "execution_count": 23,
      "outputs": []
    },
    {
      "cell_type": "markdown",
      "metadata": {
        "id": "R8KcW-HdaXQK"
      },
      "source": [
        "## Problem 1 (15pts)"
      ]
    },
    {
      "cell_type": "code",
      "source": [
        "from IPython.core.display import HTML\n",
        "display(HTML(\"<table><tr><td><img src='https://github.com/MuchenSun/ME314pngs/raw/master/2mass_spring.png' width=500' height='350'></table>\"))"
      ],
      "metadata": {
        "colab": {
          "base_uri": "https://localhost:8080/",
          "height": 377
        },
        "id": "Q4EUnq1kTchx",
        "outputId": "a6e91179-dd23-481b-9420-1d1eebf19345"
      },
      "execution_count": 24,
      "outputs": [
        {
          "output_type": "display_data",
          "data": {
            "text/plain": [
              "<IPython.core.display.HTML object>"
            ],
            "text/html": [
              "<table><tr><td><img src='https://github.com/MuchenSun/ME314pngs/raw/master/2mass_spring.png' width=500' height='350'></table>"
            ]
          },
          "metadata": {}
        }
      ]
    },
    {
      "cell_type": "markdown",
      "source": [
        "As shown in the image above, a block of mass $m_1$ is on one side connected to\n",
        "\n",
        "---\n",
        "\n",
        "a wall by a massless spring with a spring constant $k_1$ and on another side to a block of mass $m_2$ by a massless spring with a spring constant $k_2$. Assume that the two springs have lengths of zero when \"relaxed\", they are stretched with any positive displacement $\\Delta x > 0$, and the magnitude of the force can be computed using Hooke's law $|F| = k \\Delta x$, where $k$ is the spring constant. Furthermore, there is no friction between the blocks and the ground.\n",
        "    \n",
        "Given masses $m_1=1kg$ and $ m_2=2kg$, spring constants $k_1=0.5N/m$ and $k_2=0.8N/m$, and positions of the blocks as $x_1$ and $x_2$, use Newton's law $F=ma$ to compute the accelerations of the blocks $a_1=\\ddot{x}_1$ and $a_2=\\ddot{x}_2$. You need to use Pythons's SymPy package to solve for symbolic solutions, as well as numerically evaluate your solutions for $a_1$ and $a_2$ as functions of $x_1$ and $x_2$ respectively. Test your numerical functions with $x_1=1m$ and $x_2=3m$ as function inputs.\n",
        "\n",
        "*Hint 1: You will have two equations based on Newton's law $F=ma$ for each block. Thus, for each block you need to write down its $F$ in terms of $x_1$ and $x_2$ (which can be defined as symbols in SymPy).*\n",
        "\n",
        "*Hint 2: You will need to use SymPy's **`solve()`** and **`lambdify()`** methods in this problem as seen in Homework 0. This problem is very similar to Problem 5 in Homework 0, except that (1) you need to write down the equations yourself, and (2) you don't need to solve the equations simultaneously - you can solve them one by one for each block. Feel free to take the example code in Homework 0 as a starting point.*\n",
        "\n",
        "*Hint 3: You will need to use **`lambdify()`** to numerically evaluate a function with multiple variables. Below is an example.*"
      ],
      "metadata": {
        "id": "aRvSsEyeTmmA"
      }
    },
    {
      "cell_type": "code",
      "metadata": {
        "id": "sWtszMPMaXQK",
        "colab": {
          "base_uri": "https://localhost:8080/",
          "height": 117
        },
        "outputId": "04b1e38c-1bae-40dc-d17e-5721117021e7"
      },
      "source": [
        "# from sympy.abc import x, y, z or\n",
        "x,y,z = sym.symbols(r'x,y,z')\n",
        "expr = sym.sin(x) * y**2 * z + x*z + x/z**2\n",
        "print('\\033[1mExample expression: ')\n",
        "display(expr)\n",
        "\n",
        "# method 1: the numerical function will take variables one by one\n",
        "func = sym.lambdify([x, y, z], expr)\n",
        "print('\\n\\033[1mTest at x=1, y=2, z=3: \\033[0m{:.2f}'.format(func(1, 2, 3)))\n",
        "\n",
        "# method 2: the numerical function will take variables cotained in one list/array\n",
        "func = sym.lambdify([[x, y, z]], expr)\n",
        "print('\\033[1mTest at x=1, y=2, z=3: \\033[0m{:.2f}'.format(func([1, 2, 3])))"
      ],
      "execution_count": 25,
      "outputs": [
        {
          "output_type": "stream",
          "name": "stdout",
          "text": [
            "\u001b[1mExample expression: \n"
          ]
        },
        {
          "output_type": "display_data",
          "data": {
            "text/plain": [
              "<IPython.core.display.HTML object>"
            ],
            "text/html": [
              "<script src='https://cdnjs.cloudflare.com/ajax/libs/mathjax/3.1.1/latest.js?config=TeX-AMS_HTML'></script>"
            ]
          },
          "metadata": {}
        },
        {
          "output_type": "display_data",
          "data": {
            "text/plain": [
              "      x     2         \n",
              "x⋅z + ── + y ⋅z⋅sin(x)\n",
              "       2              \n",
              "      z               "
            ],
            "text/latex": "$\\displaystyle x z + \\frac{x}{z^{2}} + y^{2} z \\sin{\\left(x \\right)}$"
          },
          "metadata": {}
        },
        {
          "output_type": "stream",
          "name": "stdout",
          "text": [
            "\n",
            "\u001b[1mTest at x=1, y=2, z=3: \u001b[0m13.21\n",
            "\u001b[1mTest at x=1, y=2, z=3: \u001b[0m13.21\n"
          ]
        }
      ]
    },
    {
      "cell_type": "markdown",
      "metadata": {
        "id": "mBdOhX1vaXQO"
      },
      "source": [
        "**Turn in: A copy of the code used to solve for symbolic solutions and evaluate them as numerical functions, output of the code as well as the test results for numerical functions.**"
      ]
    },
    {
      "cell_type": "code",
      "metadata": {
        "id": "-ZivndofaXQP",
        "colab": {
          "base_uri": "https://localhost:8080/",
          "height": 165
        },
        "outputId": "7e9fe2ea-8290-4b7b-e623-485aa2e046a6"
      },
      "source": [
        "##########################################################\n",
        "##########################################################\n",
        "###################### #1 MY SOLUTION ####################\n",
        "##########################################################\n",
        "##########################################################\n",
        "\n",
        "\n",
        "x1,x2,a1,a2,m1,m2,k1,k2 = sym.symbols(r'x1,x2,a1,a2,m1,m2,k1,k2')\n",
        "\n",
        "# Newtonian forces for the first block\n",
        "f1_s1 = -k1 * x1 # first spring on the first block\n",
        "f1_s2 = k2 * (x2 - x1) # second spring on the second block\n",
        "eq1 = sym.Eq(m1 * a1, f1_s1 + f1_s2)\n",
        "\n",
        "# Newtonian forces for the second block\n",
        "f2_s1 = -k2 * (x2 - x1)\n",
        "eq2 = sym.Eq(m2 * a2, f2_s1)\n",
        "\n",
        "# only one solution available\n",
        "x1_2dot = sym.solve(eq1, a1)[0]\n",
        "x2_2dot = sym.solve(eq2, a2)[0]\n",
        "\n",
        "# symbolic solution\n",
        "display(sym.Eq(a1, x1_2dot))\n",
        "print()\n",
        "display(sym.Eq(a2, x2_2dot))\n",
        "\n",
        "numerical_values = {m1: 1, m2: 2, k1: 0.5, k2: 0.8, x1: 1, x2: 3}\n",
        "\n",
        "# numerical func\n",
        "x1_2dot_numerical = sym.lambdify((x1, x2), x1_2dot.subs(numerical_values))\n",
        "x2_2dot_numerical = sym.lambdify((x1, x2), x2_2dot.subs(numerical_values))\n",
        "\n",
        "# plug in values for x\n",
        "accelaration1 = x1_2dot_numerical(1, 3)\n",
        "accelaration2 = x2_2dot_numerical(1, 3)\n",
        "\n",
        "print()\n",
        "print(\"a1 and a2 have the values below\")\n",
        "accelaration1, accelaration2"
      ],
      "execution_count": 26,
      "outputs": [
        {
          "output_type": "display_data",
          "data": {
            "text/plain": [
              "<IPython.core.display.HTML object>"
            ],
            "text/html": [
              "<script src='https://cdnjs.cloudflare.com/ajax/libs/mathjax/3.1.1/latest.js?config=TeX-AMS_HTML'></script>"
            ]
          },
          "metadata": {}
        },
        {
          "output_type": "display_data",
          "data": {
            "text/plain": [
              "     -k₁⋅x₁ - k₂⋅x₁ + k₂⋅x₂\n",
              "a₁ = ──────────────────────\n",
              "               m₁          "
            ],
            "text/latex": "$\\displaystyle a_{1} = \\frac{- k_{1} x_{1} - k_{2} x_{1} + k_{2} x_{2}}{m_{1}}$"
          },
          "metadata": {}
        },
        {
          "output_type": "stream",
          "name": "stdout",
          "text": [
            "\n"
          ]
        },
        {
          "output_type": "display_data",
          "data": {
            "text/plain": [
              "<IPython.core.display.HTML object>"
            ],
            "text/html": [
              "<script src='https://cdnjs.cloudflare.com/ajax/libs/mathjax/3.1.1/latest.js?config=TeX-AMS_HTML'></script>"
            ]
          },
          "metadata": {}
        },
        {
          "output_type": "display_data",
          "data": {
            "text/plain": [
              "     k₂⋅(x₁ - x₂)\n",
              "a₂ = ────────────\n",
              "          m₂     "
            ],
            "text/latex": "$\\displaystyle a_{2} = \\frac{k_{2} \\left(x_{1} - x_{2}\\right)}{m_{2}}$"
          },
          "metadata": {}
        },
        {
          "output_type": "stream",
          "name": "stdout",
          "text": [
            "\n",
            "a1 and a2 have the values below\n"
          ]
        },
        {
          "output_type": "display_data",
          "data": {
            "text/plain": [
              "<IPython.core.display.HTML object>"
            ],
            "text/html": [
              "<script src='https://cdnjs.cloudflare.com/ajax/libs/mathjax/3.1.1/latest.js?config=TeX-AMS_HTML'></script>"
            ]
          },
          "metadata": {}
        },
        {
          "output_type": "execute_result",
          "data": {
            "text/plain": [
              "(1.1, -0.8)"
            ],
            "text/latex": "$\\displaystyle \\left( 1.1, \\  -0.8\\right)$"
          },
          "metadata": {},
          "execution_count": 26
        }
      ]
    },
    {
      "cell_type": "markdown",
      "metadata": {
        "id": "2GySmCekaXRC"
      },
      "source": [
        "## Problem 2 (10pts)\n",
        "\n",
        "For the same system in Problem 1, compute the Lagrangian of the system using Python's SymPy package with $x_1$, $x_2$ as system configuration variables.\n",
        "\n",
        "*Hint 1: For an object with mass $m$ and velocity $v$, its kinetic energy is $\\frac{1}{2} mv^2$.*\n",
        "\n",
        "*Hint 2: For a spring stretched with displacement $\\Delta x$ and spring ratio $k$, its potential energy is $\\frac{1}{2} k (\\Delta x)^2$. Also, the springs have zero mass.*\n",
        "\n",
        "*Hint 3: Since $x_1$ and $x_2$ are actually functions of time $t$, in order to compute Euler-Lagrange equations you will need to take their derivative with respect to $t$. Instead of defining position and velocity as two separate symbols, you need to define position as SymPy's **Function** object and the velocity as the derivative of that function with respect to time $t$. An example is provided below.*"
      ]
    },
    {
      "cell_type": "code",
      "metadata": {
        "id": "OvgRhdLMaXRC",
        "colab": {
          "base_uri": "https://localhost:8080/",
          "height": 218
        },
        "outputId": "bd99929c-ef72-43da-a80f-a68fe73f9ff5"
      },
      "source": [
        "t = sym.symbols('t')\n",
        "# define position as function of t\n",
        "x1 = sym.Function(r'x_1')(t)\n",
        "# define velocity as derivative of position wrt t\n",
        "x1dot = x1.diff(t)\n",
        "# define acceleration as derivative of velocity wrt t\n",
        "x1ddot = x1dot.diff(t)\n",
        "\n",
        "# now write down an expression in terms of position and velocity\n",
        "expr = x1**2 + x1*x1dot\n",
        "print('\\033[1mExample expression: ')\n",
        "display(expr)\n",
        "# you can take the derivative of this expression wrt to time t\n",
        "expr_dt = expr.diff(t)\n",
        "print('\\n\\033[1mDerivative of expression w.r.t. time (t): ')\n",
        "display(expr_dt)\n",
        "# or you can take the derivative wrt the functions: x, xdot, xddot\n",
        "expr_dx = expr.diff(x1)\n",
        "print('\\n\\033[1mDerivative of expression w.r.t. x1(t): ')\n",
        "display(expr_dx)"
      ],
      "execution_count": 27,
      "outputs": [
        {
          "output_type": "stream",
          "name": "stdout",
          "text": [
            "\u001b[1mExample expression: \n"
          ]
        },
        {
          "output_type": "display_data",
          "data": {
            "text/plain": [
              "<IPython.core.display.HTML object>"
            ],
            "text/html": [
              "<script src='https://cdnjs.cloudflare.com/ajax/libs/mathjax/3.1.1/latest.js?config=TeX-AMS_HTML'></script>"
            ]
          },
          "metadata": {}
        },
        {
          "output_type": "display_data",
          "data": {
            "text/plain": [
              "  2            d        \n",
              "x₁ (t) + x₁(t)⋅──(x₁(t))\n",
              "               dt       "
            ],
            "text/latex": "$\\displaystyle x_{1}^{2}{\\left(t \\right)} + x_{1}{\\left(t \\right)} \\frac{d}{d t} x_{1}{\\left(t \\right)}$"
          },
          "metadata": {}
        },
        {
          "output_type": "stream",
          "name": "stdout",
          "text": [
            "\n",
            "\u001b[1mDerivative of expression w.r.t. time (t): \n"
          ]
        },
        {
          "output_type": "display_data",
          "data": {
            "text/plain": [
              "<IPython.core.display.HTML object>"
            ],
            "text/html": [
              "<script src='https://cdnjs.cloudflare.com/ajax/libs/mathjax/3.1.1/latest.js?config=TeX-AMS_HTML'></script>"
            ]
          },
          "metadata": {}
        },
        {
          "output_type": "display_data",
          "data": {
            "text/plain": [
              "                           2                      2\n",
              "        d                 d            ⎛d        ⎞ \n",
              "2⋅x₁(t)⋅──(x₁(t)) + x₁(t)⋅───(x₁(t)) + ⎜──(x₁(t))⎟ \n",
              "        dt                  2          ⎝dt       ⎠ \n",
              "                          dt                       "
            ],
            "text/latex": "$\\displaystyle 2 x_{1}{\\left(t \\right)} \\frac{d}{d t} x_{1}{\\left(t \\right)} + x_{1}{\\left(t \\right)} \\frac{d^{2}}{d t^{2}} x_{1}{\\left(t \\right)} + \\left(\\frac{d}{d t} x_{1}{\\left(t \\right)}\\right)^{2}$"
          },
          "metadata": {}
        },
        {
          "output_type": "stream",
          "name": "stdout",
          "text": [
            "\n",
            "\u001b[1mDerivative of expression w.r.t. x1(t): \n"
          ]
        },
        {
          "output_type": "display_data",
          "data": {
            "text/plain": [
              "<IPython.core.display.HTML object>"
            ],
            "text/html": [
              "<script src='https://cdnjs.cloudflare.com/ajax/libs/mathjax/3.1.1/latest.js?config=TeX-AMS_HTML'></script>"
            ]
          },
          "metadata": {}
        },
        {
          "output_type": "display_data",
          "data": {
            "text/plain": [
              "          d        \n",
              "2⋅x₁(t) + ──(x₁(t))\n",
              "          dt       "
            ],
            "text/latex": "$\\displaystyle 2 x_{1}{\\left(t \\right)} + \\frac{d}{d t} x_{1}{\\left(t \\right)}$"
          },
          "metadata": {}
        }
      ]
    },
    {
      "cell_type": "markdown",
      "metadata": {
        "id": "Mn5Oe2QVaXSP"
      },
      "source": [
        "**Turn in: A copy of the code used to symbolically compute the Lagrangian and corresponding output of the code (i.e. the computed Lagrangian.)**"
      ]
    },
    {
      "cell_type": "code",
      "metadata": {
        "id": "YdxntM2maXSP",
        "colab": {
          "base_uri": "https://localhost:8080/",
          "height": 61
        },
        "outputId": "155c6f83-bfe3-4306-c476-96956039824a"
      },
      "source": [
        "##########################################################\n",
        "##########################################################\n",
        "###################### #2 MY SOLUTION ####################\n",
        "##########################################################\n",
        "##########################################################\n",
        "\n",
        "t, m1, m2, k1, k2 = sym.symbols(r't,m1,m2,k1,k2')\n",
        "\n",
        "# define position as function of t\n",
        "x1_t = sym.Function(r'x_1')(t)\n",
        "x2_t = sym.Function(r'x_2')(t)\n",
        "\n",
        "# v is just x dot\n",
        "v1_t = sym.diff(x1_t, t)\n",
        "v2_t = sym.diff(x2_t, t)\n",
        "\n",
        "# kinetic\n",
        "K1 = (1/2) * m1 * (v1_t**2)\n",
        "K2 = (1/2) * m2 * (v2_t**2)\n",
        "\n",
        "# potential\n",
        "V1 = (1/2) * k1 * (x1_t**2)\n",
        "V2 = (1/2) * k2 * ((x2_t - x1_t)**2)\n",
        "\n",
        "# L = kinetic - potential\n",
        "L = (K1 + K2) - (V1 + V2)\n",
        "display(L.simplify())\n"
      ],
      "execution_count": 28,
      "outputs": [
        {
          "output_type": "display_data",
          "data": {
            "text/plain": [
              "<IPython.core.display.HTML object>"
            ],
            "text/html": [
              "<script src='https://cdnjs.cloudflare.com/ajax/libs/mathjax/3.1.1/latest.js?config=TeX-AMS_HTML'></script>"
            ]
          },
          "metadata": {}
        },
        {
          "output_type": "display_data",
          "data": {
            "text/plain": [
              "                                                              2                     2\n",
              "           2                            2          ⎛d        ⎞           ⎛d        ⎞ \n",
              "- 0.5⋅k₁⋅x₁ (t) - 0.5⋅k₂⋅(x₁(t) - x₂(t))  + 0.5⋅m₁⋅⎜──(x₁(t))⎟  + 0.5⋅m₂⋅⎜──(x₂(t))⎟ \n",
              "                                                   ⎝dt       ⎠           ⎝dt       ⎠ "
            ],
            "text/latex": "$\\displaystyle - 0.5 k_{1} x_{1}^{2}{\\left(t \\right)} - 0.5 k_{2} \\left(x_{1}{\\left(t \\right)} - x_{2}{\\left(t \\right)}\\right)^{2} + 0.5 m_{1} \\left(\\frac{d}{d t} x_{1}{\\left(t \\right)}\\right)^{2} + 0.5 m_{2} \\left(\\frac{d}{d t} x_{2}{\\left(t \\right)}\\right)^{2}$"
          },
          "metadata": {}
        }
      ]
    },
    {
      "cell_type": "markdown",
      "metadata": {
        "id": "Xuw8SIBPaXSS"
      },
      "source": [
        "## Problem 3 (10pts)\n",
        "\n",
        "Based on your solution for Problem 2, compute the Euler-Lagrange equations for this system.\n",
        "\n",
        "*Hint 1: In this problem, the system has two configuration variables. Thus, when taking the derivative of the Lagrangian with respect to the system state vector, the derivative is also a vector (sometimes also called the Jacobian of the Lagrangian with respect to system states). Below is an example of several ways to compute the derivative with respect to a vector in SymPy.*"
      ]
    },
    {
      "cell_type": "code",
      "source": [
        "print('\\033[1mDifferent ways of taking the derivative of the Lagrangian with respect ot the system state vector (q)')\n",
        "t = sym.symbols('t')\n",
        "\n",
        "# define two system states as functions\n",
        "x1 = sym.Function(r'x_1')(t)\n",
        "x2 = sym.Function(r'x_2')(t)\n",
        "# wrap system states into one vector (in SymPy would be Matrix)\n",
        "q = sym.Matrix([x1, x2])\n",
        "# define an expression in terms of x1(t) and x2(t)\n",
        "J = sym.sin(x1**2) + sym.cos(x2)**2\n",
        "print('\\n\\033[1mExample expression ')\n",
        "display(J)\n",
        "\n",
        "# compute derivative wrt a vector, method 1\n",
        "# wrap the expression into a SymPy Matrix\n",
        "J_mat = sym.Matrix([J])\n",
        "# SymPy Matrix has built-in method for Jacobian\n",
        "dJdq = J_mat.jacobian(q)\n",
        "print('\\n\\033[1mMethod: built-in Jacobian derivative')\n",
        "display(dJdq) # note that dJdq is 1-by-2 vector, not 2-by-1 as q\n",
        "\n",
        "# compute derivative wrt a vector, method 2: do it one by one\n",
        "dJdx1 = J.diff(x1)\n",
        "dJdx2 = J.diff(x2)\n",
        "dJdq = sym.Matrix([dJdx1, dJdx2]).T # transpose so dimension can match\n",
        "print('\\n\\033[1mMethod: one-by-one')\n",
        "display(dJdq)\n",
        "\n",
        "# compute derivative wrt a vector, method 3: do it one by one ... but in a \"fancy\" way\n",
        "dJdq = []\n",
        "for x in q:\n",
        "    dJdq.append(J.diff(x))\n",
        "dJdq = sym.Matrix([dJdq])\n",
        "print('\\n\\033[1mMethod: for loop')\n",
        "display(dJdq)"
      ],
      "metadata": {
        "colab": {
          "base_uri": "https://localhost:8080/",
          "height": 259
        },
        "id": "e7BOfEj4T7u-",
        "outputId": "3911dbc0-1334-48d8-a245-2728ccee46c1"
      },
      "execution_count": 29,
      "outputs": [
        {
          "output_type": "stream",
          "name": "stdout",
          "text": [
            "\u001b[1mDifferent ways of taking the derivative of the Lagrangian with respect ot the system state vector (q)\n",
            "\n",
            "\u001b[1mExample expression \n"
          ]
        },
        {
          "output_type": "display_data",
          "data": {
            "text/plain": [
              "<IPython.core.display.HTML object>"
            ],
            "text/html": [
              "<script src='https://cdnjs.cloudflare.com/ajax/libs/mathjax/3.1.1/latest.js?config=TeX-AMS_HTML'></script>"
            ]
          },
          "metadata": {}
        },
        {
          "output_type": "display_data",
          "data": {
            "text/plain": [
              "   ⎛  2   ⎞      2       \n",
              "sin⎝x₁ (t)⎠ + cos (x₂(t))"
            ],
            "text/latex": "$\\displaystyle \\sin{\\left(x_{1}^{2}{\\left(t \\right)} \\right)} + \\cos^{2}{\\left(x_{2}{\\left(t \\right)} \\right)}$"
          },
          "metadata": {}
        },
        {
          "output_type": "stream",
          "name": "stdout",
          "text": [
            "\n",
            "\u001b[1mMethod: built-in Jacobian derivative\n"
          ]
        },
        {
          "output_type": "display_data",
          "data": {
            "text/plain": [
              "<IPython.core.display.HTML object>"
            ],
            "text/html": [
              "<script src='https://cdnjs.cloudflare.com/ajax/libs/mathjax/3.1.1/latest.js?config=TeX-AMS_HTML'></script>"
            ]
          },
          "metadata": {}
        },
        {
          "output_type": "display_data",
          "data": {
            "text/plain": [
              "⎡           ⎛  2   ⎞                          ⎤\n",
              "⎣2⋅x₁(t)⋅cos⎝x₁ (t)⎠  -2⋅sin(x₂(t))⋅cos(x₂(t))⎦"
            ],
            "text/latex": "$\\displaystyle \\left[\\begin{matrix}2 x_{1}{\\left(t \\right)} \\cos{\\left(x_{1}^{2}{\\left(t \\right)} \\right)} & - 2 \\sin{\\left(x_{2}{\\left(t \\right)} \\right)} \\cos{\\left(x_{2}{\\left(t \\right)} \\right)}\\end{matrix}\\right]$"
          },
          "metadata": {}
        },
        {
          "output_type": "stream",
          "name": "stdout",
          "text": [
            "\n",
            "\u001b[1mMethod: one-by-one\n"
          ]
        },
        {
          "output_type": "display_data",
          "data": {
            "text/plain": [
              "<IPython.core.display.HTML object>"
            ],
            "text/html": [
              "<script src='https://cdnjs.cloudflare.com/ajax/libs/mathjax/3.1.1/latest.js?config=TeX-AMS_HTML'></script>"
            ]
          },
          "metadata": {}
        },
        {
          "output_type": "display_data",
          "data": {
            "text/plain": [
              "⎡           ⎛  2   ⎞                          ⎤\n",
              "⎣2⋅x₁(t)⋅cos⎝x₁ (t)⎠  -2⋅sin(x₂(t))⋅cos(x₂(t))⎦"
            ],
            "text/latex": "$\\displaystyle \\left[\\begin{matrix}2 x_{1}{\\left(t \\right)} \\cos{\\left(x_{1}^{2}{\\left(t \\right)} \\right)} & - 2 \\sin{\\left(x_{2}{\\left(t \\right)} \\right)} \\cos{\\left(x_{2}{\\left(t \\right)} \\right)}\\end{matrix}\\right]$"
          },
          "metadata": {}
        },
        {
          "output_type": "stream",
          "name": "stdout",
          "text": [
            "\n",
            "\u001b[1mMethod: for loop\n"
          ]
        },
        {
          "output_type": "display_data",
          "data": {
            "text/plain": [
              "<IPython.core.display.HTML object>"
            ],
            "text/html": [
              "<script src='https://cdnjs.cloudflare.com/ajax/libs/mathjax/3.1.1/latest.js?config=TeX-AMS_HTML'></script>"
            ]
          },
          "metadata": {}
        },
        {
          "output_type": "display_data",
          "data": {
            "text/plain": [
              "⎡           ⎛  2   ⎞                          ⎤\n",
              "⎣2⋅x₁(t)⋅cos⎝x₁ (t)⎠  -2⋅sin(x₂(t))⋅cos(x₂(t))⎦"
            ],
            "text/latex": "$\\displaystyle \\left[\\begin{matrix}2 x_{1}{\\left(t \\right)} \\cos{\\left(x_{1}^{2}{\\left(t \\right)} \\right)} & - 2 \\sin{\\left(x_{2}{\\left(t \\right)} \\right)} \\cos{\\left(x_{2}{\\left(t \\right)} \\right)}\\end{matrix}\\right]$"
          },
          "metadata": {}
        }
      ]
    },
    {
      "cell_type": "markdown",
      "source": [
        "**Turn in: A copy of the code used to symbolically compute the Euler-Lagrange equations and the code outpute (i.e. the resulting equations).**"
      ],
      "metadata": {
        "id": "_HVwj1s8T-pw"
      }
    },
    {
      "cell_type": "code",
      "metadata": {
        "id": "o2AafVE6aXSS",
        "colab": {
          "base_uri": "https://localhost:8080/",
          "height": 91
        },
        "outputId": "5fc35580-a2c6-4537-a66f-397c294416cf"
      },
      "source": [
        "##########################################################\n",
        "##########################################################\n",
        "###################### #3 MY SOLUTION ####################\n",
        "##########################################################\n",
        "##########################################################\n",
        "\n",
        "# Derivatives for x1\n",
        "L_simple = L.simplify()\n",
        "dL_dv1 = sym.diff(L, v1_t)\n",
        "d_dt_dL_dv1 = sym.diff(dL_dv1, t)\n",
        "dL_dx1 = sym.diff(L, x1_t)\n",
        "EL_x1 = sym.Eq(dL_dx1 - d_dt_dL_dv1, 0)\n",
        "\n",
        "# Derivatives for x2\n",
        "dL_dv2 = sym.diff(L, v2_t)\n",
        "d_dt_dL_dv2 = sym.diff(dL_dv2, t)\n",
        "dL_dx2 = sym.diff(L, x2_t)\n",
        "EL_x2 = sym.Eq(dL_dx2 - d_dt_dL_dv2, 0)\n",
        "\n",
        "display(EL_x1.simplify())\n",
        "display(EL_x2.simplify())\n"
      ],
      "execution_count": 43,
      "outputs": [
        {
          "output_type": "display_data",
          "data": {
            "text/plain": [
              "<IPython.core.display.HTML object>"
            ],
            "text/html": [
              "<script src='https://cdnjs.cloudflare.com/ajax/libs/mathjax/3.1.1/latest.js?config=TeX-AMS_HTML'></script>"
            ]
          },
          "metadata": {}
        },
        {
          "output_type": "display_data",
          "data": {
            "text/plain": [
              "                                                2            \n",
              "                                               d             \n",
              "1.0⋅k₁⋅x₁(t) + 1.0⋅k₂⋅(x₁(t) - x₂(t)) + 1.0⋅m₁⋅───(x₁(t)) = 0\n",
              "                                                 2           \n",
              "                                               dt            "
            ],
            "text/latex": "$\\displaystyle 1.0 k_{1} x_{1}{\\left(t \\right)} + 1.0 k_{2} \\left(x_{1}{\\left(t \\right)} - x_{2}{\\left(t \\right)}\\right) + 1.0 m_{1} \\frac{d^{2}}{d t^{2}} x_{1}{\\left(t \\right)} = 0$"
          },
          "metadata": {}
        },
        {
          "output_type": "display_data",
          "data": {
            "text/plain": [
              "<IPython.core.display.HTML object>"
            ],
            "text/html": [
              "<script src='https://cdnjs.cloudflare.com/ajax/libs/mathjax/3.1.1/latest.js?config=TeX-AMS_HTML'></script>"
            ]
          },
          "metadata": {}
        },
        {
          "output_type": "display_data",
          "data": {
            "text/plain": [
              "                                 2            \n",
              "                                d             \n",
              "1.0⋅k₂⋅(x₁(t) - x₂(t)) - 1.0⋅m₂⋅───(x₂(t)) = 0\n",
              "                                  2           \n",
              "                                dt            "
            ],
            "text/latex": "$\\displaystyle 1.0 k_{2} \\left(x_{1}{\\left(t \\right)} - x_{2}{\\left(t \\right)}\\right) - 1.0 m_{2} \\frac{d^{2}}{d t^{2}} x_{2}{\\left(t \\right)} = 0$"
          },
          "metadata": {}
        }
      ]
    },
    {
      "cell_type": "markdown",
      "metadata": {
        "id": "72Jg3xWJaXSw"
      },
      "source": [
        "## Problem 4 (15pts)\n",
        "\n",
        "Based on your Euler-Lagrange equations from Problem 3, use Python's SymPy package to solve the equations for the accelerations of the two blocks $\\ddot{x}_1, \\ddot{x}_2$, in terms of position $x_1, x_2$, and velocity $\\dot{x}_1, \\dot{x}_2$. Compare your answer to Problem 1 to see if they match with each other and comment if this is not the case.\n",
        "\n",
        "*Hint 1: Since you need to solve a set of multiple equations symbolically in SymPy, it's recommended to wrap both sides of the equations into SymPy's Matrix object. As an example, below is the code solving the following set of equations (feel free to use this code as a starting point).*\n",
        "$$\n",
        "\\begin{aligned}\n",
        "\\left\\{\n",
        "    \\begin{array}{ll}\n",
        "      x^2 + y = 3 \\\\\n",
        "      x + y = 1\n",
        "    \\end{array}\n",
        "\\right.\n",
        "\\end{aligned}\n",
        "$$"
      ]
    },
    {
      "cell_type": "code",
      "metadata": {
        "id": "VES-iwYBaXSz",
        "colab": {
          "base_uri": "https://localhost:8080/",
          "height": 174
        },
        "outputId": "9a954155-4bed-43a2-e2ca-cba310db7d27"
      },
      "source": [
        "x,y = sym.symbols(r'x,y')\n",
        "# define left hand side as a matrix\n",
        "lhs = sym.Matrix([x**2+y, x+y])\n",
        "\n",
        "# define right hand side as a Matrix\n",
        "rhs = sym.Matrix([3, 1])\n",
        "\n",
        "# define the equations\n",
        "eqn = sym.Eq(lhs, rhs)\n",
        "\n",
        "# solve it for both x and y\n",
        "q = sym.Matrix([x, y])\n",
        "soln = sym.solve(eqn, q, dict=True) # this will return the solution\n",
        "                                     # as a Python dictionary\n",
        "for sol in soln:\n",
        "    print('\\n\\033[1mSolution: ')\n",
        "    for v in q:\n",
        "        display(sym.Eq(v, sol[v]))"
      ],
      "execution_count": 31,
      "outputs": [
        {
          "output_type": "stream",
          "name": "stdout",
          "text": [
            "\n",
            "\u001b[1mSolution: \n"
          ]
        },
        {
          "output_type": "display_data",
          "data": {
            "text/plain": [
              "<IPython.core.display.HTML object>"
            ],
            "text/html": [
              "<script src='https://cdnjs.cloudflare.com/ajax/libs/mathjax/3.1.1/latest.js?config=TeX-AMS_HTML'></script>"
            ]
          },
          "metadata": {}
        },
        {
          "output_type": "display_data",
          "data": {
            "text/plain": [
              "x = -1"
            ],
            "text/latex": "$\\displaystyle x = -1$"
          },
          "metadata": {}
        },
        {
          "output_type": "display_data",
          "data": {
            "text/plain": [
              "<IPython.core.display.HTML object>"
            ],
            "text/html": [
              "<script src='https://cdnjs.cloudflare.com/ajax/libs/mathjax/3.1.1/latest.js?config=TeX-AMS_HTML'></script>"
            ]
          },
          "metadata": {}
        },
        {
          "output_type": "display_data",
          "data": {
            "text/plain": [
              "y = 2"
            ],
            "text/latex": "$\\displaystyle y = 2$"
          },
          "metadata": {}
        },
        {
          "output_type": "stream",
          "name": "stdout",
          "text": [
            "\n",
            "\u001b[1mSolution: \n"
          ]
        },
        {
          "output_type": "display_data",
          "data": {
            "text/plain": [
              "<IPython.core.display.HTML object>"
            ],
            "text/html": [
              "<script src='https://cdnjs.cloudflare.com/ajax/libs/mathjax/3.1.1/latest.js?config=TeX-AMS_HTML'></script>"
            ]
          },
          "metadata": {}
        },
        {
          "output_type": "display_data",
          "data": {
            "text/plain": [
              "x = 2"
            ],
            "text/latex": "$\\displaystyle x = 2$"
          },
          "metadata": {}
        },
        {
          "output_type": "display_data",
          "data": {
            "text/plain": [
              "<IPython.core.display.HTML object>"
            ],
            "text/html": [
              "<script src='https://cdnjs.cloudflare.com/ajax/libs/mathjax/3.1.1/latest.js?config=TeX-AMS_HTML'></script>"
            ]
          },
          "metadata": {}
        },
        {
          "output_type": "display_data",
          "data": {
            "text/plain": [
              "y = -1"
            ],
            "text/latex": "$\\displaystyle y = -1$"
          },
          "metadata": {}
        }
      ]
    },
    {
      "cell_type": "markdown",
      "metadata": {
        "id": "XpXlPCKGaXS1"
      },
      "source": [
        "**Turn in: A copy of the code you used to solve the Euler-Lagrange equations and the code output (i.e. the resulting symbolic solutions).**"
      ]
    },
    {
      "cell_type": "code",
      "metadata": {
        "id": "T-A50gSgaXS2",
        "colab": {
          "base_uri": "https://localhost:8080/",
          "height": 287
        },
        "outputId": "c2394433-e41f-4343-e2a6-2d7cfaeff438"
      },
      "source": [
        "##########################################################\n",
        "##########################################################\n",
        "###################### #4 MY SOLUTION ####################\n",
        "##########################################################\n",
        "##########################################################\n",
        "\n",
        "EL_x1_simple = EL_x1.simplify()\n",
        "EL_x2_simple = EL_x2.simplify()\n",
        "\n",
        "# solve with respect to x 2 dot\n",
        "d_dt_dL_dv1_solved = sym.solve(EL_x1_simple, x1_t.diff(t, 2))\n",
        "display(Markdown(f\"Simplified Equation for $a_1$\"))\n",
        "display(sym.Eq(a1, d_dt_dL_dv1_solved[0]))\n",
        "print()\n",
        "print()\n",
        "\n",
        "display(Markdown(f\"Simplified Equation for $a_2$\"))\n",
        "d_dt_dL_dv2_solved = sym.solve(EL_x2_simple, x2_t.diff(t, 2))\n",
        "display(sym.Eq(a2, d_dt_dL_dv2_solved[0]))\n",
        "\n",
        "numerical_values = {m1: 1, m2: 2, k1: 0.5, k2: 0.8, x1: 1, x2: 3}\n",
        "\n",
        "# numerical func\n",
        "x1_2dot_numerical = sym.lambdify((x1, x2), d_dt_dL_dv1_solved[0].subs(numerical_values))\n",
        "x2_2dot_numerical = sym.lambdify((x1, x2), d_dt_dL_dv2_solved[0].subs(numerical_values))\n",
        "accelaration1 = x1_2dot_numerical(1, 3)\n",
        "accelaration2 = x2_2dot_numerical(1, 3)\n",
        "\n",
        "print()\n",
        "display(Markdown(\"Plugging in\"))\n",
        "display(sym.Eq(a1, accelaration1))\n",
        "display(sym.Eq(a2, accelaration2))"
      ],
      "execution_count": 44,
      "outputs": [
        {
          "output_type": "display_data",
          "data": {
            "text/plain": [
              "<IPython.core.display.Markdown object>"
            ],
            "text/markdown": "Simplified Equation for $a_1$"
          },
          "metadata": {}
        },
        {
          "output_type": "display_data",
          "data": {
            "text/plain": [
              "<IPython.core.display.HTML object>"
            ],
            "text/html": [
              "<script src='https://cdnjs.cloudflare.com/ajax/libs/mathjax/3.1.1/latest.js?config=TeX-AMS_HTML'></script>"
            ]
          },
          "metadata": {}
        },
        {
          "output_type": "display_data",
          "data": {
            "text/plain": [
              "     -k₁⋅x₁(t) - k₂⋅x₁(t) + k₂⋅x₂(t)\n",
              "a₁ = ───────────────────────────────\n",
              "                   m₁               "
            ],
            "text/latex": "$\\displaystyle a_{1} = \\frac{- k_{1} x_{1}{\\left(t \\right)} - k_{2} x_{1}{\\left(t \\right)} + k_{2} x_{2}{\\left(t \\right)}}{m_{1}}$"
          },
          "metadata": {}
        },
        {
          "output_type": "stream",
          "name": "stdout",
          "text": [
            "\n",
            "\n"
          ]
        },
        {
          "output_type": "display_data",
          "data": {
            "text/plain": [
              "<IPython.core.display.Markdown object>"
            ],
            "text/markdown": "Simplified Equation for $a_2$"
          },
          "metadata": {}
        },
        {
          "output_type": "display_data",
          "data": {
            "text/plain": [
              "<IPython.core.display.HTML object>"
            ],
            "text/html": [
              "<script src='https://cdnjs.cloudflare.com/ajax/libs/mathjax/3.1.1/latest.js?config=TeX-AMS_HTML'></script>"
            ]
          },
          "metadata": {}
        },
        {
          "output_type": "display_data",
          "data": {
            "text/plain": [
              "     k₂⋅(x₁(t) - x₂(t))\n",
              "a₂ = ──────────────────\n",
              "             m₂        "
            ],
            "text/latex": "$\\displaystyle a_{2} = \\frac{k_{2} \\left(x_{1}{\\left(t \\right)} - x_{2}{\\left(t \\right)}\\right)}{m_{2}}$"
          },
          "metadata": {}
        },
        {
          "output_type": "stream",
          "name": "stdout",
          "text": [
            "\n"
          ]
        },
        {
          "output_type": "display_data",
          "data": {
            "text/plain": [
              "<IPython.core.display.Markdown object>"
            ],
            "text/markdown": "Plugging in"
          },
          "metadata": {}
        },
        {
          "output_type": "display_data",
          "data": {
            "text/plain": [
              "<IPython.core.display.HTML object>"
            ],
            "text/html": [
              "<script src='https://cdnjs.cloudflare.com/ajax/libs/mathjax/3.1.1/latest.js?config=TeX-AMS_HTML'></script>"
            ]
          },
          "metadata": {}
        },
        {
          "output_type": "display_data",
          "data": {
            "text/plain": [
              "a₁ = 1.1"
            ],
            "text/latex": "$\\displaystyle a_{1} = 1.1$"
          },
          "metadata": {}
        },
        {
          "output_type": "display_data",
          "data": {
            "text/plain": [
              "<IPython.core.display.HTML object>"
            ],
            "text/html": [
              "<script src='https://cdnjs.cloudflare.com/ajax/libs/mathjax/3.1.1/latest.js?config=TeX-AMS_HTML'></script>"
            ]
          },
          "metadata": {}
        },
        {
          "output_type": "display_data",
          "data": {
            "text/plain": [
              "a₂ = -0.8"
            ],
            "text/latex": "$\\displaystyle a_{2} = -0.8$"
          },
          "metadata": {}
        }
      ]
    },
    {
      "cell_type": "markdown",
      "source": [
        "**Explanation: This yields the same result as the Newtonian solution**"
      ],
      "metadata": {
        "id": "AMv4C2IS2urb"
      }
    },
    {
      "cell_type": "markdown",
      "metadata": {
        "id": "rmzz-xtCaXS4"
      },
      "source": [
        "## Problem 5 (10pts)"
      ]
    },
    {
      "cell_type": "code",
      "source": [
        "from IPython.core.display import HTML\n",
        "display(HTML(\"<table><tr><td><img src='https://raw.githubusercontent.com/MuchenSun/ME314pngs/master/dyninvpend.png' width=500' height='350'></table>\"))"
      ],
      "metadata": {
        "colab": {
          "base_uri": "https://localhost:8080/",
          "height": 377
        },
        "id": "q3lbk_JjUG7w",
        "outputId": "f9c8789d-d3a4-4400-c355-5bb0e226059a"
      },
      "execution_count": 33,
      "outputs": [
        {
          "output_type": "display_data",
          "data": {
            "text/plain": [
              "<IPython.core.display.HTML object>"
            ],
            "text/html": [
              "<table><tr><td><img src='https://raw.githubusercontent.com/MuchenSun/ME314pngs/master/dyninvpend.png' width=500' height='350'></table>"
            ]
          },
          "metadata": {}
        }
      ]
    },
    {
      "cell_type": "markdown",
      "source": [
        "\n",
        "You are given the unforced inverted cart-pendulum as shown below. The pendulum is in gravity and can swing freely (the cart will not interfere with pendulum's motion). The cart can move freely in the horizontal direction. Take $x$ and $\\theta$ as the system configuration variables and compute the Lagrangian of the system using Python's SymPy package. Provide symoblic solution of the Lagrangian with $m$, $R$, and $M$ as symbols instead of given constants.\n",
        "\n",
        "*Hint 1: Assume that the positive direction for the rotation of the pendulum $\\dot{\\theta}$ is clockwise. Likewise, the positive direction for the translation of the cart is to the right.*\n",
        "\n",
        "*Hint 2: You will need to define $m$, $R$, and $M$ as SymPy's symbols.*\n",
        "\n",
        "*Hint 3: Note that the pendulum is attached to the cart! In order to compute the kinetic energy of the pendulum, the velocity of the cart needs to be considered. One suggestion is to compute the velocity of the pendulum in a different coordinate system (other than Cartesian with $x$ and $y$ coordinates).*"
      ],
      "metadata": {
        "id": "W3og15vlYNcs"
      }
    },
    {
      "cell_type": "markdown",
      "metadata": {
        "id": "UBG_nJa0aXS7"
      },
      "source": [
        "**Turn in: A copy of the code used to symbolically compute Lagrangian and the code output (i.e. the computed expression of the Lagrangian).**"
      ]
    },
    {
      "cell_type": "code",
      "metadata": {
        "id": "OYaAr10EaXS7",
        "colab": {
          "base_uri": "https://localhost:8080/",
          "height": 529
        },
        "outputId": "39757c71-d2b1-40fc-b0ef-0f40c101e382"
      },
      "source": [
        "##########################################################\n",
        "##########################################################\n",
        "###################### #5 MY SOLUTION ####################\n",
        "##########################################################\n",
        "##########################################################\n",
        "\n",
        "# You can start your implementation here :)\n",
        "# q configuration is theta and x (all the x below means x dot)\n",
        "# the frame we choose is the pivot point\n",
        "# kinetic energy of the pendulum bob would be defined\n",
        "#  1/2m(v^2)\n",
        "# y_m = Rcos(theta)\n",
        "# x_m = Rsin(theta) + x\n",
        "# For kinetic energy we want the magnitude of the velocity\n",
        "# sqrt(x_m^2 + y_m^2)\n",
        "# v = (sqrt(x_m^2 + y_m^2))^2 -> x_m^2 + y_m^2\n",
        "# KE = (1/2)m(R^2cos(theta)^2 + R^2sin(theta)^2 + 2xRsin(theta) + x^2) + (1/2)Mx^2\n",
        "# PE = mgRcos(theta)\n",
        "\n",
        "\n",
        "R, m, M, g, t, y_m, x_m = sym.symbols('R m M g t y_m x_m')\n",
        "x = sym.Function(r'x')(t)\n",
        "theta = sym.Function(r'theta')(t)\n",
        "\n",
        "pretty_y_m = sym.Eq(y_m, R * sym.cos(theta))\n",
        "pretty_x_m = sym.Eq(x_m, R * sym.sin(theta) + x)\n",
        "\n",
        "display(Markdown('**X and Y** have the following configuration'))\n",
        "display(pretty_x_m)\n",
        "display(pretty_y_m)\n",
        "\n",
        "x_m = R * sym.sin(theta) + x\n",
        "y_m = R * sym.cos(theta)\n",
        "\n",
        "x_mt = sym.diff(x_m, t)\n",
        "y_mt = sym.diff(y_m, t)\n",
        "\n",
        "kinetic_energy_pendulum = (1/2) * m * (x_mt**2 + y_mt**2)\n",
        "print()\n",
        "print()\n",
        "display(Markdown('Pendulum Kinetic Energy'))\n",
        "display(kinetic_energy_pendulum.simplify())\n",
        "\n",
        "kinetic_energy_cart = (1/2) * M * (x.diff(t))**2\n",
        "\n",
        "display(Markdown('Cart Kinetic Energy'))\n",
        "display(kinetic_energy_cart)\n",
        "\n",
        "potential_energy_pendulum = m * g * R * sym.cos(theta)\n",
        "\n",
        "print()\n",
        "print()\n",
        "display(Markdown('Pendulum Potential Energy'))\n",
        "display(potential_energy_pendulum)\n",
        "display(Markdown('Cart Potential Energy'))\n",
        "display(0)\n",
        "\n",
        "Lagrangian = (kinetic_energy_cart + kinetic_energy_pendulum) - potential_energy_pendulum\n",
        "print()\n",
        "print()\n",
        "display(Markdown('Lagrangian'))\n",
        "display(Lagrangian.simplify())"
      ],
      "execution_count": 34,
      "outputs": [
        {
          "output_type": "display_data",
          "data": {
            "text/plain": [
              "<IPython.core.display.Markdown object>"
            ],
            "text/markdown": "**X and Y** have the following configuration"
          },
          "metadata": {}
        },
        {
          "output_type": "display_data",
          "data": {
            "text/plain": [
              "<IPython.core.display.HTML object>"
            ],
            "text/html": [
              "<script src='https://cdnjs.cloudflare.com/ajax/libs/mathjax/3.1.1/latest.js?config=TeX-AMS_HTML'></script>"
            ]
          },
          "metadata": {}
        },
        {
          "output_type": "display_data",
          "data": {
            "text/plain": [
              "xₘ = R⋅sin(θ(t)) + x(t)"
            ],
            "text/latex": "$\\displaystyle x_{m} = R \\sin{\\left(\\theta{\\left(t \\right)} \\right)} + x{\\left(t \\right)}$"
          },
          "metadata": {}
        },
        {
          "output_type": "display_data",
          "data": {
            "text/plain": [
              "<IPython.core.display.HTML object>"
            ],
            "text/html": [
              "<script src='https://cdnjs.cloudflare.com/ajax/libs/mathjax/3.1.1/latest.js?config=TeX-AMS_HTML'></script>"
            ]
          },
          "metadata": {}
        },
        {
          "output_type": "display_data",
          "data": {
            "text/plain": [
              "yₘ = R⋅cos(θ(t))"
            ],
            "text/latex": "$\\displaystyle y_{m} = R \\cos{\\left(\\theta{\\left(t \\right)} \\right)}$"
          },
          "metadata": {}
        },
        {
          "output_type": "stream",
          "name": "stdout",
          "text": [
            "\n",
            "\n"
          ]
        },
        {
          "output_type": "display_data",
          "data": {
            "text/plain": [
              "<IPython.core.display.Markdown object>"
            ],
            "text/markdown": "Pendulum Kinetic Energy"
          },
          "metadata": {}
        },
        {
          "output_type": "display_data",
          "data": {
            "text/plain": [
              "<IPython.core.display.HTML object>"
            ],
            "text/html": [
              "<script src='https://cdnjs.cloudflare.com/ajax/libs/mathjax/3.1.1/latest.js?config=TeX-AMS_HTML'></script>"
            ]
          },
          "metadata": {}
        },
        {
          "output_type": "display_data",
          "data": {
            "text/plain": [
              "      ⎛             2                                               2⎞\n",
              "      ⎜ 2 ⎛d       ⎞                  d        d          ⎛d       ⎞ ⎟\n",
              "0.5⋅m⋅⎜R ⋅⎜──(θ(t))⎟  + 2⋅R⋅cos(θ(t))⋅──(θ(t))⋅──(x(t)) + ⎜──(x(t))⎟ ⎟\n",
              "      ⎝   ⎝dt      ⎠                  dt       dt         ⎝dt      ⎠ ⎠"
            ],
            "text/latex": "$\\displaystyle 0.5 m \\left(R^{2} \\left(\\frac{d}{d t} \\theta{\\left(t \\right)}\\right)^{2} + 2 R \\cos{\\left(\\theta{\\left(t \\right)} \\right)} \\frac{d}{d t} \\theta{\\left(t \\right)} \\frac{d}{d t} x{\\left(t \\right)} + \\left(\\frac{d}{d t} x{\\left(t \\right)}\\right)^{2}\\right)$"
          },
          "metadata": {}
        },
        {
          "output_type": "display_data",
          "data": {
            "text/plain": [
              "<IPython.core.display.Markdown object>"
            ],
            "text/markdown": "Cart Kinetic Energy"
          },
          "metadata": {}
        },
        {
          "output_type": "display_data",
          "data": {
            "text/plain": [
              "<IPython.core.display.HTML object>"
            ],
            "text/html": [
              "<script src='https://cdnjs.cloudflare.com/ajax/libs/mathjax/3.1.1/latest.js?config=TeX-AMS_HTML'></script>"
            ]
          },
          "metadata": {}
        },
        {
          "output_type": "display_data",
          "data": {
            "text/plain": [
              "                2\n",
              "      ⎛d       ⎞ \n",
              "0.5⋅M⋅⎜──(x(t))⎟ \n",
              "      ⎝dt      ⎠ "
            ],
            "text/latex": "$\\displaystyle 0.5 M \\left(\\frac{d}{d t} x{\\left(t \\right)}\\right)^{2}$"
          },
          "metadata": {}
        },
        {
          "output_type": "stream",
          "name": "stdout",
          "text": [
            "\n",
            "\n"
          ]
        },
        {
          "output_type": "display_data",
          "data": {
            "text/plain": [
              "<IPython.core.display.Markdown object>"
            ],
            "text/markdown": "Pendulum Potential Energy"
          },
          "metadata": {}
        },
        {
          "output_type": "display_data",
          "data": {
            "text/plain": [
              "<IPython.core.display.HTML object>"
            ],
            "text/html": [
              "<script src='https://cdnjs.cloudflare.com/ajax/libs/mathjax/3.1.1/latest.js?config=TeX-AMS_HTML'></script>"
            ]
          },
          "metadata": {}
        },
        {
          "output_type": "display_data",
          "data": {
            "text/plain": [
              "R⋅g⋅m⋅cos(θ(t))"
            ],
            "text/latex": "$\\displaystyle R g m \\cos{\\left(\\theta{\\left(t \\right)} \\right)}$"
          },
          "metadata": {}
        },
        {
          "output_type": "display_data",
          "data": {
            "text/plain": [
              "<IPython.core.display.Markdown object>"
            ],
            "text/markdown": "Cart Potential Energy"
          },
          "metadata": {}
        },
        {
          "output_type": "display_data",
          "data": {
            "text/plain": [
              "<IPython.core.display.HTML object>"
            ],
            "text/html": [
              "<script src='https://cdnjs.cloudflare.com/ajax/libs/mathjax/3.1.1/latest.js?config=TeX-AMS_HTML'></script>"
            ]
          },
          "metadata": {}
        },
        {
          "output_type": "display_data",
          "data": {
            "text/plain": [
              "0"
            ],
            "text/latex": "$\\displaystyle 0$"
          },
          "metadata": {}
        },
        {
          "output_type": "stream",
          "name": "stdout",
          "text": [
            "\n",
            "\n"
          ]
        },
        {
          "output_type": "display_data",
          "data": {
            "text/plain": [
              "<IPython.core.display.Markdown object>"
            ],
            "text/markdown": "Lagrangian"
          },
          "metadata": {}
        },
        {
          "output_type": "display_data",
          "data": {
            "text/plain": [
              "<IPython.core.display.HTML object>"
            ],
            "text/html": [
              "<script src='https://cdnjs.cloudflare.com/ajax/libs/mathjax/3.1.1/latest.js?config=TeX-AMS_HTML'></script>"
            ]
          },
          "metadata": {}
        },
        {
          "output_type": "display_data",
          "data": {
            "text/plain": [
              "                2                           ⎛             2                                        ↪\n",
              "      ⎛d       ⎞                            ⎜ 2 ⎛d       ⎞                  d        d          ⎛d ↪\n",
              "0.5⋅M⋅⎜──(x(t))⎟  - R⋅g⋅m⋅cos(θ(t)) + 0.5⋅m⋅⎜R ⋅⎜──(θ(t))⎟  + 2⋅R⋅cos(θ(t))⋅──(θ(t))⋅──(x(t)) + ⎜─ ↪\n",
              "      ⎝dt      ⎠                            ⎝   ⎝dt      ⎠                  dt       dt         ⎝d ↪\n",
              "\n",
              "↪         2⎞\n",
              "↪        ⎞ ⎟\n",
              "↪ ─(x(t))⎟ ⎟\n",
              "↪ t      ⎠ ⎠"
            ],
            "text/latex": "$\\displaystyle 0.5 M \\left(\\frac{d}{d t} x{\\left(t \\right)}\\right)^{2} - R g m \\cos{\\left(\\theta{\\left(t \\right)} \\right)} + 0.5 m \\left(R^{2} \\left(\\frac{d}{d t} \\theta{\\left(t \\right)}\\right)^{2} + 2 R \\cos{\\left(\\theta{\\left(t \\right)} \\right)} \\frac{d}{d t} \\theta{\\left(t \\right)} \\frac{d}{d t} x{\\left(t \\right)} + \\left(\\frac{d}{d t} x{\\left(t \\right)}\\right)^{2}\\right)$"
          },
          "metadata": {}
        }
      ]
    },
    {
      "cell_type": "markdown",
      "source": [
        "## Problem 6 (15pts)\n",
        "\n",
        "Based on your solution in Problem 5, compute the Euler-Lagrange equations for this inverted cart-pendulun system using Python's SymPy package.\n",
        "\n",
        "**Turn in: A copy of the code used to symbolically compute Euler-Lagrange equations  and the code output (i.e. the computed expression of the Lagrangian).**"
      ],
      "metadata": {
        "id": "TZOarGN7UOa8"
      }
    },
    {
      "cell_type": "code",
      "source": [
        "##########################################################\n",
        "##########################################################\n",
        "###################### #6 MY SOLUTION ####################\n",
        "##########################################################\n",
        "##########################################################\n",
        "\n",
        "# x\n",
        "dL_dx_dot = sym.diff(Lagrangian, sym.diff(x, t))\n",
        "d_dt_dL_dx_dot = sym.diff(dL_dx_dot, t)\n",
        "dL_dx = sym.diff(L, x)\n",
        "\n",
        "euler_lagrange_x = dL_dx - d_dt_dL_dx_dot\n",
        "\n",
        "# theta\n",
        "dL_dtheta_dot = sym.diff(Lagrangian, sym.diff(theta, t))\n",
        "d_dt_dL_dtheta_dot = sym.diff(dL_dtheta_dot, t)\n",
        "dL_dtheta = sym.diff(Lagrangian, theta)\n",
        "\n",
        "euler_lagrange_theta = dL_dtheta -  d_dt_dL_dtheta_dot\n",
        "\n",
        "display(sym.Eq(euler_lagrange_x.simplify(), 0))\n",
        "display(sym.Eq(euler_lagrange_theta.simplify(), 0))\n"
      ],
      "metadata": {
        "id": "i_1qHTNWUNq1",
        "colab": {
          "base_uri": "https://localhost:8080/",
          "height": 109
        },
        "outputId": "01f90a2a-09ea-479d-cb36-3af2c3e3adfb"
      },
      "execution_count": 45,
      "outputs": [
        {
          "output_type": "display_data",
          "data": {
            "text/plain": [
              "<IPython.core.display.HTML object>"
            ],
            "text/html": [
              "<script src='https://cdnjs.cloudflare.com/ajax/libs/mathjax/3.1.1/latest.js?config=TeX-AMS_HTML'></script>"
            ]
          },
          "metadata": {}
        },
        {
          "output_type": "display_data",
          "data": {
            "text/plain": [
              "         2                ⎛                        2                2           2       ⎞    \n",
              "        d                 ⎜              ⎛d       ⎞                d           d        ⎟    \n",
              "- 1.0⋅M⋅───(x(t)) - 1.0⋅m⋅⎜- R⋅sin(θ(t))⋅⎜──(θ(t))⎟  + R⋅cos(θ(t))⋅───(θ(t)) + ───(x(t))⎟ = 0\n",
              "          2               ⎜              ⎝dt      ⎠                  2           2      ⎟    \n",
              "        dt                ⎝                                        dt          dt       ⎠    "
            ],
            "text/latex": "$\\displaystyle - 1.0 M \\frac{d^{2}}{d t^{2}} x{\\left(t \\right)} - 1.0 m \\left(- R \\sin{\\left(\\theta{\\left(t \\right)} \\right)} \\left(\\frac{d}{d t} \\theta{\\left(t \\right)}\\right)^{2} + R \\cos{\\left(\\theta{\\left(t \\right)} \\right)} \\frac{d^{2}}{d t^{2}} \\theta{\\left(t \\right)} + \\frac{d^{2}}{d t^{2}} x{\\left(t \\right)}\\right) = 0$"
          },
          "metadata": {}
        },
        {
          "output_type": "display_data",
          "data": {
            "text/plain": [
              "<IPython.core.display.HTML object>"
            ],
            "text/html": [
              "<script src='https://cdnjs.cloudflare.com/ajax/libs/mathjax/3.1.1/latest.js?config=TeX-AMS_HTML'></script>"
            ]
          },
          "metadata": {}
        },
        {
          "output_type": "display_data",
          "data": {
            "text/plain": [
              "        ⎛     2                                   2       ⎞    \n",
              "        ⎜    d                                   d        ⎟    \n",
              "1.0⋅R⋅m⋅⎜- R⋅───(θ(t)) + g⋅sin(θ(t)) - cos(θ(t))⋅───(x(t))⎟ = 0\n",
              "        ⎜      2                                   2      ⎟    \n",
              "        ⎝    dt                                  dt       ⎠    "
            ],
            "text/latex": "$\\displaystyle 1.0 R m \\left(- R \\frac{d^{2}}{d t^{2}} \\theta{\\left(t \\right)} + g \\sin{\\left(\\theta{\\left(t \\right)} \\right)} - \\cos{\\left(\\theta{\\left(t \\right)} \\right)} \\frac{d^{2}}{d t^{2}} x{\\left(t \\right)}\\right) = 0$"
          },
          "metadata": {}
        }
      ]
    },
    {
      "cell_type": "markdown",
      "source": [
        "## Problem 7 (15pts)\n",
        "\n",
        "Find symbolic expressions of $\\ddot{x}$ and $\\ddot{\\theta}$ from the Euler-Lagrange equations in Problem 6 using SymPy's **`solve()`** method (NOTE: the expressions should be in terms of $x$, $\\theta$, $\\dot{x}$ and $\\dot{\\theta}$ only). Convert these results to numerical functions using SymPy's **`lambdify()`** method by substituting $M, m, R, g$ symbols with $M=2, m=1, R=1, g=9.8$ values. Test your numerical functions of $\\ddot{x}$ and $\\ddot{\\theta}$ by evaluating them given $x=0, \\theta=0.1, \\dot{x}=0, \\dot{\\theta}=0$ as function inputs.\n",
        "\n",
        "**Turn in: A copy of the code used to symbolically solve and numerically evaluate the solutions of Euler-Lagrange equations (i.e. $\\ddot{x}$ and $\\ddot{\\theta}$). Include the code output, consisting of symbolic expression of $\\ddot{x}$ and $\\ddot{\\theta}$, as well as your test results for the numerical evaluations.**"
      ],
      "metadata": {
        "id": "JvEeknCXUQMF"
      }
    },
    {
      "cell_type": "code",
      "metadata": {
        "id": "nVpc5FEGaXTC",
        "colab": {
          "base_uri": "https://localhost:8080/",
          "height": 473
        },
        "outputId": "d377e1a0-6c65-400e-9535-56ff65fcebcd"
      },
      "source": [
        "##########################################################\n",
        "##########################################################\n",
        "###################### #7 MY SOLUTION ####################\n",
        "##########################################################\n",
        "##########################################################\n",
        "\n",
        "# You can start your implementation here :)\n",
        "x_solved = sym.solve(euler_lagrange_x, x.diff(t, 2))[0]\n",
        "theta_solved = sym.solve(euler_lagrange_theta, theta.diff(t, 2))[0]\n",
        "\n",
        "display(sym.Eq(x.diff(t, 2), x_solved))\n",
        "print()\n",
        "display(sym.Eq(theta.diff(t, 2), theta_solved))\n",
        "\n",
        "numerical_values = {M: 2, m: 1, R: 1, g: 9.8 }\n",
        "\n",
        "\n",
        "x_solved_numerical = x_solved.subs(numerical_values)\n",
        "theta_solved_numerical = theta_solved.subs(numerical_values)\n",
        "print()\n",
        "print()\n",
        "display(Markdown(\"Numerical solutions for x_2dot and theta_2dot\"))\n",
        "\n",
        "display(sym.Eq(x.diff(t, 2), x_solved_numerical))\n",
        "print()\n",
        "print()\n",
        "display(sym.Eq(theta.diff(t, 2), theta_solved_numerical))\n",
        "\n",
        "# define left hand side as a matrix\n",
        "lhs = sym.Matrix([x_solved_numerical, theta_solved_numerical])\n",
        "\n",
        "# define right hand side as a Matrix\n",
        "rhs = sym.Matrix([x.diff(t, 2), theta.diff(t, 2)])\n",
        "\n",
        "# define the equations\n",
        "eqn = sym.Eq(lhs, rhs)\n",
        "\n",
        "# solve it for both x and y\n",
        "q = sym.Matrix([x.diff(t, 2), theta.diff(t, 2)])\n",
        "soln = sym.solve(eqn, q, dict=True) # this will return the solution\n",
        "                                     # as a Python dictionary\n",
        "\n",
        "numerical_solutions = {}\n",
        "symbolic_solutions = {}\n",
        "\n",
        "for sol in soln:\n",
        "    print('\\n\\033[1mSolution: ')\n",
        "    for v in q:\n",
        "        display(sym.Eq(v, sol[v]))\n",
        "\n",
        "\n",
        "        l = sym.lambdify([x, x.diff(t), theta, theta.diff(t)], sol[v])\n",
        "\n",
        "        display(l(0, 0, 0.1, 0))\n",
        "        symbolic_solutions[v] = sol[v]\n",
        "        numerical_solutions[v] = l(0, 0, 0.1, 0)\n",
        ""
      ],
      "execution_count": 46,
      "outputs": [
        {
          "output_type": "display_data",
          "data": {
            "text/plain": [
              "<IPython.core.display.HTML object>"
            ],
            "text/html": [
              "<script src='https://cdnjs.cloudflare.com/ajax/libs/mathjax/3.1.1/latest.js?config=TeX-AMS_HTML'></script>"
            ]
          },
          "metadata": {}
        },
        {
          "output_type": "display_data",
          "data": {
            "text/plain": [
              "                ⎛                    2              2       ⎞\n",
              "                ⎜          ⎛d       ⎞              d        ⎟\n",
              "            R⋅m⋅⎜sin(θ(t))⋅⎜──(θ(t))⎟  - cos(θ(t))⋅───(θ(t))⎟\n",
              " 2              ⎜          ⎝dt      ⎠                2      ⎟\n",
              "d               ⎝                                  dt       ⎠\n",
              "───(x(t)) = ─────────────────────────────────────────────────\n",
              "  2                               M + m                      \n",
              "dt                                                           "
            ],
            "text/latex": "$\\displaystyle \\frac{d^{2}}{d t^{2}} x{\\left(t \\right)} = \\frac{R m \\left(\\sin{\\left(\\theta{\\left(t \\right)} \\right)} \\left(\\frac{d}{d t} \\theta{\\left(t \\right)}\\right)^{2} - \\cos{\\left(\\theta{\\left(t \\right)} \\right)} \\frac{d^{2}}{d t^{2}} \\theta{\\left(t \\right)}\\right)}{M + m}$"
          },
          "metadata": {}
        },
        {
          "output_type": "stream",
          "name": "stdout",
          "text": [
            "\n"
          ]
        },
        {
          "output_type": "display_data",
          "data": {
            "text/plain": [
              "<IPython.core.display.HTML object>"
            ],
            "text/html": [
              "<script src='https://cdnjs.cloudflare.com/ajax/libs/mathjax/3.1.1/latest.js?config=TeX-AMS_HTML'></script>"
            ]
          },
          "metadata": {}
        },
        {
          "output_type": "display_data",
          "data": {
            "text/plain": [
              "                                     2       \n",
              "                                    d        \n",
              "            g⋅sin(θ(t)) - cos(θ(t))⋅───(x(t))\n",
              " 2                                    2      \n",
              "d                                   dt       \n",
              "───(θ(t)) = ─────────────────────────────────\n",
              "  2                         R                \n",
              "dt                                           "
            ],
            "text/latex": "$\\displaystyle \\frac{d^{2}}{d t^{2}} \\theta{\\left(t \\right)} = \\frac{g \\sin{\\left(\\theta{\\left(t \\right)} \\right)} - \\cos{\\left(\\theta{\\left(t \\right)} \\right)} \\frac{d^{2}}{d t^{2}} x{\\left(t \\right)}}{R}$"
          },
          "metadata": {}
        },
        {
          "output_type": "stream",
          "name": "stdout",
          "text": [
            "\n",
            "\n"
          ]
        },
        {
          "output_type": "display_data",
          "data": {
            "text/plain": [
              "<IPython.core.display.Markdown object>"
            ],
            "text/markdown": "Numerical solutions for x_2dot and theta_2dot"
          },
          "metadata": {}
        },
        {
          "output_type": "display_data",
          "data": {
            "text/plain": [
              "<IPython.core.display.HTML object>"
            ],
            "text/html": [
              "<script src='https://cdnjs.cloudflare.com/ajax/libs/mathjax/3.1.1/latest.js?config=TeX-AMS_HTML'></script>"
            ]
          },
          "metadata": {}
        },
        {
          "output_type": "display_data",
          "data": {
            "text/plain": [
              "                                               2       \n",
              "                                2             d        \n",
              "                      ⎛d       ⎞    cos(θ(t))⋅───(θ(t))\n",
              " 2          sin(θ(t))⋅⎜──(θ(t))⎟                2      \n",
              "d                     ⎝dt      ⎠              dt       \n",
              "───(x(t)) = ───────────────────── - ───────────────────\n",
              "  2                   3                      3         \n",
              "dt                                                     "
            ],
            "text/latex": "$\\displaystyle \\frac{d^{2}}{d t^{2}} x{\\left(t \\right)} = \\frac{\\sin{\\left(\\theta{\\left(t \\right)} \\right)} \\left(\\frac{d}{d t} \\theta{\\left(t \\right)}\\right)^{2}}{3} - \\frac{\\cos{\\left(\\theta{\\left(t \\right)} \\right)} \\frac{d^{2}}{d t^{2}} \\theta{\\left(t \\right)}}{3}$"
          },
          "metadata": {}
        },
        {
          "output_type": "stream",
          "name": "stdout",
          "text": [
            "\n",
            "\n"
          ]
        },
        {
          "output_type": "display_data",
          "data": {
            "text/plain": [
              "<IPython.core.display.HTML object>"
            ],
            "text/html": [
              "<script src='https://cdnjs.cloudflare.com/ajax/libs/mathjax/3.1.1/latest.js?config=TeX-AMS_HTML'></script>"
            ]
          },
          "metadata": {}
        },
        {
          "output_type": "display_data",
          "data": {
            "text/plain": [
              " 2                                     2       \n",
              "d                                     d        \n",
              "───(θ(t)) = 9.8⋅sin(θ(t)) - cos(θ(t))⋅───(x(t))\n",
              "  2                                     2      \n",
              "dt                                    dt       "
            ],
            "text/latex": "$\\displaystyle \\frac{d^{2}}{d t^{2}} \\theta{\\left(t \\right)} = 9.8 \\sin{\\left(\\theta{\\left(t \\right)} \\right)} - \\cos{\\left(\\theta{\\left(t \\right)} \\right)} \\frac{d^{2}}{d t^{2}} x{\\left(t \\right)}$"
          },
          "metadata": {}
        },
        {
          "output_type": "stream",
          "name": "stdout",
          "text": [
            "\n",
            "\u001b[1mSolution: \n"
          ]
        },
        {
          "output_type": "display_data",
          "data": {
            "text/plain": [
              "<IPython.core.display.HTML object>"
            ],
            "text/html": [
              "<script src='https://cdnjs.cloudflare.com/ajax/libs/mathjax/3.1.1/latest.js?config=TeX-AMS_HTML'></script>"
            ]
          },
          "metadata": {}
        },
        {
          "output_type": "display_data",
          "data": {
            "text/plain": [
              "                                                               2\n",
              "                                                     ⎛d       ⎞ \n",
              " 2                                     5.0⋅sin(θ(t))⋅⎜──(θ(t))⎟ \n",
              "d           49.0⋅sin(θ(t))⋅cos(θ(t))                 ⎝dt      ⎠ \n",
              "───(x(t)) = ──────────────────────── - ─────────────────────────\n",
              "  2                 2                           2               \n",
              "dt           5.0⋅cos (θ(t)) - 15.0       5.0⋅cos (θ(t)) - 15.0  "
            ],
            "text/latex": "$\\displaystyle \\frac{d^{2}}{d t^{2}} x{\\left(t \\right)} = \\frac{49.0 \\sin{\\left(\\theta{\\left(t \\right)} \\right)} \\cos{\\left(\\theta{\\left(t \\right)} \\right)}}{5.0 \\cos^{2}{\\left(\\theta{\\left(t \\right)} \\right)} - 15.0} - \\frac{5.0 \\sin{\\left(\\theta{\\left(t \\right)} \\right)} \\left(\\frac{d}{d t} \\theta{\\left(t \\right)}\\right)^{2}}{5.0 \\cos^{2}{\\left(\\theta{\\left(t \\right)} \\right)} - 15.0}$"
          },
          "metadata": {}
        },
        {
          "output_type": "display_data",
          "data": {
            "text/plain": [
              "<IPython.core.display.HTML object>"
            ],
            "text/html": [
              "<script src='https://cdnjs.cloudflare.com/ajax/libs/mathjax/3.1.1/latest.js?config=TeX-AMS_HTML'></script>"
            ]
          },
          "metadata": {}
        },
        {
          "output_type": "display_data",
          "data": {
            "text/plain": [
              "-0.48432629034588764"
            ],
            "text/latex": "$\\displaystyle -0.484326290345888$"
          },
          "metadata": {}
        },
        {
          "output_type": "display_data",
          "data": {
            "text/plain": [
              "<IPython.core.display.HTML object>"
            ],
            "text/html": [
              "<script src='https://cdnjs.cloudflare.com/ajax/libs/mathjax/3.1.1/latest.js?config=TeX-AMS_HTML'></script>"
            ]
          },
          "metadata": {}
        },
        {
          "output_type": "display_data",
          "data": {
            "text/plain": [
              "                                              2                        \n",
              "                                    ⎛d       ⎞                         \n",
              " 2          5.0⋅sin(θ(t))⋅cos(θ(t))⋅⎜──(θ(t))⎟                         \n",
              "d                                   ⎝dt      ⎠       147.0⋅sin(θ(t))   \n",
              "───(θ(t)) = ─────────────────────────────────── - ─────────────────────\n",
              "  2                       2                              2             \n",
              "dt                 5.0⋅cos (θ(t)) - 15.0          5.0⋅cos (θ(t)) - 15.0"
            ],
            "text/latex": "$\\displaystyle \\frac{d^{2}}{d t^{2}} \\theta{\\left(t \\right)} = \\frac{5.0 \\sin{\\left(\\theta{\\left(t \\right)} \\right)} \\cos{\\left(\\theta{\\left(t \\right)} \\right)} \\left(\\frac{d}{d t} \\theta{\\left(t \\right)}\\right)^{2}}{5.0 \\cos^{2}{\\left(\\theta{\\left(t \\right)} \\right)} - 15.0} - \\frac{147.0 \\sin{\\left(\\theta{\\left(t \\right)} \\right)}}{5.0 \\cos^{2}{\\left(\\theta{\\left(t \\right)} \\right)} - 15.0}$"
          },
          "metadata": {}
        },
        {
          "output_type": "display_data",
          "data": {
            "text/plain": [
              "<IPython.core.display.HTML object>"
            ],
            "text/html": [
              "<script src='https://cdnjs.cloudflare.com/ajax/libs/mathjax/3.1.1/latest.js?config=TeX-AMS_HTML'></script>"
            ]
          },
          "metadata": {}
        },
        {
          "output_type": "display_data",
          "data": {
            "text/plain": [
              "1.4602741593867288"
            ],
            "text/latex": "$\\displaystyle 1.46027415938673$"
          },
          "metadata": {}
        }
      ]
    },
    {
      "cell_type": "markdown",
      "source": [
        "## Problem 8 (10pts)\n",
        "\n",
        "Based on your symbolic and numerical solutions for $\\ddot{x}(t)$ and $\\ddot{\\theta}(t)$, which are now functions of $x(t), \\theta(t), \\dot{x}(t)$ and $\\dot{\\theta}(t)$, simulate the system for $t\\in[0,10]$, with initial conditions $x(0)=0, \\theta(0)=0.1, \\dot{x}(0)=0, \\dot{\\theta}(0)=0$ and the numerical integration and simulation functions provided below. Plot the trajectories of $x(t)$ and $\\theta(t)$ versus time.\n",
        "\n",
        "*Hint 1: The numerical simulation function below can only simulate systems with first-order dynamics. This means that the function of dynamics (i.e. $f(xt)$), whose input is fed to the numerical integration and simulation functions, needs to return the first-order time derivative. This might be confusing because our solutions $\\ddot{x}(t)$ and $\\ddot{\\theta}(t)$ are second-order time derivative. The trick here is to extend the system state from $[x(t), \\theta(t)]$ to $[x(t), \\theta(t), \\dot{x}(t), \\dot{\\theta}(t)]$, thus the time derivative of the state vector becomes $[\\dot{x}(t), \\dot{\\theta}(t), \\ddot{x}(t), \\ddot{\\theta}(t)]$. Now, when you write down the system dynamics function, the third and forth elements of input vector $\\dot{x}(t)$ and $\\dot{\\theta}(t)$ can be put into the output vector directly, and we already know the rest two elements of the output vector, from our previous solution of Euler-Lagrange equations. More information can be found in Lecture Note 1 (Background) - Section 1.4 Ordinary Differential Equations. An example is provided below for simulating a particle falling in gravity, where the acceleration $\\ddot{x}(t) = -9.8$.*\n",
        "\n",
        "*Hint 2: You will need to include the numerical evaluations for $\\ddot{x}(t)$ and $\\ddot{\\theta}(t)$ in system dynamics function. You can either use your previous **`lambdify()`** results, or hand code the equations from previous symbolic solutions. We recommend using **`lambdify()`** for practice because later homeworks will require integration of much more complicated equations.*\n",
        "\n",
        "**Turn in: A copy of the code used to simulate the system with the plot of the simulated trajectories.**"
      ],
      "metadata": {
        "id": "HQ2Hl88sUUmF"
      }
    },
    {
      "cell_type": "code",
      "source": [
        "def integrate(f, xt, dt):\n",
        "    \"\"\"\n",
        "    This function takes in an initial condition x(t) and a timestep dt,\n",
        "    as well as a dynamical system f(x) that outputs a vector of the\n",
        "    same dimension as x(t). It outputs a vector x(t+dt) at the future\n",
        "    time step.\n",
        "\n",
        "    Parameters\n",
        "    ============\n",
        "    dyn: Python function\n",
        "        derivate of the system at a given step x(t),\n",
        "        it can considered as \\dot{x}(t) = func(x(t))\n",
        "    xt: NumPy array\n",
        "        current step x(t)\n",
        "    dt:\n",
        "        step size for integration\n",
        "\n",
        "    Return\n",
        "    ============\n",
        "    new_xt:\n",
        "        value of x(t+dt) integrated from x(t)\n",
        "    \"\"\"\n",
        "    k1 = dt * f(xt)\n",
        "    k2 = dt * f(xt+k1/2.)\n",
        "    k3 = dt * f(xt+k2/2.)\n",
        "    k4 = dt * f(xt+k3)\n",
        "    new_xt = xt + (1/6.) * (k1+2.0*k2+2.0*k3+k4)\n",
        "    return new_xt\n",
        "\n",
        "def simulate(f, x0, tspan, dt, integrate):\n",
        "    \"\"\"\n",
        "    This function takes in an initial condition x0, a timestep dt,\n",
        "    a time span tspan consisting of a list [min_time, max_time],\n",
        "    as well as a dynamical system f(x) that outputs a vector of the\n",
        "    same dimension as x0. It outputs a full trajectory simulated\n",
        "    over the time span of dimensions (xvec_size, time_vec_size).\n",
        "\n",
        "    Parameters\n",
        "    ============\n",
        "    f: Python function\n",
        "        derivate of the system at a given step x(t),\n",
        "        it can considered as \\dot{x}(t) = func(x(t))\n",
        "    x0: NumPy array\n",
        "        initial conditions\n",
        "    tspan: Python list\n",
        "        tspan = [min_time, max_time], it defines the start and end\n",
        "        time of simulation\n",
        "    dt:\n",
        "        time step for numerical integration\n",
        "    integrate: Python function\n",
        "        numerical integration method used in this simulation\n",
        "\n",
        "    Return\n",
        "    ============\n",
        "    x_traj:\n",
        "        simulated trajectory of x(t) from t=0 to tf\n",
        "    \"\"\"\n",
        "    N = int((max(tspan)-min(tspan))/dt)\n",
        "    x = np.copy(x0)\n",
        "    tvec = np.linspace(min(tspan),max(tspan),N)\n",
        "    xtraj = np.zeros((len(x0),N))\n",
        "    for i in range(N):\n",
        "        xtraj[:,i]=integrate(f,x,dt)\n",
        "        x = np.copy(xtraj[:,i])\n",
        "    return xtraj\n",
        "\n",
        "##############################################\n",
        "# example: simulate a particle falling in gravity\n",
        "def xddot(x, xdot):\n",
        "    \"\"\"\n",
        "    Acceleration of the particle in terms of\n",
        "    position and velocity. Here it's a constant.\n",
        "    \"\"\"\n",
        "\n",
        "    return -9.8\n",
        "\n",
        "def dyn(s):\n",
        "    \"\"\"\n",
        "    System dynamics function (extended)\n",
        "\n",
        "    Parameters\n",
        "    ============\n",
        "    s: NumPy array\n",
        "        s = [x, xdot] is the extended system\n",
        "        state vector, includng the position and\n",
        "        the velocity of the particle\n",
        "\n",
        "    Return\n",
        "    ============\n",
        "    sdot: NumPy array\n",
        "        time derivative of input state vector,\n",
        "        sdot = [xdot, xddot]\n",
        "    \"\"\"\n",
        "    return np.array([s[1], xddot(s[0], s[1])])\n",
        "\n",
        "# define initial state\n",
        "s0 = np.array([10, 0]) # at 10m high with zero velocity\n",
        "# simulat from t=0 to 10, since dt=0.1, the returned trajectory\n",
        "# will have 10/0.1=100 time steps, each time step contains extended\n",
        "# system state vector [x(t), xdot(t)]\n",
        "traj = simulate(dyn, s0, [0, 10], 0.1, integrate)\n",
        "print('\\033[1mShape of traj: \\033[0m', traj.shape)"
      ],
      "metadata": {
        "id": "AxammQGfUUCv",
        "colab": {
          "base_uri": "https://localhost:8080/"
        },
        "outputId": "fc89d91d-8dc6-44b3-c3e7-3fd1d83d07af"
      },
      "execution_count": 37,
      "outputs": [
        {
          "output_type": "stream",
          "name": "stdout",
          "text": [
            "\u001b[1mShape of traj: \u001b[0m (2, 100)\n"
          ]
        }
      ]
    },
    {
      "cell_type": "code",
      "source": [
        "##########################################################\n",
        "##########################################################\n",
        "###################### #8 MY SOLUTION ####################\n",
        "##########################################################\n",
        "##########################################################\n",
        "\n",
        "# You can start your implementation here :)\n",
        "symbolic_solutions, numerical_solutions\n",
        "\n",
        "xddot_func = sym.lambdify([x, x.diff(t), theta, theta.diff(t)], symbolic_solutions[x.diff(t, 2)])\n",
        "thetaddot_func = sym.lambdify([x, x.diff(t), theta, theta.diff(t)], symbolic_solutions[theta.diff(t, 2)])\n",
        "\n",
        "def system_dynamics(s):\n",
        "    x_val, theta_val, xdot_val, thetadot_val = s\n",
        "    xddot_val = xddot_func(x_val, xdot_val, theta_val, thetadot_val)\n",
        "    thetaddot_val = thetaddot_func(x_val, xdot_val, theta_val, thetadot_val)\n",
        "    return np.array([xdot_val, thetadot_val, xddot_val, thetaddot_val])\n",
        "\n",
        "initial_conditions = np.array([0, 0.1, 0, 0])\n",
        "tspan = [0, 10]\n",
        "dt = 0.01\n",
        "trajectory = simulate(system_dynamics, initial_conditions, tspan, dt, integrate)\n",
        "tvec = np.linspace(tspan[0], tspan[1], trajectory.shape[1])\n",
        "plt.figure(figsize=(10, 6))\n",
        "plt.plot(tvec, trajectory[0, :], label='$x(t)$', color='b')\n",
        "plt.plot(tvec, trajectory[1, :], label='$\\\\theta(t)$', color='r')\n",
        "plt.xlabel('Time (s)')\n",
        "plt.ylabel('State Variables')\n",
        "plt.title('Trajectories of $x(t)$ and $\\\\theta(t)$')\n",
        "plt.grid(True)\n",
        "plt.legend()\n",
        "plt.tight_layout()\n",
        "plt.show()\n"
      ],
      "metadata": {
        "id": "873DWPPjUXn5",
        "colab": {
          "base_uri": "https://localhost:8080/",
          "height": 607
        },
        "outputId": "dd15640c-9bb4-4dd5-bf08-65ede357b3e7"
      },
      "execution_count": 38,
      "outputs": [
        {
          "output_type": "display_data",
          "data": {
            "text/plain": [
              "<Figure size 1000x600 with 1 Axes>"
            ],
            "image/png": "[encoded data removed]"
          },
          "metadata": {}
        }
      ]
    },
    {
      "cell_type": "markdown",
      "source": [
        "***\n",
        "\n",
        "## Problem X (0pts)\n",
        "### **Not required for submission!**\n",
        "\n",
        "*NOTE: \"Problem X\" is not required for submission and has zero credit. This is only designed to help you get more familiar with things that are not the primary purposes of this class, but are important in practice, like Python.*\n",
        "\n",
        "You may now have all the code running to compute the dynamics of some \"pendulum stuff\"... and you will need to compute more later in this class! One suggestion here, for the purpose of handling more sophisticated systems (like a triple-pendulum!), is to wrap up your code for this homework into several functions. This is not required, and it's fine if you don't want to do it (you can always go back here after you're more familiar with Python and course materials). This is only for some of you who just want to have more Python in their life, just as the saying goes, \"life is short, use python\".\n",
        "\n",
        "Why is it better to wrap existing code into functions - isn't it a waste of time? Consider a sort of unrelated example: write a program that computes the trace of a matrix, which is the sum of all diagonal elements. If the matrix is already provided, just like we already computed Lagrangian in the homework, we can do something like this:"
      ],
      "metadata": {
        "id": "vr6U6HRFUajR"
      }
    },
    {
      "cell_type": "code",
      "source": [
        "mat = [[1, 2, 3],\n",
        "       [4, 5, 6],\n",
        "       [7, 8, 9]]\n",
        "trace = mat[0][0] + mat[1][1] + mat[2][2]"
      ],
      "metadata": {
        "id": "wlglp0RmUZ2U"
      },
      "execution_count": 39,
      "outputs": []
    },
    {
      "cell_type": "markdown",
      "source": [
        "However, what if we need to compute the trace of a 5-by-5 matrix instead? Then we need to rewrite the code! In our simple example, this isn't that annoying or time consuming. However, for more complicated problems it could be very annoying, especially when we find that we are basically doing the same thing every time we rewrite the code - manually adding all the diagonal elements together as well as very tedious, especially in case if there are multiple places in the code where we perform the same calculation. Thus, why don't we just write a function once, and it will handle matrices with all possible dimensions for us? The challenge is that the function doesn't know what matrix it will be provided ahead of time! One solution is to require matrix dimension as a function input (you might find this very common in lower-level programming languages like C/C++). But in Python, we have better choice - querying the dimension of your input! Here's one possible implementation:"
      ],
      "metadata": {
        "id": "vC_wKQnwUd-w"
      }
    },
    {
      "cell_type": "code",
      "source": [
        "def compute_trace(mat):\n",
        "    dim = len(mat)\n",
        "    trace_val = 0\n",
        "    for i in range(dim):\n",
        "        trace_val += mat[i][i]\n",
        "    return trace_val\n",
        "\n",
        "mat = [[1, 2, 3],\n",
        "       [4, 5, 6],\n",
        "       [7, 8, 9]]\n",
        "trace = compute_trace(mat)"
      ],
      "metadata": {
        "id": "wYcHGyGeUdvI"
      },
      "execution_count": 40,
      "outputs": []
    },
    {
      "cell_type": "markdown",
      "source": [
        "Python provides some really nice methods to tell us the dimension of the data! While the default is `len()`, given NumPy or SymPy you can also use `.shape()`. In this way, you can generalize your method through the function, and easily reuse your code later. Besides that, depending on the specific scenarios, some methods can naturally avoid encountering number of parameters, like SymPy's matrix `jacobian()` method. Usually these methods are better choices because their implementations are typically more efficient than using loops (loops are slow).\n",
        "    \n",
        "In this homework, one part of your code you can re-write using a function feature is Problem 3. **Try to write a Python function, which takes in the Lagrangian, a list of variables of the Lagrangian, and returns the Euler-Lagrange equation as a SymPy equation object.** The challenge here is that we don't know how many variables will be provided ahead of time, and the example above might inspire you.\n",
        "    \n",
        "Feel free to use template provided below as a starting point. Note that it's highly recommended to document your function as shown below - letting others understand your code is as important as getting your code to run!"
      ],
      "metadata": {
        "id": "4VvmIDLPUfgs"
      }
    },
    {
      "cell_type": "code",
      "source": [
        "def euler_equations(L, funcs, t):\n",
        "    \"\"\"\n",
        "    Find the Euler-Lagrangian equations given the Lagrangian equation.\n",
        "\n",
        "    Parameters:\n",
        "    ============\n",
        "    L: SymPy Expression\n",
        "        L should be a SymPy expression containing necessary system\n",
        "        configuration variables\n",
        "    funcs: list of SymPy Functions\n",
        "        func should included all the system configuration variables\n",
        "        as functions of time variable \"t\" in the Lagrangian\n",
        "    t: SymPy Symbol\n",
        "        time variable\n",
        "\n",
        "    Returns:\n",
        "    ============\n",
        "    eqns: SymPy Equation\n",
        "        eqns is the resulting Euler-Lagrangian equations, it should\n",
        "        be a sinlge SymPy Equation object, each side being a SymPy\n",
        "        Matrix object\n",
        "    \"\"\"\n",
        "    pass # In Python, \"pass\" means \"do nothing\",  many people use it\n",
        "         # to occupy a space so they don't need to implement a function\n",
        "         # while getting the program running. Here you just need to\n",
        "         # replace it with your own implementation."
      ],
      "metadata": {
        "id": "qfwvNYPqUb-c"
      },
      "execution_count": 41,
      "outputs": []
    },
    {
      "cell_type": "code",
      "source": [],
      "metadata": {
        "id": "smsePfLWUgZP"
      },
      "execution_count": 41,
      "outputs": []
    }
  ]
}