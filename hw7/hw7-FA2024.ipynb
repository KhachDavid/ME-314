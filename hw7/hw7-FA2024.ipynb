{
 "cells": [
  {
   "cell_type": "markdown",
   "metadata": {
    "id": "23kYoAh3Jvin"
   },
   "source": [
    "# ME314 Homework 7\n",
    "\n",
    "###Submission instructions\n",
    "\n",
    "Deliverables that should be included with your submission are shown in **bold** at the end of each problem statement and the corresponding supplemental material. **Your homework will be graded IFF you submit a single PDF, .mp4 videos of animations when requested and a link to a Google colab file that meet all the requirements outlined below.**\n",
    "\n",
    "- List the names of students you've collaborated with on this homework assignment.\n",
    "- Include all of your code (and handwritten solutions when applicable) used to complete the problems.\n",
    "- Highlight your answers (i.e. **bold** and outline the answers) for handwritten or markdown questions and include simplified code outputs (e.g. .simplify()) for python questions.\n",
    "- Enable Google Colab permission for viewing\n",
    " * Click Share in the upper right corner\n",
    " * Under \"Get Link\" click \"Share with...\" or \"Change\"\n",
    " * Then make sure it says \"Anyone with Link\" and \"Editor\" under the dropdown menu\n",
    "- Make sure all cells are run before submitting (i.e. check the permission by running your code in a private mode)\n",
    " * Please don't make changes to your file after submitting, so we can grade it!\n",
    "- Submit a link to your Google Colab file that has been run (before the submission deadline) and don't edit it afterwards!\n",
    "\n",
    "**NOTE:** This Jupyter Notebook file serves as a template for you to start homework. Make sure you first copy this template to your own Google driver (click \"File\" -> \"Save a copy in Drive\"), and then start to edit it."
   ]
  },
  {
   "cell_type": "code",
   "execution_count": 3,
   "metadata": {
    "id": "FH8Cv1USJxqN"
   },
   "outputs": [],
   "source": [
    "##############################################################################################\n",
    "# If you're using Google Colab, uncomment this section by selecting the whole section and press\n",
    "# ctrl+'/' on your and keyboard. Run it before you start programming, this will enable the nice\n",
    "# LaTeX \"display()\" function for you. If you're using the local Jupyter environment, leave it alone\n",
    "##############################################################################################\n",
    "import sympy as sym\n",
    "#def custom_latex_printer(exp,**options):\n",
    "#    from google.colab.output._publish import javascript\n",
    "#    url = \"https://cdnjs.cloudflare.com/ajax/libs/mathjax/3.1.1/latest.js?config=TeX-AMS_HTML\"\n",
    "#    javascript(url=url)\n",
    "#    return sym.printing.latex(exp,**options)\n",
    "#sym.init_printing(use_latex=\"mathjax\",latex_printer=custom_latex_printer)"
   ]
  },
  {
   "cell_type": "markdown",
   "metadata": {
    "id": "W8ojINipKFfh"
   },
   "source": [
    "## Problem 1 (20pts)\n",
    "\n",
    "Show that if $R\\in SO(n)$, then the matrix $A=\\frac{d}{dt}(R)R^{-1}$ is skew symmetric.\n",
    "    \n",
    "**Turn in: A scanned (or photograph from your phone or webcam) copy of your hand written solution. Or you can use \\LaTeX.**"
   ]
  },
  {
   "cell_type": "markdown",
   "metadata": {},
   "source": [
    "To show that $A$ is skew symmetric, we need to show that $A^T=-A$.\n",
    "\n",
    "We have $A=\\frac{d}{dt}(R)R^{-1}$. \n",
    "\n",
    "Taking the transpose of $A$ gives us $A^T=\\left(\\frac{d}{dt}(R)R^{-1}\\right)^T$.\n",
    "\n",
    "We know that $(AB)^T=B^TA^T$ for any matrices $A$ and $B$.\n",
    "\n",
    "Therefore, $A^T=\\left(\\frac{d}{dt}(R)R^{-1}\\right)^T=\\left(R^{-1}\\right)^T\\left(\\frac{d}{dt}(R)\\right)^T$.\n",
    "\n",
    "Since $R\\in SO(n)$, we have $R^TR=I$.\n",
    "\n",
    "Taking the derivative of both sides gives us $\\frac{d}{dt}(R^TR)=0$.\n",
    "\n",
    "Therefore, $\\frac{d}{dt}(R^T)R+R^T\\frac{d}{dt}(R)=0$.\n",
    "\n",
    "Multiplying both sides by $R^{-1}$ on the right gives us $\\frac{d}{dt}(R^T)RR^{-1}+R^T\\frac{d}{dt}(R)R^{-1}=0$.\n",
    "\n",
    "Therefore, $\\frac{d}{dt}(R^T)R^{-1}+R^T\\frac{d}{dt}(R)R^{-1}=0$.\n",
    "\n",
    "Therefore, $\\left(\\frac{d}{dt}(R)R^{-1}\\right)^T=-\\frac{d}{dt}(R)R^{-1}$.\n",
    "\n",
    "This gives that , $A^T=-A$. Therefore, $A$ is skew symmetric."
   ]
  },
  {
   "cell_type": "markdown",
   "metadata": {
    "id": "JhKePBV-KG8T"
   },
   "source": [
    "## Problem 2 (20pts)\n",
    "\n",
    "Show that $$\\widehat{\\omega}\\,r_b= -\\widehat{r}_b\\, \\omega,$$ where $\\omega$ and $r_b$ are both $3 \\times 1$ vectors.\n",
    "    \n",
    "**Turn in: A scanned (or photograph from your phone or webcam) copy of your hand written solution. Or you can use \\LaTeX.**"
   ]
  },
  {
   "cell_type": "markdown",
   "metadata": {},
   "source": [
    "The left hand side of the equation $\\widehat{\\omega}\\,r_b = \\omega \\times r_b$.\n",
    "\n",
    "The right hand side of the equation $-\\widehat{r}_b\\, \\omega = -(r_b \\times \\omega)$.\n",
    "\n",
    "Cross product is anti-commutative, i.e., $a \\times b = -b \\times a$.\n",
    "\n",
    "Therefore, ${r}_b \\times \\omega = -(\\omega \\times r_b)$.\n",
    "\n",
    "Subbing this in\n",
    "\n",
    "$-\\widehat{r}_b\\, \\omega = -(-(\\omega \\times r_b)) = \\omega \\times r_b$.\n",
    "\n",
    "Therefore, $\\widehat{\\omega}\\,r_b= -\\widehat{r}_b\\, \\omega$.\n",
    "\n",
    "Summarizing this we show that the left hand side of the equation is equal to the right hand side of the equation."
   ]
  },
  {
   "cell_type": "code",
   "execution_count": 4,
   "metadata": {
    "colab": {
     "base_uri": "https://localhost:8080/",
     "height": 377
    },
    "executionInfo": {
     "elapsed": 232,
     "status": "ok",
     "timestamp": 1652642379327,
     "user": {
      "displayName": "Joel Meyer",
      "userId": "03002831383364556541"
     },
     "user_tz": 300
    },
    "id": "tMnFPtxOKWzL",
    "outputId": "148c8e6f-06fb-48f4-ec9b-4f3a662ffafc"
   },
   "outputs": [
    {
     "data": {
      "text/html": [
       "<table><tr><td><img src='https://github.com/MuchenSun/ME314pngs/raw/master/biped_simplified.jpg' width=600' height='350'></table>"
      ],
      "text/plain": [
       "<IPython.core.display.HTML object>"
      ]
     },
     "metadata": {},
     "output_type": "display_data"
    }
   ],
   "source": [
    "from IPython.core.display import HTML, Markdown\n",
    "display(HTML(\"<table><tr><td><img src='https://github.com/MuchenSun/ME314pngs/raw/master/biped_simplified.jpg' width=600' height='350'></table>\"))"
   ]
  },
  {
   "cell_type": "markdown",
   "metadata": {
    "id": "fqM9lN2TKOdP"
   },
   "source": [
    "## Problem 3 (60pts)\n",
    "\n",
    "Consider a person doing the splits (shown in the image above). To simplify the model, we ignore the upper body and assume the knees can not bend --- which means we only need four variables $q=[x, y, \\theta_1, \\theta_2]$ to configure the system. $x$ and $y$ are the position of the intersection point of the two legs, $\\theta_1$ and $\\theta_2$ are the angles between the legs and the green vertical dash line. The feet are constrained on the ground, and there is no friction between the feet and the ground.\n",
    "    \n",
    "Each leg is a rigid body with length $L=1$, width $W=0.2$, mass $m=1$, and rotational inertia $J=1$ (assuming the center of mass is at the center of geometry). Moreover, there are two torques applied on $\\theta_1$ and $\\theta_2$ to control the legs to track a desired trajectory:\n",
    "$$\n",
    "\\begin{aligned}\n",
    "\\theta_1^d(t) & = \\frac{\\pi}{15} + \\frac{\\pi}{3} \\sin^2(\\frac{t}{2}) \\\\\n",
    "\\theta_2^d(t) & =-\\frac{\\pi}{15} - \\frac{\\pi}{3} \\sin^2(\\frac{t}{2})\n",
    "\\end{aligned}\n",
    "$$ and the torques are:\n",
    "$$\n",
    "\\begin{aligned}\n",
    "F_{\\theta_1 }& = -k_1(\\theta_1-\\theta_1^d)\\\\\n",
    "F_{\\theta_2} & = -k_1(\\theta_2-\\theta_2^d)\n",
    "\\end{aligned}\n",
    "$$ In this problem we use $k_1=20$.\n",
    "\n",
    "Given the model description above, define the frames that you need (several example frames are shown in the image as well), simulate the motion of the biped from rest for $t\\in[0,10], dt=0.01$, with initial condition $q=[0, L_1\\cos(\\frac{\\pi}{15}), \\frac{\\pi}{15}, -\\frac{\\pi}{15}]$. You will need to modify the animation function to display the leg as a rectangle, an example of the animation can be found at [https://youtu.be/w8XHYrEoWTc](https://youtu.be/w8XHYrEoWTc).\n",
    "\n",
    "*Hint 1: Even though this is a 2D system, in order to compute kinetic energy from both translation and rotation you will need to model the system in the 3D world --- the $z$ coordinate is always zero and the rotation is around the $z$ axis (based on these facts, what should the SE(3) matrix and rotational inertia tensor look like?). This also means you need to represent transformations in  SE(3) and the body velocity $\\mathcal{V}_b\\in\\mathbb{R}^6$.*\n",
    "\n",
    "*Hint 2: It could be helpful to define several helper functions for all the matrix operations you will need to use. For example, a function that returns SE(3) matrices given a rotation angle and 2D translation vector, functions for ''hat'' and ''unhat'' operations, a function for the matrix inverse of SE(3) (which is definitely not the same as the SymPy matrix inverse function), and a function that returns the time derivative of SO(3) or SE(3).*\n",
    "\n",
    "*Hint 3: In this problem the external force depends on time $t$. Therefore, in order to solve for the symbolic solution you need to substitute your configuration variables, which are defined as symbolic functions of time $t$ (such as $\\theta_1(t)$ and $\\frac{d}{dt}\\theta_1(t)$), with dummy symbolic variables. For the same reason (the dynamics now explicitly depend on time), you will need to do some tiny modifications on the ''integrate'' and ''simulate'' functions, a good reference can be found at [https://en.wikipedia.org/wiki/Runge-Kutta_methods](https://en.wikipedia.org/wiki/Runge-Kutta_methods).*\n",
    "\n",
    "*Hint 4: Symbolically solving this system should be fast, but if you encountered some problem when solving the dynamics symbolically, an alternative method is to solve the system numerically --- substitute in the system state at each time step during simulation and solve for the numerical solution --- but based on my experience, this would cost more than one hour for 500 time steps, so it's not recommended.*\n",
    "\n",
    "*Hint 5: The animation of this problem is similar to the one in last homework --- the coordinates of the vertices in the body frame are constant, you just need to transfer them back to the world frame using the the transformation matrices you already have in the simulation.*\n",
    "\n",
    "*Hint 6: Be careful to consider the relationship between the frames and to not build in any implicit assumptions (such as assuming some variables are fixed).*\n",
    "\n",
    "*Hint 7: The rotation, by convention, is assumed to follow the right hand rule, which means the z-axis is out of the screen and the positive rotation orientation is counter-clockwise. Make sure you follow a consistent set of positive directions for all the computation.*\n",
    "\n",
    "*Hint 8: This problem is designed as a ''mini-project'', it could help you estimate the complexity of your final project, and you could adjust your proposal based on your experience with this problem.*\n",
    "\n",
    "**Turn in: A copy of the code used to simulate and animate the system. Also, include a plot of the trajectory and upload a video of the animation separately through Canvas. The video should be in \".mp4\" format, you can use screen capture or record the screen directly with your phone.**"
   ]
  },
  {
   "cell_type": "code",
   "execution_count": 5,
   "metadata": {
    "id": "Zf9rci7IKPIR"
   },
   "outputs": [],
   "source": [
    "## Your code goes here\n",
    "import numpy as np"
   ]
  },
  {
   "cell_type": "code",
   "execution_count": 6,
   "metadata": {},
   "outputs": [
    {
     "name": "stderr",
     "output_type": "stream",
     "text": [
      "<>:2: SyntaxWarning: invalid escape sequence '\\d'\n",
      "<>:31: SyntaxWarning: invalid escape sequence '\\d'\n",
      "<>:2: SyntaxWarning: invalid escape sequence '\\d'\n",
      "<>:31: SyntaxWarning: invalid escape sequence '\\d'\n",
      "/tmp/ipykernel_45141/24789098.py:2: SyntaxWarning: invalid escape sequence '\\d'\n",
      "  \"\"\"\n",
      "/tmp/ipykernel_45141/24789098.py:31: SyntaxWarning: invalid escape sequence '\\d'\n",
      "  \"\"\"\n"
     ]
    }
   ],
   "source": [
    "def integrate(f,xt,t,dt):\n",
    "    \"\"\"\n",
    "    This function takes in an initial condition x(t) and a timestep dt,\n",
    "    as well as a dynamical system f(x) that outputs a vector of the\n",
    "    same dimension as x(t). It outputs a vector x(t+dt) at the future\n",
    "    time step.\n",
    "    \n",
    "    Parameters\n",
    "    ============\n",
    "    dyn: Python function\n",
    "        derivate of the system at a given step x(t), \n",
    "        it can considered as \\dot{x}(t) = func(x(t))\n",
    "    xt: NumPy array\n",
    "        current step x(t)\n",
    "    dt: \n",
    "        step size for integration\n",
    "\n",
    "    Return\n",
    "    ============\n",
    "    new_xt: \n",
    "        value of x(t+dt) integrated from x(t)\n",
    "    \"\"\"\n",
    "    k1 = f(xt,t)\n",
    "    k2 = f(xt+dt*(k1/2.),t+dt/2.)\n",
    "    k3 = f(xt+dt*(k2/2.),t+dt/2.)\n",
    "    k4 = f(xt+dt*k3,t+dt)\n",
    "    new_xt = xt + (1/6.) * dt*(k1+2.0*k2+2.0*k3+k4)\n",
    "    return new_xt\n",
    "\n",
    "def simulate(f, x0, tspan, dt, integrate):\n",
    "    \"\"\"\n",
    "    This function takes in an initial condition x0, a timestep dt,\n",
    "    a time span tspan consisting of a list [min_time, max_time],\n",
    "    as well as a dynamical system f(x) that outputs a vector of the\n",
    "    same dimension as x0. It outputs a full trajectory simulated\n",
    "    over the time span of dimensions (xvec_size, time_vec_size).\n",
    "    \n",
    "    Parameters\n",
    "    ============\n",
    "    f: Python function\n",
    "        derivate of the system at a given step x(t), \n",
    "        it can considered as \\dot{x}(t) = func(x(t))\n",
    "    x0: NumPy array\n",
    "        initial conditions\n",
    "    tspan: Python list\n",
    "        tspan = [min_time, max_time], it defines the start and end\n",
    "        time of simulation\n",
    "    dt:\n",
    "        time step for numerical integration\n",
    "    integrate: Python function\n",
    "        numerical integration method used in this simulation\n",
    "\n",
    "    Return\n",
    "    ============\n",
    "    x_traj:\n",
    "        simulated trajectory of x(t) from t=0 to tf\n",
    "    \"\"\"\n",
    "    N = int((max(tspan)-min(tspan))/dt)\n",
    "    x = np.copy(x0)\n",
    "    tvec = np.linspace(min(tspan),max(tspan),N)\n",
    "    xtraj = np.zeros((len(x0),N))\n",
    "    \n",
    "    for i in range(N):\n",
    "        xtraj[:,i]=integrate(f,x,tvec[i],dt)\n",
    "        x = np.copy(xtraj[:,i])\n",
    "    return xtraj "
   ]
  },
  {
   "cell_type": "code",
   "execution_count": 7,
   "metadata": {},
   "outputs": [],
   "source": [
    "# Define symbols\n",
    "m1, m2, g, L1, L2, J1, J2, t, k = sym.symbols('m1 m2 g L1 L2 J1 J2 t k')\n",
    "lambda_1, lambda_2, phi_1, phi_2 = sym.symbols('lambda_1 lambda_2 phi_1 phi_2')\n",
    "theta1, theta2 = sym.Function('theta1')(t), sym.Function('theta2')(t)\n",
    "x, y = sym.Function('x')(t), sym.Function('y')(t)\n",
    "q = sym.Matrix([x, y, theta1, theta2])\n",
    "qd = q.diff(t)\n",
    "qdd = qd.diff(t)"
   ]
  },
  {
   "cell_type": "code",
   "execution_count": 8,
   "metadata": {},
   "outputs": [],
   "source": [
    "# Define helper for generating SE(3) matrix\n",
    "\n",
    "# rotational\n",
    "def Rotz(theta):\n",
    "    return sym.Matrix([\n",
    "        # 4x4 rotation matrix\n",
    "        [sym.cos(theta), -sym.sin(theta), 0, 0],\n",
    "        [sym.sin(theta), sym.cos(theta), 0, 0],\n",
    "        [0, 0, 1, 0],\n",
    "        [0, 0, 0, 1]\n",
    "    ])\n",
    "    \n",
    "# translational se(3)\n",
    "def T(x, y):\n",
    "    return sym.Matrix([\n",
    "        # 4x4 translation matrix\n",
    "        [1, 0, 0, x],\n",
    "        [0, 1, 0, y],\n",
    "        [0, 0, 1, 0],\n",
    "        [0, 0, 0, 1]\n",
    "    ])"
   ]
  },
  {
   "cell_type": "code",
   "execution_count": 9,
   "metadata": {},
   "outputs": [],
   "source": [
    "# Define the helper for hatting a 3x1 vector\n",
    "def hat(v: sym.Matrix) -> sym.Matrix:\n",
    "    return sym.Matrix([[0, -v[2], v[1]],\n",
    "                       [v[2], 0, -v[0]],\n",
    "                       [-v[1], v[0], 0]])"
   ]
  },
  {
   "cell_type": "code",
   "execution_count": 10,
   "metadata": {},
   "outputs": [],
   "source": [
    "# Define the helper for unhating a 3x3 skew-symmetric matrix\n",
    "def unhat(v: sym.Matrix) -> sym.Matrix:\n",
    "    return sym.Matrix([v[2, 1], v[0, 2], v[1, 0]])\n"
   ]
  },
  {
   "cell_type": "code",
   "execution_count": 11,
   "metadata": {},
   "outputs": [],
   "source": [
    "# Define the helper for getting the inverse of a g matrix\n",
    "def inverse_g(g: sym.Matrix) -> sym.Matrix:\n",
    "    R = g[:3, :3]\n",
    "    p = g[:3, 3]\n",
    "    return sym.Matrix([[R.T, -R.T * p], [0, 0, 0, 1]])"
   ]
  },
  {
   "cell_type": "code",
   "execution_count": 12,
   "metadata": {},
   "outputs": [],
   "source": [
    "# use q to define all the g matrices\n",
    "g_wa = T(q[0], q[1])\n",
    "g_ab = Rotz(q[2]) * T(0, -L1 / 2)\n",
    "g_ac = Rotz(q[3]) * T(0, -L2 / 2)\n",
    "g_bd = T(0, -L1 / 2)\n",
    "g_ce = T(0, -L2 / 2)"
   ]
  },
  {
   "cell_type": "code",
   "execution_count": 13,
   "metadata": {},
   "outputs": [
    {
     "data": {
      "text/latex": [
       "$\\displaystyle \\left[\\begin{matrix}1 & 0 & 0 & x{\\left(t \\right)}\\\\0 & 1 & 0 & y{\\left(t \\right)}\\\\0 & 0 & 1 & 0\\\\0 & 0 & 0 & 1\\end{matrix}\\right]$"
      ],
      "text/plain": [
       "Matrix([\n",
       "[1, 0, 0, x(t)],\n",
       "[0, 1, 0, y(t)],\n",
       "[0, 0, 1,    0],\n",
       "[0, 0, 0,    1]])"
      ]
     },
     "metadata": {},
     "output_type": "display_data"
    },
    {
     "data": {
      "text/latex": [
       "$\\displaystyle \\left[\\begin{matrix}\\cos{\\left(\\theta_{1}{\\left(t \\right)} \\right)} & - \\sin{\\left(\\theta_{1}{\\left(t \\right)} \\right)} & 0 & \\frac{L_{1} \\sin{\\left(\\theta_{1}{\\left(t \\right)} \\right)}}{2}\\\\\\sin{\\left(\\theta_{1}{\\left(t \\right)} \\right)} & \\cos{\\left(\\theta_{1}{\\left(t \\right)} \\right)} & 0 & - \\frac{L_{1} \\cos{\\left(\\theta_{1}{\\left(t \\right)} \\right)}}{2}\\\\0 & 0 & 1 & 0\\\\0 & 0 & 0 & 1\\end{matrix}\\right]$"
      ],
      "text/plain": [
       "Matrix([\n",
       "[cos(theta1(t)), -sin(theta1(t)), 0,  L1*sin(theta1(t))/2],\n",
       "[sin(theta1(t)),  cos(theta1(t)), 0, -L1*cos(theta1(t))/2],\n",
       "[             0,               0, 1,                    0],\n",
       "[             0,               0, 0,                    1]])"
      ]
     },
     "metadata": {},
     "output_type": "display_data"
    },
    {
     "data": {
      "text/latex": [
       "$\\displaystyle \\left[\\begin{matrix}\\cos{\\left(\\theta_{2}{\\left(t \\right)} \\right)} & - \\sin{\\left(\\theta_{2}{\\left(t \\right)} \\right)} & 0 & \\frac{L_{2} \\sin{\\left(\\theta_{2}{\\left(t \\right)} \\right)}}{2}\\\\\\sin{\\left(\\theta_{2}{\\left(t \\right)} \\right)} & \\cos{\\left(\\theta_{2}{\\left(t \\right)} \\right)} & 0 & - \\frac{L_{2} \\cos{\\left(\\theta_{2}{\\left(t \\right)} \\right)}}{2}\\\\0 & 0 & 1 & 0\\\\0 & 0 & 0 & 1\\end{matrix}\\right]$"
      ],
      "text/plain": [
       "Matrix([\n",
       "[cos(theta2(t)), -sin(theta2(t)), 0,  L2*sin(theta2(t))/2],\n",
       "[sin(theta2(t)),  cos(theta2(t)), 0, -L2*cos(theta2(t))/2],\n",
       "[             0,               0, 1,                    0],\n",
       "[             0,               0, 0,                    1]])"
      ]
     },
     "metadata": {},
     "output_type": "display_data"
    },
    {
     "data": {
      "text/latex": [
       "$\\displaystyle \\left[\\begin{matrix}1 & 0 & 0 & 0\\\\0 & 1 & 0 & - \\frac{L_{1}}{2}\\\\0 & 0 & 1 & 0\\\\0 & 0 & 0 & 1\\end{matrix}\\right]$"
      ],
      "text/plain": [
       "Matrix([\n",
       "[1, 0, 0,     0],\n",
       "[0, 1, 0, -L1/2],\n",
       "[0, 0, 1,     0],\n",
       "[0, 0, 0,     1]])"
      ]
     },
     "metadata": {},
     "output_type": "display_data"
    },
    {
     "data": {
      "text/latex": [
       "$\\displaystyle \\left[\\begin{matrix}1 & 0 & 0 & 0\\\\0 & 1 & 0 & - \\frac{L_{2}}{2}\\\\0 & 0 & 1 & 0\\\\0 & 0 & 0 & 1\\end{matrix}\\right]$"
      ],
      "text/plain": [
       "Matrix([\n",
       "[1, 0, 0,     0],\n",
       "[0, 1, 0, -L2/2],\n",
       "[0, 0, 1,     0],\n",
       "[0, 0, 0,     1]])"
      ]
     },
     "metadata": {},
     "output_type": "display_data"
    }
   ],
   "source": [
    "display(g_wa, g_ab, g_ac, g_bd, g_ce)"
   ]
  },
  {
   "cell_type": "code",
   "execution_count": 14,
   "metadata": {},
   "outputs": [
    {
     "data": {
      "text/latex": [
       "$\\displaystyle \\left[\\begin{matrix}\\frac{L_{1} \\sin{\\left(\\theta_{1}{\\left(t \\right)} \\right)}}{2} + x{\\left(t \\right)}\\\\- \\frac{L_{1} \\cos{\\left(\\theta_{1}{\\left(t \\right)} \\right)}}{2} + y{\\left(t \\right)}\\\\0\\\\1\\end{matrix}\\right]$"
      ],
      "text/plain": [
       "Matrix([\n",
       "[ L1*sin(theta1(t))/2 + x(t)],\n",
       "[-L1*cos(theta1(t))/2 + y(t)],\n",
       "[                          0],\n",
       "[                          1]])"
      ]
     },
     "metadata": {},
     "output_type": "display_data"
    },
    {
     "data": {
      "text/latex": [
       "$\\displaystyle \\left[\\begin{matrix}\\frac{L_{2} \\sin{\\left(\\theta_{2}{\\left(t \\right)} \\right)}}{2} + x{\\left(t \\right)}\\\\- \\frac{L_{2} \\cos{\\left(\\theta_{2}{\\left(t \\right)} \\right)}}{2} + y{\\left(t \\right)}\\\\0\\\\1\\end{matrix}\\right]$"
      ],
      "text/plain": [
       "Matrix([\n",
       "[ L2*sin(theta2(t))/2 + x(t)],\n",
       "[-L2*cos(theta2(t))/2 + y(t)],\n",
       "[                          0],\n",
       "[                          1]])"
      ]
     },
     "metadata": {},
     "output_type": "display_data"
    },
    {
     "data": {
      "text/latex": [
       "$\\displaystyle \\left[\\begin{matrix}L_{1} \\sin{\\left(\\theta_{1}{\\left(t \\right)} \\right)} + x{\\left(t \\right)}\\\\- L_{1} \\cos{\\left(\\theta_{1}{\\left(t \\right)} \\right)} + y{\\left(t \\right)}\\\\0\\\\1\\end{matrix}\\right]$"
      ],
      "text/plain": [
       "Matrix([\n",
       "[ L1*sin(theta1(t)) + x(t)],\n",
       "[-L1*cos(theta1(t)) + y(t)],\n",
       "[                        0],\n",
       "[                        1]])"
      ]
     },
     "metadata": {},
     "output_type": "display_data"
    },
    {
     "data": {
      "text/latex": [
       "$\\displaystyle \\left[\\begin{matrix}L_{2} \\sin{\\left(\\theta_{2}{\\left(t \\right)} \\right)} + x{\\left(t \\right)}\\\\- L_{2} \\cos{\\left(\\theta_{2}{\\left(t \\right)} \\right)} + y{\\left(t \\right)}\\\\0\\\\1\\end{matrix}\\right]$"
      ],
      "text/plain": [
       "Matrix([\n",
       "[ L2*sin(theta2(t)) + x(t)],\n",
       "[-L2*cos(theta2(t)) + y(t)],\n",
       "[                        0],\n",
       "[                        1]])"
      ]
     },
     "metadata": {},
     "output_type": "display_data"
    }
   ],
   "source": [
    "origin = sym.Matrix([0, 0, 0, 1])\n",
    "r_b = g_wa * g_ab * origin\n",
    "r_c = g_wa * g_ac * origin\n",
    "r_d = g_wa * g_ab * g_bd * origin\n",
    "r_e = g_wa * g_ac * g_ce * origin\n",
    "\n",
    "display(r_b, r_c, r_d, r_e)"
   ]
  },
  {
   "cell_type": "code",
   "execution_count": 15,
   "metadata": {},
   "outputs": [],
   "source": [
    "def g_dot_SE3(transform, angular_velocity):\n",
    "    \"\"\"\n",
    "    Computes the time derivative of an SE(3) transformation matrix.\n",
    "\n",
    "    The SE(3) matrix `transform` is composed of a rotation matrix `R` and a position vector `p`.\n",
    "    The derivative is given as:\n",
    "        g_dot = [R_dot   p_dot]\n",
    "                [  0       0 1],\n",
    "\n",
    "    where:\n",
    "        - R_dot = R * hat(w),\n",
    "          `w` is the angular velocity vector.\n",
    "        - p_dot = derivative of the position vector `p`.\n",
    "\n",
    "    Parameters\n",
    "    ----------\n",
    "    transform : sympy.Matrix\n",
    "        The SE(3) homogeneous transformation matrix (3x3 in planar case).\n",
    "    angular_velocity : sympy.Symbol\n",
    "        Angular velocity (derivative of the rotation angle, theta).\n",
    "\n",
    "    Returns\n",
    "    -------\n",
    "    sympy.Matrix\n",
    "        Time derivative of the SE(3) homogeneous transformation matrix (g_dot).\n",
    "\n",
    "    Notes\n",
    "    -----\n",
    "    This assumes a 2D planar system with rotation about the z-axis (right-hand rule). The system uses:\n",
    "        - A 3x3 matrix for rotation and translation.\n",
    "        - Angular velocity vector w = [0, 0, d(theta)/dt], where z is the axis of rotation.\n",
    "    \"\"\"\n",
    "    # Compute the angular velocity vector (in matrix form for SE(3))\n",
    "    w = sym.Matrix([0, 0, angular_velocity.diff(t)])\n",
    "    \n",
    "    # Extract Components\n",
    "    R = transform[:3, :3]  # Rotation matrix\n",
    "    p = transform[:3, 3]   # Translation vector\n",
    "\n",
    "    # Derivative of rotation: R_dot = R * hat(w)\n",
    "    R_dot = R * hat(w)\n",
    "\n",
    "    # Derivative of translation: p_dot\n",
    "    p_dot = p.diff(t)\n",
    "\n",
    "    # Construct g_dot\n",
    "    # use T and Rotz to construct the g_dot matrix\n",
    "    g_dot_matrix = sym.Matrix([[R_dot, p_dot], [0, 0, 0, 1]])\n",
    "    return g_dot_matrix"
   ]
  },
  {
   "cell_type": "code",
   "execution_count": 16,
   "metadata": {},
   "outputs": [],
   "source": [
    "def body_velocity(transform, angular_velocity):\n",
    "    \"\"\"\n",
    "    Computes the body velocity from the SE(3) transformation matrix.\n",
    "\n",
    "    The body velocity is given as a 6D spatial velocity vector (in planar motion, reduced to 3D):\n",
    "        V_body = [v  ] -> Linear velocity from R_inv * (p_dot)\n",
    "                 [w  ] -> Angular velocity\n",
    "\n",
    "    Parameters\n",
    "    ----------\n",
    "    transform : sympy.Matrix\n",
    "        The SE(3) homogeneous transformation matrix for a frame (3x3 in planar case).\n",
    "    angular_velocity : sympy.Symbol\n",
    "        Angular velocity (derivative of the rotation angle, theta).\n",
    "\n",
    "    Returns\n",
    "    -------\n",
    "    sympy.Matrix\n",
    "        The spatial body velocity vector for the specified frame.\n",
    "\n",
    "    Raises\n",
    "    ------\n",
    "    ValueError\n",
    "        If an invalid output type is specified.\n",
    "\n",
    "    Notes\n",
    "    -----\n",
    "    - Body velocity is computed as:\n",
    "          V_body = g^(-1) * g_dot\n",
    "      where g^(-1) is the inverse of the SE(3) matrix.\n",
    "    - This function is planar, so angular velocity is scalar (about z-axis).\n",
    "    \"\"\"\n",
    "    # Compute g^-1 (the inverse of SE(3))\n",
    "    transform_inverse = inverse_g(transform)\n",
    "\n",
    "    # Compute g_dot\n",
    "    g_dot_matrix = g_dot_SE3(transform, angular_velocity)\n",
    "\n",
    "    # Multiply to get body velocity: V_body = g^(-1) * g_dot\n",
    "    V_body_matrix = transform_inverse * g_dot_matrix\n",
    "\n",
    "    # Extract body velocity: w = angular component, v = linear component\n",
    "    w_hat = V_body_matrix[:3, :3]\n",
    "    v = V_body_matrix[:3, 3]\n",
    "    w = unhat(w_hat)\n",
    "    display(v.col_join(w))\n",
    "    return v.col_join(w)"
   ]
  },
  {
   "cell_type": "code",
   "execution_count": 17,
   "metadata": {},
   "outputs": [
    {
     "data": {
      "text/latex": [
       "$\\displaystyle \\left[\\begin{matrix}- \\left(\\frac{L_{1} \\sin{\\left(\\theta_{1}{\\left(t \\right)} \\right)}}{2} + x{\\left(t \\right)}\\right) \\cos{\\left(\\theta_{1}{\\left(t \\right)} \\right)} - \\left(- \\frac{L_{1} \\cos{\\left(\\theta_{1}{\\left(t \\right)} \\right)}}{2} + y{\\left(t \\right)}\\right) \\sin{\\left(\\theta_{1}{\\left(t \\right)} \\right)} + \\left(\\frac{L_{1} \\sin{\\left(\\theta_{1}{\\left(t \\right)} \\right)} \\frac{d}{d t} \\theta_{1}{\\left(t \\right)}}{2} + \\frac{d}{d t} y{\\left(t \\right)}\\right) \\sin{\\left(\\theta_{1}{\\left(t \\right)} \\right)} + \\left(\\frac{L_{1} \\cos{\\left(\\theta_{1}{\\left(t \\right)} \\right)} \\frac{d}{d t} \\theta_{1}{\\left(t \\right)}}{2} + \\frac{d}{d t} x{\\left(t \\right)}\\right) \\cos{\\left(\\theta_{1}{\\left(t \\right)} \\right)}\\\\\\left(\\frac{L_{1} \\sin{\\left(\\theta_{1}{\\left(t \\right)} \\right)}}{2} + x{\\left(t \\right)}\\right) \\sin{\\left(\\theta_{1}{\\left(t \\right)} \\right)} - \\left(- \\frac{L_{1} \\cos{\\left(\\theta_{1}{\\left(t \\right)} \\right)}}{2} + y{\\left(t \\right)}\\right) \\cos{\\left(\\theta_{1}{\\left(t \\right)} \\right)} + \\left(\\frac{L_{1} \\sin{\\left(\\theta_{1}{\\left(t \\right)} \\right)} \\frac{d}{d t} \\theta_{1}{\\left(t \\right)}}{2} + \\frac{d}{d t} y{\\left(t \\right)}\\right) \\cos{\\left(\\theta_{1}{\\left(t \\right)} \\right)} - \\left(\\frac{L_{1} \\cos{\\left(\\theta_{1}{\\left(t \\right)} \\right)} \\frac{d}{d t} \\theta_{1}{\\left(t \\right)}}{2} + \\frac{d}{d t} x{\\left(t \\right)}\\right) \\sin{\\left(\\theta_{1}{\\left(t \\right)} \\right)}\\\\0\\\\0\\\\0\\\\\\sin^{2}{\\left(\\theta_{1}{\\left(t \\right)} \\right)} \\frac{d}{d t} \\theta_{1}{\\left(t \\right)} + \\cos^{2}{\\left(\\theta_{1}{\\left(t \\right)} \\right)} \\frac{d}{d t} \\theta_{1}{\\left(t \\right)}\\end{matrix}\\right]$"
      ],
      "text/plain": [
       "Matrix([\n",
       "[-(L1*sin(theta1(t))/2 + x(t))*cos(theta1(t)) - (-L1*cos(theta1(t))/2 + y(t))*sin(theta1(t)) + (L1*sin(theta1(t))*Derivative(theta1(t), t)/2 + Derivative(y(t), t))*sin(theta1(t)) + (L1*cos(theta1(t))*Derivative(theta1(t), t)/2 + Derivative(x(t), t))*cos(theta1(t))],\n",
       "[ (L1*sin(theta1(t))/2 + x(t))*sin(theta1(t)) - (-L1*cos(theta1(t))/2 + y(t))*cos(theta1(t)) + (L1*sin(theta1(t))*Derivative(theta1(t), t)/2 + Derivative(y(t), t))*cos(theta1(t)) - (L1*cos(theta1(t))*Derivative(theta1(t), t)/2 + Derivative(x(t), t))*sin(theta1(t))],\n",
       "[                                                                                                                                                                                                                                                                      0],\n",
       "[                                                                                                                                                                                                                                                                      0],\n",
       "[                                                                                                                                                                                                                                                                      0],\n",
       "[                                                                                                                                                                                sin(theta1(t))**2*Derivative(theta1(t), t) + cos(theta1(t))**2*Derivative(theta1(t), t)]])"
      ]
     },
     "metadata": {},
     "output_type": "display_data"
    },
    {
     "data": {
      "text/latex": [
       "$\\displaystyle \\left[\\begin{matrix}- \\left(\\frac{L_{2} \\sin{\\left(\\theta_{2}{\\left(t \\right)} \\right)}}{2} + x{\\left(t \\right)}\\right) \\cos{\\left(\\theta_{2}{\\left(t \\right)} \\right)} - \\left(- \\frac{L_{2} \\cos{\\left(\\theta_{2}{\\left(t \\right)} \\right)}}{2} + y{\\left(t \\right)}\\right) \\sin{\\left(\\theta_{2}{\\left(t \\right)} \\right)} + \\left(\\frac{L_{2} \\sin{\\left(\\theta_{2}{\\left(t \\right)} \\right)} \\frac{d}{d t} \\theta_{2}{\\left(t \\right)}}{2} + \\frac{d}{d t} y{\\left(t \\right)}\\right) \\sin{\\left(\\theta_{2}{\\left(t \\right)} \\right)} + \\left(\\frac{L_{2} \\cos{\\left(\\theta_{2}{\\left(t \\right)} \\right)} \\frac{d}{d t} \\theta_{2}{\\left(t \\right)}}{2} + \\frac{d}{d t} x{\\left(t \\right)}\\right) \\cos{\\left(\\theta_{2}{\\left(t \\right)} \\right)}\\\\\\left(\\frac{L_{2} \\sin{\\left(\\theta_{2}{\\left(t \\right)} \\right)}}{2} + x{\\left(t \\right)}\\right) \\sin{\\left(\\theta_{2}{\\left(t \\right)} \\right)} - \\left(- \\frac{L_{2} \\cos{\\left(\\theta_{2}{\\left(t \\right)} \\right)}}{2} + y{\\left(t \\right)}\\right) \\cos{\\left(\\theta_{2}{\\left(t \\right)} \\right)} + \\left(\\frac{L_{2} \\sin{\\left(\\theta_{2}{\\left(t \\right)} \\right)} \\frac{d}{d t} \\theta_{2}{\\left(t \\right)}}{2} + \\frac{d}{d t} y{\\left(t \\right)}\\right) \\cos{\\left(\\theta_{2}{\\left(t \\right)} \\right)} - \\left(\\frac{L_{2} \\cos{\\left(\\theta_{2}{\\left(t \\right)} \\right)} \\frac{d}{d t} \\theta_{2}{\\left(t \\right)}}{2} + \\frac{d}{d t} x{\\left(t \\right)}\\right) \\sin{\\left(\\theta_{2}{\\left(t \\right)} \\right)}\\\\0\\\\0\\\\0\\\\\\sin^{2}{\\left(\\theta_{2}{\\left(t \\right)} \\right)} \\frac{d}{d t} \\theta_{2}{\\left(t \\right)} + \\cos^{2}{\\left(\\theta_{2}{\\left(t \\right)} \\right)} \\frac{d}{d t} \\theta_{2}{\\left(t \\right)}\\end{matrix}\\right]$"
      ],
      "text/plain": [
       "Matrix([\n",
       "[-(L2*sin(theta2(t))/2 + x(t))*cos(theta2(t)) - (-L2*cos(theta2(t))/2 + y(t))*sin(theta2(t)) + (L2*sin(theta2(t))*Derivative(theta2(t), t)/2 + Derivative(y(t), t))*sin(theta2(t)) + (L2*cos(theta2(t))*Derivative(theta2(t), t)/2 + Derivative(x(t), t))*cos(theta2(t))],\n",
       "[ (L2*sin(theta2(t))/2 + x(t))*sin(theta2(t)) - (-L2*cos(theta2(t))/2 + y(t))*cos(theta2(t)) + (L2*sin(theta2(t))*Derivative(theta2(t), t)/2 + Derivative(y(t), t))*cos(theta2(t)) - (L2*cos(theta2(t))*Derivative(theta2(t), t)/2 + Derivative(x(t), t))*sin(theta2(t))],\n",
       "[                                                                                                                                                                                                                                                                      0],\n",
       "[                                                                                                                                                                                                                                                                      0],\n",
       "[                                                                                                                                                                                                                                                                      0],\n",
       "[                                                                                                                                                                                sin(theta2(t))**2*Derivative(theta2(t), t) + cos(theta2(t))**2*Derivative(theta2(t), t)]])"
      ]
     },
     "metadata": {},
     "output_type": "display_data"
    }
   ],
   "source": [
    "# Define the angular velocities\n",
    "body_velocity_b = sym.simplify(body_velocity(g_wa * g_ab, q[2]))\n",
    "body_velocity_c = sym.simplify(body_velocity(g_wa * g_ac, q[3]))"
   ]
  },
  {
   "cell_type": "code",
   "execution_count": 18,
   "metadata": {},
   "outputs": [
    {
     "data": {
      "text/latex": [
       "$\\displaystyle \\left[\\begin{matrix}\\frac{L_{1} \\frac{d}{d t} \\theta_{1}{\\left(t \\right)}}{2} - x{\\left(t \\right)} \\cos{\\left(\\theta_{1}{\\left(t \\right)} \\right)} - y{\\left(t \\right)} \\sin{\\left(\\theta_{1}{\\left(t \\right)} \\right)} + \\sin{\\left(\\theta_{1}{\\left(t \\right)} \\right)} \\frac{d}{d t} y{\\left(t \\right)} + \\cos{\\left(\\theta_{1}{\\left(t \\right)} \\right)} \\frac{d}{d t} x{\\left(t \\right)}\\\\\\frac{L_{1}}{2} + x{\\left(t \\right)} \\sin{\\left(\\theta_{1}{\\left(t \\right)} \\right)} - y{\\left(t \\right)} \\cos{\\left(\\theta_{1}{\\left(t \\right)} \\right)} - \\sin{\\left(\\theta_{1}{\\left(t \\right)} \\right)} \\frac{d}{d t} x{\\left(t \\right)} + \\cos{\\left(\\theta_{1}{\\left(t \\right)} \\right)} \\frac{d}{d t} y{\\left(t \\right)}\\\\0\\\\0\\\\0\\\\\\frac{d}{d t} \\theta_{1}{\\left(t \\right)}\\end{matrix}\\right]$"
      ],
      "text/plain": [
       "Matrix([\n",
       "[L1*Derivative(theta1(t), t)/2 - x(t)*cos(theta1(t)) - y(t)*sin(theta1(t)) + sin(theta1(t))*Derivative(y(t), t) + cos(theta1(t))*Derivative(x(t), t)],\n",
       "[                         L1/2 + x(t)*sin(theta1(t)) - y(t)*cos(theta1(t)) - sin(theta1(t))*Derivative(x(t), t) + cos(theta1(t))*Derivative(y(t), t)],\n",
       "[                                                                                                                                                  0],\n",
       "[                                                                                                                                                  0],\n",
       "[                                                                                                                                                  0],\n",
       "[                                                                                                                           Derivative(theta1(t), t)]])"
      ]
     },
     "metadata": {},
     "output_type": "display_data"
    },
    {
     "data": {
      "text/latex": [
       "$\\displaystyle \\left[\\begin{matrix}\\frac{L_{2} \\frac{d}{d t} \\theta_{2}{\\left(t \\right)}}{2} - x{\\left(t \\right)} \\cos{\\left(\\theta_{2}{\\left(t \\right)} \\right)} - y{\\left(t \\right)} \\sin{\\left(\\theta_{2}{\\left(t \\right)} \\right)} + \\sin{\\left(\\theta_{2}{\\left(t \\right)} \\right)} \\frac{d}{d t} y{\\left(t \\right)} + \\cos{\\left(\\theta_{2}{\\left(t \\right)} \\right)} \\frac{d}{d t} x{\\left(t \\right)}\\\\\\frac{L_{2}}{2} + x{\\left(t \\right)} \\sin{\\left(\\theta_{2}{\\left(t \\right)} \\right)} - y{\\left(t \\right)} \\cos{\\left(\\theta_{2}{\\left(t \\right)} \\right)} - \\sin{\\left(\\theta_{2}{\\left(t \\right)} \\right)} \\frac{d}{d t} x{\\left(t \\right)} + \\cos{\\left(\\theta_{2}{\\left(t \\right)} \\right)} \\frac{d}{d t} y{\\left(t \\right)}\\\\0\\\\0\\\\0\\\\\\frac{d}{d t} \\theta_{2}{\\left(t \\right)}\\end{matrix}\\right]$"
      ],
      "text/plain": [
       "Matrix([\n",
       "[L2*Derivative(theta2(t), t)/2 - x(t)*cos(theta2(t)) - y(t)*sin(theta2(t)) + sin(theta2(t))*Derivative(y(t), t) + cos(theta2(t))*Derivative(x(t), t)],\n",
       "[                         L2/2 + x(t)*sin(theta2(t)) - y(t)*cos(theta2(t)) - sin(theta2(t))*Derivative(x(t), t) + cos(theta2(t))*Derivative(y(t), t)],\n",
       "[                                                                                                                                                  0],\n",
       "[                                                                                                                                                  0],\n",
       "[                                                                                                                                                  0],\n",
       "[                                                                                                                           Derivative(theta2(t), t)]])"
      ]
     },
     "metadata": {},
     "output_type": "display_data"
    }
   ],
   "source": [
    "display(body_velocity_b, body_velocity_c)"
   ]
  },
  {
   "cell_type": "code",
   "execution_count": null,
   "metadata": {},
   "outputs": [
    {
     "data": {
      "text/latex": [
       "$\\displaystyle KE = 0.5 J_{1} \\left(\\frac{d}{d t} \\theta_{1}{\\left(t \\right)}\\right)^{2} + 0.5 J_{2} \\left(\\frac{d}{d t} \\theta_{2}{\\left(t \\right)}\\right)^{2} + 0.125 L_{1}^{2} m_{1} \\left(\\frac{d}{d t} \\theta_{1}{\\left(t \\right)}\\right)^{2} + 0.125 L_{1}^{2} m_{1} + 0.5 L_{1} m_{1} x{\\left(t \\right)} \\sin{\\left(\\theta_{1}{\\left(t \\right)} \\right)} - 0.5 L_{1} m_{1} x{\\left(t \\right)} \\cos{\\left(\\theta_{1}{\\left(t \\right)} \\right)} \\frac{d}{d t} \\theta_{1}{\\left(t \\right)} - 0.5 L_{1} m_{1} y{\\left(t \\right)} \\sin{\\left(\\theta_{1}{\\left(t \\right)} \\right)} \\frac{d}{d t} \\theta_{1}{\\left(t \\right)} - 0.5 L_{1} m_{1} y{\\left(t \\right)} \\cos{\\left(\\theta_{1}{\\left(t \\right)} \\right)} + 0.5 L_{1} m_{1} \\sin{\\left(\\theta_{1}{\\left(t \\right)} \\right)} \\frac{d}{d t} \\theta_{1}{\\left(t \\right)} \\frac{d}{d t} y{\\left(t \\right)} - 0.5 L_{1} m_{1} \\sin{\\left(\\theta_{1}{\\left(t \\right)} \\right)} \\frac{d}{d t} x{\\left(t \\right)} + 0.5 L_{1} m_{1} \\cos{\\left(\\theta_{1}{\\left(t \\right)} \\right)} \\frac{d}{d t} \\theta_{1}{\\left(t \\right)} \\frac{d}{d t} x{\\left(t \\right)} + 0.5 L_{1} m_{1} \\cos{\\left(\\theta_{1}{\\left(t \\right)} \\right)} \\frac{d}{d t} y{\\left(t \\right)} + 0.125 L_{2}^{2} m_{2} \\left(\\frac{d}{d t} \\theta_{2}{\\left(t \\right)}\\right)^{2} + 0.125 L_{2}^{2} m_{2} + 0.5 L_{2} m_{2} x{\\left(t \\right)} \\sin{\\left(\\theta_{2}{\\left(t \\right)} \\right)} - 0.5 L_{2} m_{2} x{\\left(t \\right)} \\cos{\\left(\\theta_{2}{\\left(t \\right)} \\right)} \\frac{d}{d t} \\theta_{2}{\\left(t \\right)} - 0.5 L_{2} m_{2} y{\\left(t \\right)} \\sin{\\left(\\theta_{2}{\\left(t \\right)} \\right)} \\frac{d}{d t} \\theta_{2}{\\left(t \\right)} - 0.5 L_{2} m_{2} y{\\left(t \\right)} \\cos{\\left(\\theta_{2}{\\left(t \\right)} \\right)} + 0.5 L_{2} m_{2} \\sin{\\left(\\theta_{2}{\\left(t \\right)} \\right)} \\frac{d}{d t} \\theta_{2}{\\left(t \\right)} \\frac{d}{d t} y{\\left(t \\right)} - 0.5 L_{2} m_{2} \\sin{\\left(\\theta_{2}{\\left(t \\right)} \\right)} \\frac{d}{d t} x{\\left(t \\right)} + 0.5 L_{2} m_{2} \\cos{\\left(\\theta_{2}{\\left(t \\right)} \\right)} \\frac{d}{d t} \\theta_{2}{\\left(t \\right)} \\frac{d}{d t} x{\\left(t \\right)} + 0.5 L_{2} m_{2} \\cos{\\left(\\theta_{2}{\\left(t \\right)} \\right)} \\frac{d}{d t} y{\\left(t \\right)} + 0.5 m_{1} x^{2}{\\left(t \\right)} - 1.0 m_{1} x{\\left(t \\right)} \\frac{d}{d t} x{\\left(t \\right)} + 0.5 m_{1} y^{2}{\\left(t \\right)} - 1.0 m_{1} y{\\left(t \\right)} \\frac{d}{d t} y{\\left(t \\right)} + 0.5 m_{1} \\left(\\frac{d}{d t} x{\\left(t \\right)}\\right)^{2} + 0.5 m_{1} \\left(\\frac{d}{d t} y{\\left(t \\right)}\\right)^{2} + 0.5 m_{2} x^{2}{\\left(t \\right)} - 1.0 m_{2} x{\\left(t \\right)} \\frac{d}{d t} x{\\left(t \\right)} + 0.5 m_{2} y^{2}{\\left(t \\right)} - 1.0 m_{2} y{\\left(t \\right)} \\frac{d}{d t} y{\\left(t \\right)} + 0.5 m_{2} \\left(\\frac{d}{d t} x{\\left(t \\right)}\\right)^{2} + 0.5 m_{2} \\left(\\frac{d}{d t} y{\\left(t \\right)}\\right)^{2}$"
      ],
      "text/plain": [
       "Eq(KE, 0.5*J1*Derivative(theta1(t), t)**2 + 0.5*J2*Derivative(theta2(t), t)**2 + 0.125*L1**2*m1*Derivative(theta1(t), t)**2 + 0.125*L1**2*m1 + 0.5*L1*m1*x(t)*sin(theta1(t)) - 0.5*L1*m1*x(t)*cos(theta1(t))*Derivative(theta1(t), t) - 0.5*L1*m1*y(t)*sin(theta1(t))*Derivative(theta1(t), t) - 0.5*L1*m1*y(t)*cos(theta1(t)) + 0.5*L1*m1*sin(theta1(t))*Derivative(theta1(t), t)*Derivative(y(t), t) - 0.5*L1*m1*sin(theta1(t))*Derivative(x(t), t) + 0.5*L1*m1*cos(theta1(t))*Derivative(theta1(t), t)*Derivative(x(t), t) + 0.5*L1*m1*cos(theta1(t))*Derivative(y(t), t) + 0.125*L2**2*m2*Derivative(theta2(t), t)**2 + 0.125*L2**2*m2 + 0.5*L2*m2*x(t)*sin(theta2(t)) - 0.5*L2*m2*x(t)*cos(theta2(t))*Derivative(theta2(t), t) - 0.5*L2*m2*y(t)*sin(theta2(t))*Derivative(theta2(t), t) - 0.5*L2*m2*y(t)*cos(theta2(t)) + 0.5*L2*m2*sin(theta2(t))*Derivative(theta2(t), t)*Derivative(y(t), t) - 0.5*L2*m2*sin(theta2(t))*Derivative(x(t), t) + 0.5*L2*m2*cos(theta2(t))*Derivative(theta2(t), t)*Derivative(x(t), t) + 0.5*L2*m2*cos(theta2(t))*Derivative(y(t), t) + 0.5*m1*x(t)**2 - 1.0*m1*x(t)*Derivative(x(t), t) + 0.5*m1*y(t)**2 - 1.0*m1*y(t)*Derivative(y(t), t) + 0.5*m1*Derivative(x(t), t)**2 + 0.5*m1*Derivative(y(t), t)**2 + 0.5*m2*x(t)**2 - 1.0*m2*x(t)*Derivative(x(t), t) + 0.5*m2*y(t)**2 - 1.0*m2*y(t)*Derivative(y(t), t) + 0.5*m2*Derivative(x(t), t)**2 + 0.5*m2*Derivative(y(t), t)**2)"
      ]
     },
     "metadata": {},
     "output_type": "display_data"
    }
   ],
   "source": [
    "# Define inertia matrices\n",
    "I1 = sym.Matrix([\n",
    "    [m1, 0, 0, 0, 0, 0],\n",
    "    [0, m1, 0, 0, 0, 0],\n",
    "    [0, 0, m1, 0, 0, 0],\n",
    "    [0, 0, 0, 1, 0, 0],\n",
    "    [0, 0, 0, 0, 1, 0],\n",
    "    [0, 0, 0, 0, 0, J1]\n",
    "])\n",
    "\n",
    "I2 = sym.Matrix([\n",
    "    [m2, 0, 0, 0, 0, 0],\n",
    "    [0, m2, 0, 0, 0, 0],\n",
    "    [0, 0, m2, 0, 0, 0],\n",
    "    [0, 0, 0, 2, 0, 0],\n",
    "    [0, 0, 0, 0, 2, 0],\n",
    "    [0, 0, 0, 0, 0, J2]\n",
    "])\n",
    "KE = 0.5 * body_velocity_b.T * I1 * body_velocity_b + 0.5 * body_velocity_c.T * I2 * body_velocity_c\n",
    "KE = sym.simplify(KE[0])\n",
    "\n",
    "KE_sym = sym.symbols('KE')\n",
    "display(sym.Eq(KE_sym, KE))"
   ]
  },
  {
   "cell_type": "code",
   "execution_count": 20,
   "metadata": {},
   "outputs": [
    {
     "data": {
      "text/latex": [
       "$\\displaystyle PE = g m_{1} \\left(- \\frac{L_{1} \\cos{\\left(\\theta_{1}{\\left(t \\right)} \\right)}}{2} + y{\\left(t \\right)}\\right) + g m_{2} \\left(- \\frac{L_{2} \\cos{\\left(\\theta_{2}{\\left(t \\right)} \\right)}}{2} + y{\\left(t \\right)}\\right)$"
      ],
      "text/plain": [
       "Eq(PE, g*m1*(-L1*cos(theta1(t))/2 + y(t)) + g*m2*(-L2*cos(theta2(t))/2 + y(t)))"
      ]
     },
     "metadata": {},
     "output_type": "display_data"
    }
   ],
   "source": [
    "PE = m1 * g * r_b[1] + m2 * g * r_c[1]\n",
    "PE_sym = sym.symbols('PE')\n",
    "display(sym.Eq(PE_sym, PE))"
   ]
  },
  {
   "cell_type": "code",
   "execution_count": 21,
   "metadata": {},
   "outputs": [
    {
     "data": {
      "text/latex": [
       "$\\displaystyle L = 0.5 J_{1} \\left(\\frac{d}{d t} \\theta_{1}{\\left(t \\right)}\\right)^{2} + 0.5 J_{2} \\left(\\frac{d}{d t} \\theta_{2}{\\left(t \\right)}\\right)^{2} + 0.125 L_{1}^{2} m_{1} \\left(\\frac{d}{d t} \\theta_{1}{\\left(t \\right)}\\right)^{2} + 0.125 L_{1}^{2} m_{1} + 0.5 L_{1} m_{1} x{\\left(t \\right)} \\sin{\\left(\\theta_{1}{\\left(t \\right)} \\right)} - 0.5 L_{1} m_{1} x{\\left(t \\right)} \\cos{\\left(\\theta_{1}{\\left(t \\right)} \\right)} \\frac{d}{d t} \\theta_{1}{\\left(t \\right)} - 0.5 L_{1} m_{1} y{\\left(t \\right)} \\sin{\\left(\\theta_{1}{\\left(t \\right)} \\right)} \\frac{d}{d t} \\theta_{1}{\\left(t \\right)} - 0.5 L_{1} m_{1} y{\\left(t \\right)} \\cos{\\left(\\theta_{1}{\\left(t \\right)} \\right)} + 0.5 L_{1} m_{1} \\sin{\\left(\\theta_{1}{\\left(t \\right)} \\right)} \\frac{d}{d t} \\theta_{1}{\\left(t \\right)} \\frac{d}{d t} y{\\left(t \\right)} - 0.5 L_{1} m_{1} \\sin{\\left(\\theta_{1}{\\left(t \\right)} \\right)} \\frac{d}{d t} x{\\left(t \\right)} + 0.5 L_{1} m_{1} \\cos{\\left(\\theta_{1}{\\left(t \\right)} \\right)} \\frac{d}{d t} \\theta_{1}{\\left(t \\right)} \\frac{d}{d t} x{\\left(t \\right)} + 0.5 L_{1} m_{1} \\cos{\\left(\\theta_{1}{\\left(t \\right)} \\right)} \\frac{d}{d t} y{\\left(t \\right)} + 0.125 L_{2}^{2} m_{2} \\left(\\frac{d}{d t} \\theta_{2}{\\left(t \\right)}\\right)^{2} + 0.125 L_{2}^{2} m_{2} + 0.5 L_{2} m_{2} x{\\left(t \\right)} \\sin{\\left(\\theta_{2}{\\left(t \\right)} \\right)} - 0.5 L_{2} m_{2} x{\\left(t \\right)} \\cos{\\left(\\theta_{2}{\\left(t \\right)} \\right)} \\frac{d}{d t} \\theta_{2}{\\left(t \\right)} - 0.5 L_{2} m_{2} y{\\left(t \\right)} \\sin{\\left(\\theta_{2}{\\left(t \\right)} \\right)} \\frac{d}{d t} \\theta_{2}{\\left(t \\right)} - 0.5 L_{2} m_{2} y{\\left(t \\right)} \\cos{\\left(\\theta_{2}{\\left(t \\right)} \\right)} + 0.5 L_{2} m_{2} \\sin{\\left(\\theta_{2}{\\left(t \\right)} \\right)} \\frac{d}{d t} \\theta_{2}{\\left(t \\right)} \\frac{d}{d t} y{\\left(t \\right)} - 0.5 L_{2} m_{2} \\sin{\\left(\\theta_{2}{\\left(t \\right)} \\right)} \\frac{d}{d t} x{\\left(t \\right)} + 0.5 L_{2} m_{2} \\cos{\\left(\\theta_{2}{\\left(t \\right)} \\right)} \\frac{d}{d t} \\theta_{2}{\\left(t \\right)} \\frac{d}{d t} x{\\left(t \\right)} + 0.5 L_{2} m_{2} \\cos{\\left(\\theta_{2}{\\left(t \\right)} \\right)} \\frac{d}{d t} y{\\left(t \\right)} - g m_{1} \\left(- \\frac{L_{1} \\cos{\\left(\\theta_{1}{\\left(t \\right)} \\right)}}{2} + y{\\left(t \\right)}\\right) - g m_{2} \\left(- \\frac{L_{2} \\cos{\\left(\\theta_{2}{\\left(t \\right)} \\right)}}{2} + y{\\left(t \\right)}\\right) + 0.5 m_{1} x^{2}{\\left(t \\right)} - 1.0 m_{1} x{\\left(t \\right)} \\frac{d}{d t} x{\\left(t \\right)} + 0.5 m_{1} y^{2}{\\left(t \\right)} - 1.0 m_{1} y{\\left(t \\right)} \\frac{d}{d t} y{\\left(t \\right)} + 0.5 m_{1} \\left(\\frac{d}{d t} x{\\left(t \\right)}\\right)^{2} + 0.5 m_{1} \\left(\\frac{d}{d t} y{\\left(t \\right)}\\right)^{2} + 0.5 m_{2} x^{2}{\\left(t \\right)} - 1.0 m_{2} x{\\left(t \\right)} \\frac{d}{d t} x{\\left(t \\right)} + 0.5 m_{2} y^{2}{\\left(t \\right)} - 1.0 m_{2} y{\\left(t \\right)} \\frac{d}{d t} y{\\left(t \\right)} + 0.5 m_{2} \\left(\\frac{d}{d t} x{\\left(t \\right)}\\right)^{2} + 0.5 m_{2} \\left(\\frac{d}{d t} y{\\left(t \\right)}\\right)^{2}$"
      ],
      "text/plain": [
       "Eq(L, 0.5*J1*Derivative(theta1(t), t)**2 + 0.5*J2*Derivative(theta2(t), t)**2 + 0.125*L1**2*m1*Derivative(theta1(t), t)**2 + 0.125*L1**2*m1 + 0.5*L1*m1*x(t)*sin(theta1(t)) - 0.5*L1*m1*x(t)*cos(theta1(t))*Derivative(theta1(t), t) - 0.5*L1*m1*y(t)*sin(theta1(t))*Derivative(theta1(t), t) - 0.5*L1*m1*y(t)*cos(theta1(t)) + 0.5*L1*m1*sin(theta1(t))*Derivative(theta1(t), t)*Derivative(y(t), t) - 0.5*L1*m1*sin(theta1(t))*Derivative(x(t), t) + 0.5*L1*m1*cos(theta1(t))*Derivative(theta1(t), t)*Derivative(x(t), t) + 0.5*L1*m1*cos(theta1(t))*Derivative(y(t), t) + 0.125*L2**2*m2*Derivative(theta2(t), t)**2 + 0.125*L2**2*m2 + 0.5*L2*m2*x(t)*sin(theta2(t)) - 0.5*L2*m2*x(t)*cos(theta2(t))*Derivative(theta2(t), t) - 0.5*L2*m2*y(t)*sin(theta2(t))*Derivative(theta2(t), t) - 0.5*L2*m2*y(t)*cos(theta2(t)) + 0.5*L2*m2*sin(theta2(t))*Derivative(theta2(t), t)*Derivative(y(t), t) - 0.5*L2*m2*sin(theta2(t))*Derivative(x(t), t) + 0.5*L2*m2*cos(theta2(t))*Derivative(theta2(t), t)*Derivative(x(t), t) + 0.5*L2*m2*cos(theta2(t))*Derivative(y(t), t) - g*m1*(-L1*cos(theta1(t))/2 + y(t)) - g*m2*(-L2*cos(theta2(t))/2 + y(t)) + 0.5*m1*x(t)**2 - 1.0*m1*x(t)*Derivative(x(t), t) + 0.5*m1*y(t)**2 - 1.0*m1*y(t)*Derivative(y(t), t) + 0.5*m1*Derivative(x(t), t)**2 + 0.5*m1*Derivative(y(t), t)**2 + 0.5*m2*x(t)**2 - 1.0*m2*x(t)*Derivative(x(t), t) + 0.5*m2*y(t)**2 - 1.0*m2*y(t)*Derivative(y(t), t) + 0.5*m2*Derivative(x(t), t)**2 + 0.5*m2*Derivative(y(t), t)**2)"
      ]
     },
     "metadata": {},
     "output_type": "display_data"
    }
   ],
   "source": [
    "L_sym = sym.symbols('L')\n",
    "L = KE - PE\n",
    "display(sym.Eq(L_sym, L))"
   ]
  },
  {
   "cell_type": "code",
   "execution_count": 22,
   "metadata": {},
   "outputs": [
    {
     "data": {
      "text/latex": [
       "$\\displaystyle \\left[\\begin{matrix}0.5 L_{1} m_{1} \\sin{\\left(\\theta_{1}{\\left(t \\right)} \\right)} \\left(\\frac{d}{d t} \\theta_{1}{\\left(t \\right)}\\right)^{2} + 0.5 L_{1} m_{1} \\sin{\\left(\\theta_{1}{\\left(t \\right)} \\right)} - 0.5 L_{1} m_{1} \\cos{\\left(\\theta_{1}{\\left(t \\right)} \\right)} \\frac{d^{2}}{d t^{2}} \\theta_{1}{\\left(t \\right)} + 0.5 L_{2} m_{2} \\sin{\\left(\\theta_{2}{\\left(t \\right)} \\right)} \\left(\\frac{d}{d t} \\theta_{2}{\\left(t \\right)}\\right)^{2} + 0.5 L_{2} m_{2} \\sin{\\left(\\theta_{2}{\\left(t \\right)} \\right)} - 0.5 L_{2} m_{2} \\cos{\\left(\\theta_{2}{\\left(t \\right)} \\right)} \\frac{d^{2}}{d t^{2}} \\theta_{2}{\\left(t \\right)} + 1.0 m_{1} x{\\left(t \\right)} - 1.0 m_{1} \\frac{d^{2}}{d t^{2}} x{\\left(t \\right)} + 1.0 m_{2} x{\\left(t \\right)} - 1.0 m_{2} \\frac{d^{2}}{d t^{2}} x{\\left(t \\right)}\\\\- 0.5 L_{1} m_{1} \\sin{\\left(\\theta_{1}{\\left(t \\right)} \\right)} \\frac{d^{2}}{d t^{2}} \\theta_{1}{\\left(t \\right)} - 0.5 L_{1} m_{1} \\cos{\\left(\\theta_{1}{\\left(t \\right)} \\right)} \\left(\\frac{d}{d t} \\theta_{1}{\\left(t \\right)}\\right)^{2} - 0.5 L_{1} m_{1} \\cos{\\left(\\theta_{1}{\\left(t \\right)} \\right)} - 0.5 L_{2} m_{2} \\sin{\\left(\\theta_{2}{\\left(t \\right)} \\right)} \\frac{d^{2}}{d t^{2}} \\theta_{2}{\\left(t \\right)} - 0.5 L_{2} m_{2} \\cos{\\left(\\theta_{2}{\\left(t \\right)} \\right)} \\left(\\frac{d}{d t} \\theta_{2}{\\left(t \\right)}\\right)^{2} - 0.5 L_{2} m_{2} \\cos{\\left(\\theta_{2}{\\left(t \\right)} \\right)} - g m_{1} - g m_{2} + 1.0 m_{1} y{\\left(t \\right)} - 1.0 m_{1} \\frac{d^{2}}{d t^{2}} y{\\left(t \\right)} + 1.0 m_{2} y{\\left(t \\right)} - 1.0 m_{2} \\frac{d^{2}}{d t^{2}} y{\\left(t \\right)}\\\\- 1.0 J_{1} \\frac{d^{2}}{d t^{2}} \\theta_{1}{\\left(t \\right)} - 0.25 L_{1}^{2} m_{1} \\frac{d^{2}}{d t^{2}} \\theta_{1}{\\left(t \\right)} - \\frac{L_{1} g m_{1} \\sin{\\left(\\theta_{1}{\\left(t \\right)} \\right)}}{2} + 0.5 L_{1} m_{1} x{\\left(t \\right)} \\cos{\\left(\\theta_{1}{\\left(t \\right)} \\right)} + 0.5 L_{1} m_{1} y{\\left(t \\right)} \\sin{\\left(\\theta_{1}{\\left(t \\right)} \\right)} - 0.5 L_{1} m_{1} \\sin{\\left(\\theta_{1}{\\left(t \\right)} \\right)} \\frac{d^{2}}{d t^{2}} y{\\left(t \\right)} - 0.5 L_{1} m_{1} \\cos{\\left(\\theta_{1}{\\left(t \\right)} \\right)} \\frac{d^{2}}{d t^{2}} x{\\left(t \\right)}\\\\- 1.0 J_{2} \\frac{d^{2}}{d t^{2}} \\theta_{2}{\\left(t \\right)} - 0.25 L_{2}^{2} m_{2} \\frac{d^{2}}{d t^{2}} \\theta_{2}{\\left(t \\right)} - \\frac{L_{2} g m_{2} \\sin{\\left(\\theta_{2}{\\left(t \\right)} \\right)}}{2} + 0.5 L_{2} m_{2} x{\\left(t \\right)} \\cos{\\left(\\theta_{2}{\\left(t \\right)} \\right)} + 0.5 L_{2} m_{2} y{\\left(t \\right)} \\sin{\\left(\\theta_{2}{\\left(t \\right)} \\right)} - 0.5 L_{2} m_{2} \\sin{\\left(\\theta_{2}{\\left(t \\right)} \\right)} \\frac{d^{2}}{d t^{2}} y{\\left(t \\right)} - 0.5 L_{2} m_{2} \\cos{\\left(\\theta_{2}{\\left(t \\right)} \\right)} \\frac{d^{2}}{d t^{2}} x{\\left(t \\right)}\\\\0\\\\0\\end{matrix}\\right]$"
      ],
      "text/plain": [
       "Matrix([\n",
       "[               0.5*L1*m1*sin(theta1(t))*Derivative(theta1(t), t)**2 + 0.5*L1*m1*sin(theta1(t)) - 0.5*L1*m1*cos(theta1(t))*Derivative(theta1(t), (t, 2)) + 0.5*L2*m2*sin(theta2(t))*Derivative(theta2(t), t)**2 + 0.5*L2*m2*sin(theta2(t)) - 0.5*L2*m2*cos(theta2(t))*Derivative(theta2(t), (t, 2)) + 1.0*m1*x(t) - 1.0*m1*Derivative(x(t), (t, 2)) + 1.0*m2*x(t) - 1.0*m2*Derivative(x(t), (t, 2))],\n",
       "[-0.5*L1*m1*sin(theta1(t))*Derivative(theta1(t), (t, 2)) - 0.5*L1*m1*cos(theta1(t))*Derivative(theta1(t), t)**2 - 0.5*L1*m1*cos(theta1(t)) - 0.5*L2*m2*sin(theta2(t))*Derivative(theta2(t), (t, 2)) - 0.5*L2*m2*cos(theta2(t))*Derivative(theta2(t), t)**2 - 0.5*L2*m2*cos(theta2(t)) - g*m1 - g*m2 + 1.0*m1*y(t) - 1.0*m1*Derivative(y(t), (t, 2)) + 1.0*m2*y(t) - 1.0*m2*Derivative(y(t), (t, 2))],\n",
       "[                                                                                                            -1.0*J1*Derivative(theta1(t), (t, 2)) - 0.25*L1**2*m1*Derivative(theta1(t), (t, 2)) - L1*g*m1*sin(theta1(t))/2 + 0.5*L1*m1*x(t)*cos(theta1(t)) + 0.5*L1*m1*y(t)*sin(theta1(t)) - 0.5*L1*m1*sin(theta1(t))*Derivative(y(t), (t, 2)) - 0.5*L1*m1*cos(theta1(t))*Derivative(x(t), (t, 2))],\n",
       "[                                                                                                            -1.0*J2*Derivative(theta2(t), (t, 2)) - 0.25*L2**2*m2*Derivative(theta2(t), (t, 2)) - L2*g*m2*sin(theta2(t))/2 + 0.5*L2*m2*x(t)*cos(theta2(t)) + 0.5*L2*m2*y(t)*sin(theta2(t)) - 0.5*L2*m2*sin(theta2(t))*Derivative(y(t), (t, 2)) - 0.5*L2*m2*cos(theta2(t))*Derivative(x(t), (t, 2))],\n",
       "[                                                                                                                                                                                                                                                                                                                                                                                                 0],\n",
       "[                                                                                                                                                                                                                                                                                                                                                                                                 0]])"
      ]
     },
     "metadata": {},
     "output_type": "display_data"
    }
   ],
   "source": [
    "# Calculate E-L equations\n",
    "dL_dq = L.diff(q)\n",
    "dL_dq_dot = L.diff(qd)\n",
    "\n",
    "EL_eq = dL_dq - dL_dq_dot.diff(t)\n",
    "EL_eq = EL_eq.col_join(sym.zeros(2, 1))\n",
    "display(EL_eq)"
   ]
  },
  {
   "cell_type": "code",
   "execution_count": null,
   "metadata": {},
   "outputs": [
    {
     "data": {
      "text/latex": [
       "$\\displaystyle \\left[\\begin{matrix}0\\\\0\\\\20 \\theta_{1}{\\left(t \\right)} - 21.932454224643 \\sin^{2}{\\left(\\frac{t}{2} \\right)} - 4.18879020478639\\\\20 \\theta_{2}{\\left(t \\right)} + 21.932454224643 \\sin^{2}{\\left(\\frac{t}{2} \\right)} + 4.18879020478639\\end{matrix}\\right]$"
      ],
      "text/plain": [
       "Matrix([\n",
       "[                                                            0],\n",
       "[                                                            0],\n",
       "[20*theta1(t) - 21.932454224643*sin(t/2)**2 - 4.18879020478639],\n",
       "[20*theta2(t) + 21.932454224643*sin(t/2)**2 + 4.18879020478639]])"
      ]
     },
     "metadata": {},
     "output_type": "display_data"
    }
   ],
   "source": [
    "phi_1, phi_2 = r_d[1], r_e[1]\n",
    "\n",
    "# calculate dphi dq\n",
    "dphi_dq_1, dphi_dq_2 = phi_1.diff(q), phi_2.diff(q)\n",
    "ddphi_dt_1, ddphi_dt_2 = phi_1.diff(t, 2), phi_2.diff(t, 2)\n",
    "\n",
    "\n",
    "k = 20\n",
    "theta1_torque = np.pi / 15 + ((np.pi / 3) * sym.sin(t / 2)) ** 2 \n",
    "theta2_torque = -np.pi / 15 - ((np.pi / 3) * sym.sin(t / 2)) ** 2\n",
    "torques = sym.Matrix([\n",
    "    0, 0, k * (q[2] - theta1_torque), k * (q[3] - theta2_torque)\n",
    "])\n",
    "display(torques)"
   ]
  },
  {
   "cell_type": "code",
   "execution_count": 24,
   "metadata": {},
   "outputs": [
    {
     "data": {
      "text/latex": [
       "$\\displaystyle \\left[\\begin{matrix}0\\\\\\lambda_{1} + \\lambda_{2}\\\\L_{1} \\lambda_{1} \\sin{\\left(\\theta_{1}{\\left(t \\right)} \\right)} + 20 \\theta_{1}{\\left(t \\right)} - 21.932454224643 \\sin^{2}{\\left(\\frac{t}{2} \\right)} - 4.18879020478639\\\\L_{2} \\lambda_{2} \\sin{\\left(\\theta_{2}{\\left(t \\right)} \\right)} + 20 \\theta_{2}{\\left(t \\right)} + 21.932454224643 \\sin^{2}{\\left(\\frac{t}{2} \\right)} + 4.18879020478639\\\\L_{1} \\sin{\\left(\\theta_{1}{\\left(t \\right)} \\right)} \\frac{d^{2}}{d t^{2}} \\theta_{1}{\\left(t \\right)} + L_{1} \\cos{\\left(\\theta_{1}{\\left(t \\right)} \\right)} \\left(\\frac{d}{d t} \\theta_{1}{\\left(t \\right)}\\right)^{2} + \\frac{d^{2}}{d t^{2}} y{\\left(t \\right)}\\\\L_{2} \\sin{\\left(\\theta_{2}{\\left(t \\right)} \\right)} \\frac{d^{2}}{d t^{2}} \\theta_{2}{\\left(t \\right)} + L_{2} \\cos{\\left(\\theta_{2}{\\left(t \\right)} \\right)} \\left(\\frac{d}{d t} \\theta_{2}{\\left(t \\right)}\\right)^{2} + \\frac{d^{2}}{d t^{2}} y{\\left(t \\right)}\\end{matrix}\\right]$"
      ],
      "text/plain": [
       "Matrix([\n",
       "[                                                                                                                         0],\n",
       "[                                                                                                       lambda_1 + lambda_2],\n",
       "[                                L1*lambda_1*sin(theta1(t)) + 20*theta1(t) - 21.932454224643*sin(t/2)**2 - 4.18879020478639],\n",
       "[                                L2*lambda_2*sin(theta2(t)) + 20*theta2(t) + 21.932454224643*sin(t/2)**2 + 4.18879020478639],\n",
       "[L1*sin(theta1(t))*Derivative(theta1(t), (t, 2)) + L1*cos(theta1(t))*Derivative(theta1(t), t)**2 + Derivative(y(t), (t, 2))],\n",
       "[L2*sin(theta2(t))*Derivative(theta2(t), (t, 2)) + L2*cos(theta2(t))*Derivative(theta2(t), t)**2 + Derivative(y(t), (t, 2))]])"
      ]
     },
     "metadata": {},
     "output_type": "display_data"
    }
   ],
   "source": [
    "rhs = lambda_1 * dphi_dq_1 + lambda_2 * dphi_dq_2 + torques\n",
    "\n",
    "# Assemble\n",
    "rhs_top = lambda_1 * dphi_dq_1 + lambda_2 * dphi_dq_2 + torques\n",
    "rhs_combined = rhs_top.col_join(sym.Matrix([ddphi_dt_1, ddphi_dt_2]))\n",
    "display(rhs_combined) "
   ]
  },
  {
   "cell_type": "code",
   "execution_count": 25,
   "metadata": {},
   "outputs": [
    {
     "data": {
      "text/latex": [
       "$\\displaystyle \\left[\\begin{matrix}0.5 L_{1} m_{1} \\sin{\\left(\\theta_{1}{\\left(t \\right)} \\right)} \\left(\\frac{d}{d t} \\theta_{1}{\\left(t \\right)}\\right)^{2} + 0.5 L_{1} m_{1} \\sin{\\left(\\theta_{1}{\\left(t \\right)} \\right)} - 0.5 L_{1} m_{1} \\cos{\\left(\\theta_{1}{\\left(t \\right)} \\right)} \\frac{d^{2}}{d t^{2}} \\theta_{1}{\\left(t \\right)} + 0.5 L_{2} m_{2} \\sin{\\left(\\theta_{2}{\\left(t \\right)} \\right)} \\left(\\frac{d}{d t} \\theta_{2}{\\left(t \\right)}\\right)^{2} + 0.5 L_{2} m_{2} \\sin{\\left(\\theta_{2}{\\left(t \\right)} \\right)} - 0.5 L_{2} m_{2} \\cos{\\left(\\theta_{2}{\\left(t \\right)} \\right)} \\frac{d^{2}}{d t^{2}} \\theta_{2}{\\left(t \\right)} + 1.0 m_{1} x{\\left(t \\right)} - 1.0 m_{1} \\frac{d^{2}}{d t^{2}} x{\\left(t \\right)} + 1.0 m_{2} x{\\left(t \\right)} - 1.0 m_{2} \\frac{d^{2}}{d t^{2}} x{\\left(t \\right)}\\\\- 0.5 L_{1} m_{1} \\sin{\\left(\\theta_{1}{\\left(t \\right)} \\right)} \\frac{d^{2}}{d t^{2}} \\theta_{1}{\\left(t \\right)} - 0.5 L_{1} m_{1} \\cos{\\left(\\theta_{1}{\\left(t \\right)} \\right)} \\left(\\frac{d}{d t} \\theta_{1}{\\left(t \\right)}\\right)^{2} - 0.5 L_{1} m_{1} \\cos{\\left(\\theta_{1}{\\left(t \\right)} \\right)} - 0.5 L_{2} m_{2} \\sin{\\left(\\theta_{2}{\\left(t \\right)} \\right)} \\frac{d^{2}}{d t^{2}} \\theta_{2}{\\left(t \\right)} - 0.5 L_{2} m_{2} \\cos{\\left(\\theta_{2}{\\left(t \\right)} \\right)} \\left(\\frac{d}{d t} \\theta_{2}{\\left(t \\right)}\\right)^{2} - 0.5 L_{2} m_{2} \\cos{\\left(\\theta_{2}{\\left(t \\right)} \\right)} - g m_{1} - g m_{2} + 1.0 m_{1} y{\\left(t \\right)} - 1.0 m_{1} \\frac{d^{2}}{d t^{2}} y{\\left(t \\right)} + 1.0 m_{2} y{\\left(t \\right)} - 1.0 m_{2} \\frac{d^{2}}{d t^{2}} y{\\left(t \\right)}\\\\- 1.0 J_{1} \\frac{d^{2}}{d t^{2}} \\theta_{1}{\\left(t \\right)} - 0.25 L_{1}^{2} m_{1} \\frac{d^{2}}{d t^{2}} \\theta_{1}{\\left(t \\right)} - \\frac{L_{1} g m_{1} \\sin{\\left(\\theta_{1}{\\left(t \\right)} \\right)}}{2} + 0.5 L_{1} m_{1} x{\\left(t \\right)} \\cos{\\left(\\theta_{1}{\\left(t \\right)} \\right)} + 0.5 L_{1} m_{1} y{\\left(t \\right)} \\sin{\\left(\\theta_{1}{\\left(t \\right)} \\right)} - 0.5 L_{1} m_{1} \\sin{\\left(\\theta_{1}{\\left(t \\right)} \\right)} \\frac{d^{2}}{d t^{2}} y{\\left(t \\right)} - 0.5 L_{1} m_{1} \\cos{\\left(\\theta_{1}{\\left(t \\right)} \\right)} \\frac{d^{2}}{d t^{2}} x{\\left(t \\right)}\\\\- 1.0 J_{2} \\frac{d^{2}}{d t^{2}} \\theta_{2}{\\left(t \\right)} - 0.25 L_{2}^{2} m_{2} \\frac{d^{2}}{d t^{2}} \\theta_{2}{\\left(t \\right)} - \\frac{L_{2} g m_{2} \\sin{\\left(\\theta_{2}{\\left(t \\right)} \\right)}}{2} + 0.5 L_{2} m_{2} x{\\left(t \\right)} \\cos{\\left(\\theta_{2}{\\left(t \\right)} \\right)} + 0.5 L_{2} m_{2} y{\\left(t \\right)} \\sin{\\left(\\theta_{2}{\\left(t \\right)} \\right)} - 0.5 L_{2} m_{2} \\sin{\\left(\\theta_{2}{\\left(t \\right)} \\right)} \\frac{d^{2}}{d t^{2}} y{\\left(t \\right)} - 0.5 L_{2} m_{2} \\cos{\\left(\\theta_{2}{\\left(t \\right)} \\right)} \\frac{d^{2}}{d t^{2}} x{\\left(t \\right)}\\\\0\\\\0\\end{matrix}\\right] = \\left[\\begin{matrix}0\\\\\\lambda_{1} + \\lambda_{2}\\\\L_{1} \\lambda_{1} \\sin{\\left(\\theta_{1}{\\left(t \\right)} \\right)} + 20 \\theta_{1}{\\left(t \\right)} - 21.932454224643 \\sin^{2}{\\left(\\frac{t}{2} \\right)} - 4.18879020478639\\\\L_{2} \\lambda_{2} \\sin{\\left(\\theta_{2}{\\left(t \\right)} \\right)} + 20 \\theta_{2}{\\left(t \\right)} + 21.932454224643 \\sin^{2}{\\left(\\frac{t}{2} \\right)} + 4.18879020478639\\\\L_{1} \\sin{\\left(\\theta_{1}{\\left(t \\right)} \\right)} \\frac{d^{2}}{d t^{2}} \\theta_{1}{\\left(t \\right)} + L_{1} \\cos{\\left(\\theta_{1}{\\left(t \\right)} \\right)} \\left(\\frac{d}{d t} \\theta_{1}{\\left(t \\right)}\\right)^{2} + \\frac{d^{2}}{d t^{2}} y{\\left(t \\right)}\\\\L_{2} \\sin{\\left(\\theta_{2}{\\left(t \\right)} \\right)} \\frac{d^{2}}{d t^{2}} \\theta_{2}{\\left(t \\right)} + L_{2} \\cos{\\left(\\theta_{2}{\\left(t \\right)} \\right)} \\left(\\frac{d}{d t} \\theta_{2}{\\left(t \\right)}\\right)^{2} + \\frac{d^{2}}{d t^{2}} y{\\left(t \\right)}\\end{matrix}\\right]$"
      ],
      "text/plain": [
       "Eq(Matrix([\n",
       "[               0.5*L1*m1*sin(theta1(t))*Derivative(theta1(t), t)**2 + 0.5*L1*m1*sin(theta1(t)) - 0.5*L1*m1*cos(theta1(t))*Derivative(theta1(t), (t, 2)) + 0.5*L2*m2*sin(theta2(t))*Derivative(theta2(t), t)**2 + 0.5*L2*m2*sin(theta2(t)) - 0.5*L2*m2*cos(theta2(t))*Derivative(theta2(t), (t, 2)) + 1.0*m1*x(t) - 1.0*m1*Derivative(x(t), (t, 2)) + 1.0*m2*x(t) - 1.0*m2*Derivative(x(t), (t, 2))],\n",
       "[-0.5*L1*m1*sin(theta1(t))*Derivative(theta1(t), (t, 2)) - 0.5*L1*m1*cos(theta1(t))*Derivative(theta1(t), t)**2 - 0.5*L1*m1*cos(theta1(t)) - 0.5*L2*m2*sin(theta2(t))*Derivative(theta2(t), (t, 2)) - 0.5*L2*m2*cos(theta2(t))*Derivative(theta2(t), t)**2 - 0.5*L2*m2*cos(theta2(t)) - g*m1 - g*m2 + 1.0*m1*y(t) - 1.0*m1*Derivative(y(t), (t, 2)) + 1.0*m2*y(t) - 1.0*m2*Derivative(y(t), (t, 2))],\n",
       "[                                                                                                            -1.0*J1*Derivative(theta1(t), (t, 2)) - 0.25*L1**2*m1*Derivative(theta1(t), (t, 2)) - L1*g*m1*sin(theta1(t))/2 + 0.5*L1*m1*x(t)*cos(theta1(t)) + 0.5*L1*m1*y(t)*sin(theta1(t)) - 0.5*L1*m1*sin(theta1(t))*Derivative(y(t), (t, 2)) - 0.5*L1*m1*cos(theta1(t))*Derivative(x(t), (t, 2))],\n",
       "[                                                                                                            -1.0*J2*Derivative(theta2(t), (t, 2)) - 0.25*L2**2*m2*Derivative(theta2(t), (t, 2)) - L2*g*m2*sin(theta2(t))/2 + 0.5*L2*m2*x(t)*cos(theta2(t)) + 0.5*L2*m2*y(t)*sin(theta2(t)) - 0.5*L2*m2*sin(theta2(t))*Derivative(y(t), (t, 2)) - 0.5*L2*m2*cos(theta2(t))*Derivative(x(t), (t, 2))],\n",
       "[                                                                                                                                                                                                                                                                                                                                                                                                 0],\n",
       "[                                                                                                                                                                                                                                                                                                                                                                                                 0]]), Matrix([\n",
       "[                                                                                                                         0],\n",
       "[                                                                                                       lambda_1 + lambda_2],\n",
       "[                                L1*lambda_1*sin(theta1(t)) + 20*theta1(t) - 21.932454224643*sin(t/2)**2 - 4.18879020478639],\n",
       "[                                L2*lambda_2*sin(theta2(t)) + 20*theta2(t) + 21.932454224643*sin(t/2)**2 + 4.18879020478639],\n",
       "[L1*sin(theta1(t))*Derivative(theta1(t), (t, 2)) + L1*cos(theta1(t))*Derivative(theta1(t), t)**2 + Derivative(y(t), (t, 2))],\n",
       "[L2*sin(theta2(t))*Derivative(theta2(t), (t, 2)) + L2*cos(theta2(t))*Derivative(theta2(t), t)**2 + Derivative(y(t), (t, 2))]]))"
      ]
     },
     "metadata": {},
     "output_type": "display_data"
    }
   ],
   "source": [
    "# Now construct the equations\n",
    "eq = sym.Eq(EL_eq, rhs_combined)\n",
    "display(eq)"
   ]
  },
  {
   "cell_type": "code",
   "execution_count": 26,
   "metadata": {},
   "outputs": [],
   "source": [
    "# Sub and solve\n",
    "sub = {\n",
    "    g: 9.8,\n",
    "    L1: 1,\n",
    "    L2: 1,\n",
    "    m1: 1,\n",
    "    m2: 1,\n",
    "    J1: 1,\n",
    "    J2: 1\n",
    "}\n",
    "# Add lambdas to qddot\n",
    "variables_to_solve_for = list(qdd) + [lambda_1, lambda_2]\n",
    "\n",
    "soln = sym.solve(eq.subs(sub), variables_to_solve_for, dict=True)"
   ]
  },
  {
   "cell_type": "code",
   "execution_count": 27,
   "metadata": {},
   "outputs": [],
   "source": [
    "solns = []\n",
    "for sol in soln:\n",
    "    for v in variables_to_solve_for:\n",
    "        solns.append(sym.simplify(sol[v]))"
   ]
  },
  {
   "cell_type": "code",
   "execution_count": 28,
   "metadata": {},
   "outputs": [],
   "source": [
    "# lambdify\n",
    "# q = sym.Matrix([x, y, theta1, theta2, lambda_1, lambda_2])\n",
    "lambdified = []\n",
    "\n",
    "for index, v in enumerate(variables_to_solve_for):\n",
    "    this_lmbd = sym.lambdify([*q, *qd, t], solns[index])\n",
    "    lambdified.append(this_lmbd)"
   ]
  },
  {
   "cell_type": "code",
   "execution_count": 29,
   "metadata": {},
   "outputs": [],
   "source": [
    "def dyn(s,t):\n",
    "    \"\"\"\n",
    "    System dynamics function (extended)\n",
    "    \n",
    "    Parameters\n",
    "    ============\n",
    "    s: NumPy array\n",
    "        s = [x, xdot] is the extended system\n",
    "        state vector, includng the position and\n",
    "        the velocity of the particle\n",
    "    \n",
    "    Return\n",
    "    ============\n",
    "    sdot: NumPy array\n",
    "        time derivative of input state vector,\n",
    "        sdot = [xdot, xddot]\n",
    "    \"\"\"\n",
    "    return np.array([s[4],s[5],s[6],s[7],lambdified[0](*s,t),lambdified[1](*s,t),lambdified[2](*s,t),lambdified[3](*s,t)])"
   ]
  },
  {
   "cell_type": "code",
   "execution_count": 30,
   "metadata": {},
   "outputs": [
    {
     "name": "stdout",
     "output_type": "stream",
     "text": [
      "shape of traj:  (8, 1000)\n"
     ]
    }
   ],
   "source": [
    "# define initial state\n",
    "initial = np.array([0, np.cos(np.pi / 15), np.pi/15, -np.pi/15, 0, 0, 0, 0])\n",
    "\n",
    "#simulate trajectory\n",
    "traj = simulate(dyn, initial, [0, 10], 0.01, integrate) \n",
    "print('shape of traj: ', traj.shape)"
   ]
  },
  {
   "cell_type": "code",
   "execution_count": 31,
   "metadata": {},
   "outputs": [
    {
     "data": {
      "image/png": "[encoded data removed]",
      "text/plain": [
       "<Figure size 1000x600 with 1 Axes>"
      ]
     },
     "metadata": {},
     "output_type": "display_data"
    }
   ],
   "source": [
    "### plotting...\n",
    "import matplotlib.pyplot as plt\n",
    "plt.figure(figsize=(10, 6))\n",
    "\n",
    "# Generate time points (assuming 1000 steps and 0.1 time interval)\n",
    "time_points = np.arange(1000) * 0.1\n",
    "\n",
    "# Assuming `traj` has 4 rows: [x, y, theta1, theta2]\n",
    "plt.plot(time_points, traj[0].T, label='x', color='blue')\n",
    "plt.plot(time_points, traj[1].T, label='y', color='orange')\n",
    "plt.plot(time_points, traj[2].T, label='θ₁', color='green')\n",
    "plt.plot(time_points, traj[3].T, label='θ₂', color='red')\n",
    "\n",
    "# Add labels, legend, and set axis limits\n",
    "plt.title(\"Trajectory of the System Over Time\", fontsize=16)\n",
    "plt.xlabel(\"Time (s)\", fontsize=14)\n",
    "plt.ylabel(\"State Variables\", fontsize=14)\n",
    "plt.ylim(-2, 2)\n",
    "plt.grid(True)\n",
    "plt.legend(fontsize=12)\n",
    "\n",
    "# Show plot\n",
    "plt.show()"
   ]
  },
  {
   "cell_type": "code",
   "execution_count": 32,
   "metadata": {},
   "outputs": [],
   "source": [
    "def animate(q_array,L1=1,L2=1,W1=0.2,W2=0.2,T=10):\n",
    "    \"\"\"\n",
    "    Function to generate web-based animation of double-pendulum system\n",
    "\n",
    "    Parameters:\n",
    "    ================================================\n",
    "    theta_array:\n",
    "        trajectory of theta1 and theta2, should be a NumPy array with\n",
    "        shape of (2,N)\n",
    "    L1, L2:\n",
    "        length of the first and second legs\n",
    "    W1, W2:\n",
    "        width of the first and second legs\n",
    "    T:\n",
    "        length/seconds of animation duration\n",
    "\n",
    "    Returns: None\n",
    "    \"\"\"\n",
    "\n",
    "    ################################\n",
    "    # Imports required for animation.\n",
    "    from plotly.offline import init_notebook_mode, iplot\n",
    "    from IPython.display import display, HTML\n",
    "    import plotly.graph_objects as go\n",
    "\n",
    "    #######################\n",
    "    # Browser configuration.\n",
    "    def configure_plotly_browser_state():\n",
    "        import IPython\n",
    "        display(IPython.core.display.HTML('''\n",
    "            <script src=\"/static/components/requirejs/require.js\"></script>\n",
    "            <script>\n",
    "              requirejs.config({\n",
    "                paths: {\n",
    "                  base: '/static/base',\n",
    "                  plotly: 'https://cdn.plot.ly/plotly-1.5.1.min.js?noext',\n",
    "                },\n",
    "              });\n",
    "            </script>\n",
    "            '''))\n",
    "    configure_plotly_browser_state()\n",
    "    init_notebook_mode(connected=False)\n",
    "\n",
    "    ###############################################\n",
    "    # Getting data from pendulum angle trajectories.\n",
    "#     xx1=L1*np.sin(theta_array[0])\n",
    "#     yy1=-L1*np.cos(theta_array[0])\n",
    "#     xx2=xx1+L2*np.sin(theta_array[0]+theta_array[1])\n",
    "#     yy2=yy1-L2*np.cos(theta_array[0]+theta_array[1])\n",
    "    xxA = q_array[0] #TODO: WHAT DO I NEED THIS FOR?\n",
    "    yyA = q_array[1]\n",
    "    N = len(q_array[0]) # Need this for specifying length of simulation\n",
    "\n",
    "    ###############################################\n",
    "    # Define arrays containing data for frame axes\n",
    "    # In each frame, the x and y axis are always fixed\n",
    "    x_axis = np.array([0.05, 0.0])\n",
    "    y_axis = np.array([0.0, 0.05])\n",
    "    origin = np.array([0.0, 0.0])\n",
    "    \n",
    "    #rectangle\n",
    "    rec1_bl = np.array([-W1/2., 0.0])\n",
    "    rec1_br = np.array([W1/2., 0.0])\n",
    "    rec1_tl = np.array([-W1/2., L1])\n",
    "    rec1_tr = np.array([W1/2., L1])\n",
    "    \n",
    "    rec2_bl = np.array([-W2/2., 0.0])\n",
    "    rec2_br = np.array([W2/2., 0.0])\n",
    "    rec2_tl = np.array([-W2/2., L2])\n",
    "    rec2_tr = np.array([W2/2., L2])\n",
    "    \n",
    "    # Use homogeneous tranformation to transfer these two axes/points\n",
    "    # back to the fixed frame\n",
    "    frame_a_x_axis = np.zeros((2,N))\n",
    "    frame_a_y_axis = np.zeros((2,N))\n",
    "    frame_a_origin = np.zeros((2,N))\n",
    "    \n",
    "    frame_b_x_axis = np.zeros((2,N))\n",
    "    frame_b_y_axis = np.zeros((2,N))\n",
    "    frame_b_origin = np.zeros((2,N))\n",
    "    \n",
    "    frame_c_x_axis = np.zeros((2,N))\n",
    "    frame_c_y_axis = np.zeros((2,N))\n",
    "    frame_c_origin = np.zeros((2,N))\n",
    "    \n",
    "    frame_d_x_axis = np.zeros((2,N))\n",
    "    frame_d_y_axis = np.zeros((2,N))\n",
    "    frame_d_origin = np.zeros((2,N))\n",
    "    \n",
    "    frame_e_x_axis = np.zeros((2,N))\n",
    "    frame_e_y_axis = np.zeros((2,N))\n",
    "    frame_e_origin = np.zeros((2,N))\n",
    "    \n",
    "    rec1_bl_w = np.zeros((2,N))\n",
    "    rec1_br_w = np.zeros((2,N))\n",
    "    rec1_tl_w = np.zeros((2,N))\n",
    "    rec1_tr_w = np.zeros((2,N))\n",
    "\n",
    "    rec2_bl_w = np.zeros((2,N))\n",
    "    rec2_br_w = np.zeros((2,N))\n",
    "    rec2_tl_w = np.zeros((2,N))\n",
    "    rec2_tr_w = np.zeros((2,N))\n",
    "    \n",
    "    for i in range(N): # iteration through each time step\n",
    "        # evaluate homogeneous transformations\n",
    "        t_wa = np.array([[1,0,q_array[0][i]],\n",
    "                         [0,1,q_array[1][i]],\n",
    "                         [0,0,1]])\n",
    "        t_ab = np.array([[np.cos(q_array[2][i]), -np.sin(q_array[2][i]), (L1/2)*np.sin(q_array[2][i])],\n",
    "                         [np.sin(q_array[2][i]),  np.cos(q_array[2][i]), -(L1/2)*np.cos(q_array[2][i])],\n",
    "                         [                        0,                          0, 1]])\n",
    "        t_bd = np.array([[1,0,0],\n",
    "                         [0,1,-L1/2],\n",
    "                         [0,0,1]])\n",
    "        t_ac = np.array([[np.cos(q_array[3][i]), -np.sin(q_array[3][i]), (L2/2)*np.sin(q_array[3][i])],\n",
    "                         [np.sin(q_array[3][i]),  np.cos(q_array[3][i]), -(L2/2)*np.cos(q_array[3][i])],\n",
    "                         [                        0,                          0, 1]])\n",
    "        t_ce = np.array([[1,0,0],\n",
    "                         [0,1,-L2/2],\n",
    "                         [0,0,1]])\n",
    "        \n",
    "        #multiplying to get specific frame transforms...\n",
    "        t_wb = np.matmul(t_wa,t_ab)\n",
    "        t_wc = np.matmul(t_wa,t_ac)\n",
    "        t_wd = np.matmul(t_wb,t_bd)\n",
    "        t_we = np.matmul(t_wc,t_ce)\n",
    "        \n",
    "        # transfer the x and y axes in body frame back to fixed frame at \n",
    "        # the current time step\n",
    "        frame_a_x_axis[:,i] = t_wa.dot([x_axis[0], x_axis[1], 1])[0:2]\n",
    "        frame_a_y_axis[:,i] = t_wa.dot([y_axis[0], y_axis[1], 1])[0:2]\n",
    "        frame_a_origin[:,i] = t_wa.dot([origin[0], origin[1], 1])[0:2]\n",
    "        \n",
    "        frame_b_x_axis[:,i] = t_wb.dot([x_axis[0], x_axis[1], 1])[0:2]\n",
    "        frame_b_y_axis[:,i] = t_wb.dot([y_axis[0], y_axis[1], 1])[0:2]\n",
    "        frame_b_origin[:,i] = t_wb.dot([origin[0], origin[1], 1])[0:2]\n",
    "        \n",
    "        frame_c_x_axis[:,i] = t_wc.dot([x_axis[0], x_axis[1], 1])[0:2]\n",
    "        frame_c_y_axis[:,i] = t_wc.dot([y_axis[0], y_axis[1], 1])[0:2]\n",
    "        frame_c_origin[:,i] = t_wc.dot([origin[0], origin[1], 1])[0:2]\n",
    "        \n",
    "        frame_d_x_axis[:,i] = t_wd.dot([x_axis[0], x_axis[1], 1])[0:2]\n",
    "        frame_d_y_axis[:,i] = t_wd.dot([y_axis[0], y_axis[1], 1])[0:2]\n",
    "        frame_d_origin[:,i] = t_wd.dot([origin[0], origin[1], 1])[0:2]\n",
    "        \n",
    "        frame_e_x_axis[:,i] = t_we.dot([x_axis[0], x_axis[1], 1])[0:2]\n",
    "        frame_e_y_axis[:,i] = t_we.dot([y_axis[0], y_axis[1], 1])[0:2]\n",
    "        frame_e_origin[:,i] = t_we.dot([origin[0], origin[1], 1])[0:2]\n",
    "        \n",
    "        #Setting up the rectangle\n",
    "        rec1_bl_w[:,i] = t_wd.dot([rec1_bl[0], rec1_bl[1], 1])[0:2]\n",
    "        rec1_br_w[:,i] = t_wd.dot([rec1_br[0], rec1_br[1], 1])[0:2]\n",
    "        rec1_tl_w[:,i] = t_wd.dot([rec1_tl[0], rec1_tl[1], 1])[0:2]\n",
    "        rec1_tr_w[:,i] = t_wd.dot([rec1_tr[0], rec1_tr[1], 1])[0:2]\n",
    "        \n",
    "        rec2_bl_w[:,i] = t_we.dot([rec2_bl[0], rec2_bl[1], 1])[0:2]\n",
    "        rec2_br_w[:,i] = t_we.dot([rec2_br[0], rec2_br[1], 1])[0:2]\n",
    "        rec2_tl_w[:,i] = t_we.dot([rec2_tl[0], rec2_tl[1], 1])[0:2]\n",
    "        rec2_tr_w[:,i] = t_we.dot([rec2_tr[0], rec2_tr[1], 1])[0:2]\n",
    "\n",
    "    ####################################\n",
    "    # Using these to specify axis limits.\n",
    "    xm = -1.5 #np.min(xx1)-0.5\n",
    "    xM = 1.5 #np.max(xx1)+0.5\n",
    "    ym = -1.5 #np.min(yy1)-2.5\n",
    "    yM = 1.5 #np.max(yy1)+1.5\n",
    "\n",
    "    ###########################\n",
    "    # Defining data dictionary.\n",
    "    # Trajectories are here.\n",
    "    data=[\n",
    "        # note that except for the trajectory (which you don't need this time),\n",
    "        # you don't need to define entries other than \"name\". The items defined\n",
    "        # in this list will be related to the items defined in the \"frames\" list\n",
    "        # later in the same order. Therefore, these entries can be considered as \n",
    "        # labels for the components in each animation frame\n",
    "        dict(name='World Frame X'),\n",
    "        dict(name='World Frame Y'),\n",
    "        dict(name='Rectangle1'),\n",
    "        dict(name='Rectangle1'),\n",
    "        dict(name='Rectangle1'),\n",
    "        dict(name='Rectangle1'),\n",
    "        dict(name='Rectangle2'),\n",
    "        dict(name='Rectangle2'),\n",
    "        dict(name='Rectangle2'),\n",
    "        dict(name='Rectangle2'),\n",
    "\n",
    "        # You don't need to show trajectory this time,\n",
    "        # but if you want to show the whole trajectory in the animation (like what\n",
    "        # you did in previous homeworks), you will need to define entries other than \n",
    "        # \"name\", such as \"x\", \"y\". and \"mode\".\n",
    "\n",
    "        # dict(x=xx1, y=yy1, \n",
    "        #      mode='markers', name='Pendulum 1 Traj', \n",
    "        #      marker=dict(color=\"fuchsia\", size=2)\n",
    "        #     ),\n",
    "        # dict(x=xx2, y=yy2, \n",
    "        #      mode='markers', name='Pendulum 2 Traj', \n",
    "        #      marker=dict(color=\"purple\", size=2)\n",
    "        #     ),\n",
    "        ]\n",
    "\n",
    "    ################################\n",
    "    # Preparing simulation layout.\n",
    "    # Title and axis ranges are here.\n",
    "    layout=dict(autosize=False, width=1000, height=1000,\n",
    "                xaxis=dict(range=[xm, xM], autorange=False, zeroline=True,dtick=1),\n",
    "                yaxis=dict(range=[ym, yM], autorange=False, zeroline=False,scaleanchor = \"x\",dtick=1),\n",
    "                title='Double Pendulum Simulation', \n",
    "                hovermode='closest',\n",
    "                updatemenus= [{'type': 'buttons',\n",
    "                               'buttons': [{'label': 'Play','method': 'animate',\n",
    "                                            'args': [None, {'frame': {'duration': T, 'redraw': False}}]},\n",
    "                                           {'args': [[None], {'frame': {'duration': T, 'redraw': False}, 'mode': 'immediate',\n",
    "                                            'transition': {'duration': 0}}],'label': 'Pause','method': 'animate'}\n",
    "                                          ]\n",
    "                              }]\n",
    "               )\n",
    "\n",
    "    ########################################\n",
    "    # Defining the frames of the simulation.\n",
    "    # This is what draws the lines from\n",
    "    # joint to joint of the pendulum.\n",
    "    frames=[dict(data=[# first three objects correspond to the arms and two masses,\n",
    "                       # same order as in the \"data\" variable defined above (thus \n",
    "                       # they will be labeled in the same order)\n",
    "                       dict(x=[0,x_axis[0]], \n",
    "                            y=[0,x_axis[1]], \n",
    "                            mode='lines',\n",
    "                            line=dict(color='orange', width=3),\n",
    "                            ),\n",
    "                       dict(x=[0,y_axis[0]], \n",
    "                            y=[0,y_axis[1]], \n",
    "                            mode='lines',\n",
    "                            line=dict(color='orange', width=3),\n",
    "                            ),\n",
    "                        # Leg 1\n",
    "                       dict(x=[rec1_bl_w[0][k], rec1_br_w[0][k]], \n",
    "                            y=[rec1_bl_w[1][k], rec1_br_w[1][k]],\n",
    "                            mode='lines',\n",
    "                            line=dict(color='red', width=3),\n",
    "                            ),\n",
    "                       dict(x=[rec1_br_w[0][k], rec1_tr_w[0][k]], \n",
    "                            y=[rec1_br_w[1][k], rec1_tr_w[1][k]],\n",
    "                            mode='lines',\n",
    "                            line=dict(color='red', width=3),\n",
    "                            ),\n",
    "                       dict(x=[rec1_tl_w[0][k], rec1_tr_w[0][k]], \n",
    "                            y=[rec1_tl_w[1][k], rec1_tr_w[1][k]],\n",
    "                            mode='lines',\n",
    "                            line=dict(color='red', width=3),\n",
    "                            ),\n",
    "                       dict(x=[rec1_bl_w[0][k], rec1_tl_w[0][k]], \n",
    "                            y=[rec1_bl_w[1][k], rec1_tl_w[1][k]],\n",
    "                            mode='lines',\n",
    "                            line=dict(color='red', width=3),\n",
    "                            ),\n",
    "                        # Leg 2\n",
    "                       dict(x=[rec2_bl_w[0][k], rec2_br_w[0][k]], \n",
    "                            y=[rec2_bl_w[1][k], rec2_br_w[1][k]],\n",
    "                            mode='lines',\n",
    "                            line=dict(color='blue', width=3),\n",
    "                            ),\n",
    "                       dict(x=[rec2_br_w[0][k], rec2_tr_w[0][k]], \n",
    "                            y=[rec2_br_w[1][k], rec2_tr_w[1][k]],\n",
    "                            mode='lines',\n",
    "                            line=dict(color='blue', width=3),\n",
    "                            ),\n",
    "                       dict(x=[rec2_tl_w[0][k], rec2_tr_w[0][k]], \n",
    "                            y=[rec2_tl_w[1][k], rec2_tr_w[1][k]],\n",
    "                            mode='lines',\n",
    "                            line=dict(color='blue', width=3),\n",
    "                            ),\n",
    "                       dict(x=[rec2_bl_w[0][k], rec2_tl_w[0][k]], \n",
    "                            y=[rec2_bl_w[1][k], rec2_tl_w[1][k]],\n",
    "                            mode='lines',\n",
    "                            line=dict(color='blue', width=3),\n",
    "                            )\n",
    "                      ]) for k in range(N)]\n",
    "                    \n",
    "\n",
    "    # add green ground at x = 0 as a line\n",
    "    data.append(dict(\n",
    "        x=[xm, xM], y=[0, 0],\n",
    "        mode='lines', name='Ground',\n",
    "        line=dict(color='green', width=4)\n",
    "    ))\n",
    "    #######################################\n",
    "    # Putting it all together and plotting.\n",
    "    figure1=dict(data=data, layout=layout, frames=frames)           \n",
    "    iplot(figure1)"
   ]
  },
  {
   "cell_type": "code",
   "execution_count": 33,
   "metadata": {},
   "outputs": [
    {
     "ename": "ModuleNotFoundError",
     "evalue": "No module named 'plotly'",
     "output_type": "error",
     "traceback": [
      "\u001b[0;31m---------------------------------------------------------------------------\u001b[0m",
      "\u001b[0;31mModuleNotFoundError\u001b[0m                       Traceback (most recent call last)",
      "Cell \u001b[0;32mIn[33], line 1\u001b[0m\n\u001b[0;32m----> 1\u001b[0m \u001b[43manimate\u001b[49m\u001b[43m(\u001b[49m\u001b[43mtraj\u001b[49m\u001b[43m[\u001b[49m\u001b[38;5;241;43m0\u001b[39;49m\u001b[43m:\u001b[49m\u001b[38;5;241;43m4\u001b[39;49m\u001b[43m]\u001b[49m\u001b[43m,\u001b[49m\u001b[43mL1\u001b[49m\u001b[38;5;241;43m=\u001b[39;49m\u001b[38;5;241;43m1\u001b[39;49m\u001b[43m,\u001b[49m\u001b[43mL2\u001b[49m\u001b[38;5;241;43m=\u001b[39;49m\u001b[38;5;241;43m1\u001b[39;49m\u001b[43m,\u001b[49m\u001b[43mW1\u001b[49m\u001b[38;5;241;43m=\u001b[39;49m\u001b[38;5;241;43m0.2\u001b[39;49m\u001b[43m,\u001b[49m\u001b[43mW2\u001b[49m\u001b[38;5;241;43m=\u001b[39;49m\u001b[38;5;241;43m0.2\u001b[39;49m\u001b[43m,\u001b[49m\u001b[43mT\u001b[49m\u001b[38;5;241;43m=\u001b[39;49m\u001b[38;5;241;43m10\u001b[39;49m\u001b[43m)\u001b[49m\n",
      "Cell \u001b[0;32mIn[32], line 22\u001b[0m, in \u001b[0;36manimate\u001b[0;34m(q_array, L1, L2, W1, W2, T)\u001b[0m\n\u001b[1;32m      2\u001b[0m \u001b[38;5;250m\u001b[39m\u001b[38;5;124;03m\"\"\"\u001b[39;00m\n\u001b[1;32m      3\u001b[0m \u001b[38;5;124;03mFunction to generate web-based animation of double-pendulum system\u001b[39;00m\n\u001b[1;32m      4\u001b[0m \n\u001b[0;32m   (...)\u001b[0m\n\u001b[1;32m     17\u001b[0m \u001b[38;5;124;03mReturns: None\u001b[39;00m\n\u001b[1;32m     18\u001b[0m \u001b[38;5;124;03m\"\"\"\u001b[39;00m\n\u001b[1;32m     20\u001b[0m \u001b[38;5;66;03m################################\u001b[39;00m\n\u001b[1;32m     21\u001b[0m \u001b[38;5;66;03m# Imports required for animation.\u001b[39;00m\n\u001b[0;32m---> 22\u001b[0m \u001b[38;5;28;01mfrom\u001b[39;00m \u001b[38;5;21;01mplotly\u001b[39;00m\u001b[38;5;21;01m.\u001b[39;00m\u001b[38;5;21;01moffline\u001b[39;00m \u001b[38;5;28;01mimport\u001b[39;00m init_notebook_mode, iplot\n\u001b[1;32m     23\u001b[0m \u001b[38;5;28;01mfrom\u001b[39;00m \u001b[38;5;21;01mIPython\u001b[39;00m\u001b[38;5;21;01m.\u001b[39;00m\u001b[38;5;21;01mdisplay\u001b[39;00m \u001b[38;5;28;01mimport\u001b[39;00m display, HTML\n\u001b[1;32m     24\u001b[0m \u001b[38;5;28;01mimport\u001b[39;00m \u001b[38;5;21;01mplotly\u001b[39;00m\u001b[38;5;21;01m.\u001b[39;00m\u001b[38;5;21;01mgraph_objects\u001b[39;00m \u001b[38;5;28;01mas\u001b[39;00m \u001b[38;5;21;01mgo\u001b[39;00m\n",
      "\u001b[0;31mModuleNotFoundError\u001b[0m: No module named 'plotly'"
     ]
    }
   ],
   "source": [
    "animate(traj[0:4],L1=1,L2=1,W1=0.2,W2=0.2,T=10)"
   ]
  },
  {
   "cell_type": "code",
   "execution_count": null,
   "metadata": {},
   "outputs": [],
   "source": []
  }
 ],
 "metadata": {
  "colab": {
   "provenance": []
  },
  "kernelspec": {
   "display_name": "venv",
   "language": "python",
   "name": "python3"
  },
  "language_info": {
   "codemirror_mode": {
    "name": "ipython",
    "version": 3
   },
   "file_extension": ".py",
   "mimetype": "text/x-python",
   "name": "python",
   "nbconvert_exporter": "python",
   "pygments_lexer": "ipython3",
   "version": "3.12.3"
  }
 },
 "nbformat": 4,
 "nbformat_minor": 0
}
