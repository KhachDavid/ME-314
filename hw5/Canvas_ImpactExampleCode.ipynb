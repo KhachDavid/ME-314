{
  "nbformat": 4,
  "nbformat_minor": 0,
  "metadata": {
    "colab": {
      "provenance": []
    },
    "kernelspec": {
      "name": "python3",
      "display_name": "Python 3"
    }
  },
  "cells": [
    {
      "cell_type": "markdown",
      "metadata": {
        "id": "RLu3IoyGJlvd"
      },
      "source": [
        "# Applying the Variational Principle to Impacts: An Illustrative Example\n",
        "\n",
        "We will be looking into a particle in gravity system that impacts the floor at some height."
      ]
    },
    {
      "cell_type": "markdown",
      "metadata": {
        "id": "qufTToXgLCSB"
      },
      "source": [
        "## Imports and Helpers"
      ]
    },
    {
      "cell_type": "code",
      "metadata": {
        "id": "FIjSuIZqJb5r"
      },
      "source": [
        "import numpy as np\n",
        "import sympy as sym\n",
        "from sympy.abc import t\n",
        "%matplotlib inline\n",
        "import matplotlib.pyplot as plt\n",
        "\n",
        "#######################\n",
        "# Custom latex printing\n",
        "def custom_latex_printer(exp,**options):\n",
        "    from google.colab.output._publish import javascript\n",
        "    url = \"https://cdnjs.cloudflare.com/ajax/libs/mathjax/2.7.3/latest.js?config=TeX-AMS_HTML\"\n",
        "    javascript(url=url)\n",
        "    return sym.printing.latex(exp,**options)\n",
        "sym.init_printing(use_latex=\"mathjax\",latex_printer=custom_latex_printer)\n",
        "\n",
        "####################\n",
        "# Simulation helpers\n",
        "def integrate(f,x0,dt):\n",
        "    \"\"\"\n",
        "    This function takes in an initial condition x0 and a timestep dt,\n",
        "    as well as a dynamical system f(x) that outputs a vector of the\n",
        "    same dimension as x0. It outputs a vector x at the future time step.\n",
        "    \"\"\"\n",
        "    k1=dt*f(x0)\n",
        "    k2=dt*f(x0+k1/2.)\n",
        "    k3=dt*f(x0+k2/2.)\n",
        "    k4=dt*f(x0+k3)\n",
        "    xnew=x0+(1/6.)*(k1+2.*k2+2.*k3+k4)\n",
        "    return xnew"
      ],
      "execution_count": null,
      "outputs": []
    },
    {
      "cell_type": "markdown",
      "metadata": {
        "id": "GNUCCjcNxrI7"
      },
      "source": [
        "### Simulate impacts function starter code:\n",
        "If you were to make a copy of this code and run it all, you would not be able to simulate impacts. You will need to change this function below in your homework in some way to account for impacts."
      ]
    },
    {
      "cell_type": "code",
      "metadata": {
        "id": "wKGIfYvLxxAI"
      },
      "source": [
        "################################\n",
        "# TO BE CHANGED IN YOUR HOMEWORK\n",
        "def simulate_impact(f,x0,tspan,dt,phi_condition,impact_update):\n",
        "    \"\"\"\n",
        "    This function takes in an initial condition x0, a timestep dt,\n",
        "    a time span tspan consisting of a list [min_time, max_time],\n",
        "    as well as a dynamical system f(x) that outputs a vector of the\n",
        "    same dimension as x0. Additionally, it takes in a function\n",
        "    phi_condition(x) that evaluates whether or not a system is undergoing\n",
        "    impacts. Finally, impact_update(x) is a function that applies the\n",
        "    update law. simulate_impact outputs a full trajectory simulated\n",
        "    over the time span of dimensions (xvec_size, time_vec_size).\n",
        "    \"\"\"\n",
        "    N = int((max(tspan)-min(tspan))/dt)\n",
        "    x = np.copy(x0)\n",
        "    tvec = np.linspace(min(tspan),max(tspan),N)\n",
        "    xtraj = np.zeros((len(x0),N))\n",
        "    for i in range(N):\n",
        "        xtraj[:,i]=integrate(f,x,dt)\n",
        "        x = np.copy(xtraj[:,i])\n",
        "    return xtraj"
      ],
      "execution_count": null,
      "outputs": []
    },
    {
      "cell_type": "markdown",
      "metadata": {
        "id": "2gJrn6UhLLhp"
      },
      "source": [
        "## Setting up variables and constants we expect to use"
      ]
    },
    {
      "cell_type": "code",
      "metadata": {
        "id": "18iwjnkDLFeH"
      },
      "source": [
        "# Problem variables and constants\n",
        "m, g, h, lamb, tau, tau_minus, tau_plus = sym.symbols('m g h \\lambda τ τ^- τ^+')\n",
        "x = sym.Function(r'x')(t)\n",
        "y = sym.Function(r'y')(t)\n",
        "q = sym.Matrix([x, y])\n",
        "qdot = q.diff(t)\n",
        "qddot = qdot.diff(t)"
      ],
      "execution_count": null,
      "outputs": []
    },
    {
      "cell_type": "markdown",
      "metadata": {
        "id": "is_rPbj9QbMi"
      },
      "source": [
        "## Putting together our Lagrangian"
      ]
    },
    {
      "cell_type": "code",
      "metadata": {
        "id": "mHJ046uEL3MN",
        "colab": {
          "base_uri": "https://localhost:8080/",
          "height": 277
        },
        "outputId": "7a0cd95a-23e1-496e-892f-e48a40eddfea"
      },
      "source": [
        "# Getting Kinetic and Potential Energy\n",
        "KE = sym.simplify(sym.Rational(1,2)*m*qdot.T.dot(qdot))\n",
        "PE = m*g*(q[1])\n",
        "Lag = KE-PE\n",
        "\n",
        "print(\"Kinetic energy:\")\n",
        "display(KE)\n",
        "print(\"Potential energy:\")\n",
        "display(PE)\n",
        "print(\"Lagrangian:\")\n",
        "display(Lag)"
      ],
      "execution_count": null,
      "outputs": [
        {
          "output_type": "stream",
          "text": [
            "Kinetic energy:\n"
          ],
          "name": "stdout"
        },
        {
          "output_type": "display_data",
          "data": {
            "text/html": [
              "<script src='https://cdnjs.cloudflare.com/ajax/libs/mathjax/2.7.3/latest.js?config=TeX-AMS_HTML'></script>"
            ],
            "text/plain": [
              "<IPython.core.display.HTML object>"
            ]
          },
          "metadata": {
            "tags": []
          }
        },
        {
          "output_type": "display_data",
          "data": {
            "text/latex": "$$\\frac{m}{2} \\left(\\left(\\frac{d}{d t} x{\\left (t \\right )}\\right)^{2} + \\left(\\frac{d}{d t} y{\\left (t \\right )}\\right)^{2}\\right)$$",
            "text/plain": [
              "  ⎛          2             2⎞\n",
              "  ⎜⎛d       ⎞    ⎛d       ⎞ ⎟\n",
              "m⋅⎜⎜──(x(t))⎟  + ⎜──(y(t))⎟ ⎟\n",
              "  ⎝⎝dt      ⎠    ⎝dt      ⎠ ⎠\n",
              "─────────────────────────────\n",
              "              2              "
            ]
          },
          "metadata": {
            "tags": []
          }
        },
        {
          "output_type": "stream",
          "text": [
            "Potential energy:\n"
          ],
          "name": "stdout"
        },
        {
          "output_type": "display_data",
          "data": {
            "text/html": [
              "<script src='https://cdnjs.cloudflare.com/ajax/libs/mathjax/2.7.3/latest.js?config=TeX-AMS_HTML'></script>"
            ],
            "text/plain": [
              "<IPython.core.display.HTML object>"
            ]
          },
          "metadata": {
            "tags": []
          }
        },
        {
          "output_type": "display_data",
          "data": {
            "text/latex": "$$g m y{\\left (t \\right )}$$",
            "text/plain": [
              "g⋅m⋅y(t)"
            ]
          },
          "metadata": {
            "tags": []
          }
        },
        {
          "output_type": "stream",
          "text": [
            "Lagrangian:\n"
          ],
          "name": "stdout"
        },
        {
          "output_type": "display_data",
          "data": {
            "text/html": [
              "<script src='https://cdnjs.cloudflare.com/ajax/libs/mathjax/2.7.3/latest.js?config=TeX-AMS_HTML'></script>"
            ],
            "text/plain": [
              "<IPython.core.display.HTML object>"
            ]
          },
          "metadata": {
            "tags": []
          }
        },
        {
          "output_type": "display_data",
          "data": {
            "text/latex": "$$- g m y{\\left (t \\right )} + \\frac{m}{2} \\left(\\left(\\frac{d}{d t} x{\\left (t \\right )}\\right)^{2} + \\left(\\frac{d}{d t} y{\\left (t \\right )}\\right)^{2}\\right)$$",
            "text/plain": [
              "              ⎛          2             2⎞\n",
              "              ⎜⎛d       ⎞    ⎛d       ⎞ ⎟\n",
              "            m⋅⎜⎜──(x(t))⎟  + ⎜──(y(t))⎟ ⎟\n",
              "              ⎝⎝dt      ⎠    ⎝dt      ⎠ ⎠\n",
              "-g⋅m⋅y(t) + ─────────────────────────────\n",
              "                          2              "
            ]
          },
          "metadata": {
            "tags": []
          }
        }
      ]
    },
    {
      "cell_type": "markdown",
      "metadata": {
        "id": "pwqt2s73SSZ5"
      },
      "source": [
        "## Solving Euler-Lagrange equations (no impacts yet...)"
      ]
    },
    {
      "cell_type": "code",
      "metadata": {
        "id": "LTh2KctPQsCR",
        "colab": {
          "base_uri": "https://localhost:8080/",
          "height": 305
        },
        "outputId": "d1bca92a-dd27-46a5-d6f9-dedd2114a059"
      },
      "source": [
        "dLdq = sym.simplify(sym.Matrix([Lag]).jacobian(q).T)\n",
        "dLdqdot = sym.simplify(sym.Matrix([Lag]).jacobian(qdot).T)\n",
        "ddLdqdot_dt = sym.simplify(dLdqdot.diff(t))\n",
        "EL = sym.Eq(ddLdqdot_dt-dLdq,sym.Matrix([0,0]))\n",
        "ELsols = sym.solve(EL,[qddot[0],qddot[1]])\n",
        "\n",
        "print(\"Equations of motion:\")\n",
        "display(sym.Eq(qddot[0],ELsols[qddot[0]]))\n",
        "display(sym.Eq(qddot[1],ELsols[qddot[1]]))\n",
        "\n",
        "print(\"Converting dynamics to 1st order form:\")\n",
        "dyn = sym.Matrix([qdot[0],ELsols[qddot[0]],qdot[1],ELsols[qddot[1]]])\n",
        "display(dyn)"
      ],
      "execution_count": null,
      "outputs": [
        {
          "output_type": "stream",
          "text": [
            "Equations of motion:\n"
          ],
          "name": "stdout"
        },
        {
          "output_type": "display_data",
          "data": {
            "text/html": [
              "<script src='https://cdnjs.cloudflare.com/ajax/libs/mathjax/2.7.3/latest.js?config=TeX-AMS_HTML'></script>"
            ],
            "text/plain": [
              "<IPython.core.display.HTML object>"
            ]
          },
          "metadata": {
            "tags": []
          }
        },
        {
          "output_type": "display_data",
          "data": {
            "text/latex": "$$\\frac{d^{2}}{d t^{2}}  x{\\left (t \\right )} = 0$$",
            "text/plain": [
              "  2          \n",
              " d           \n",
              "───(x(t)) = 0\n",
              "  2          \n",
              "dt           "
            ]
          },
          "metadata": {
            "tags": []
          }
        },
        {
          "output_type": "display_data",
          "data": {
            "text/html": [
              "<script src='https://cdnjs.cloudflare.com/ajax/libs/mathjax/2.7.3/latest.js?config=TeX-AMS_HTML'></script>"
            ],
            "text/plain": [
              "<IPython.core.display.HTML object>"
            ]
          },
          "metadata": {
            "tags": []
          }
        },
        {
          "output_type": "display_data",
          "data": {
            "text/latex": "$$\\frac{d^{2}}{d t^{2}}  y{\\left (t \\right )} = - g$$",
            "text/plain": [
              "  2           \n",
              " d            \n",
              "───(y(t)) = -g\n",
              "  2           \n",
              "dt            "
            ]
          },
          "metadata": {
            "tags": []
          }
        },
        {
          "output_type": "stream",
          "text": [
            "Converting dynamics to 1st order form:\n"
          ],
          "name": "stdout"
        },
        {
          "output_type": "display_data",
          "data": {
            "text/html": [
              "<script src='https://cdnjs.cloudflare.com/ajax/libs/mathjax/2.7.3/latest.js?config=TeX-AMS_HTML'></script>"
            ],
            "text/plain": [
              "<IPython.core.display.HTML object>"
            ]
          },
          "metadata": {
            "tags": []
          }
        },
        {
          "output_type": "display_data",
          "data": {
            "text/latex": "$$\\left[\\begin{matrix}\\frac{d}{d t} x{\\left (t \\right )}\\\\0\\\\\\frac{d}{d t} y{\\left (t \\right )}\\\\- g\\end{matrix}\\right]$$",
            "text/plain": [
              "⎡d       ⎤\n",
              "⎢──(x(t))⎥\n",
              "⎢dt      ⎥\n",
              "⎢        ⎥\n",
              "⎢   0    ⎥\n",
              "⎢        ⎥\n",
              "⎢d       ⎥\n",
              "⎢──(y(t))⎥\n",
              "⎢dt      ⎥\n",
              "⎢        ⎥\n",
              "⎣   -g   ⎦"
            ]
          },
          "metadata": {
            "tags": []
          }
        }
      ]
    },
    {
      "cell_type": "markdown",
      "metadata": {
        "id": "1rekUtveSgoB"
      },
      "source": [
        "## Getting our Hamiltonian"
      ]
    },
    {
      "cell_type": "code",
      "metadata": {
        "id": "SBDRmqC_SfWO",
        "colab": {
          "base_uri": "https://localhost:8080/",
          "height": 115
        },
        "outputId": "37fe04d5-f716-4270-a1ca-2a197ec447e4"
      },
      "source": [
        "Ham = sym.simplify(dLdqdot.T.dot(qdot)-Lag)\n",
        "print(\"Hamiltonian:\")\n",
        "display(Ham)"
      ],
      "execution_count": null,
      "outputs": [
        {
          "output_type": "stream",
          "text": [
            "Hamiltonian:\n"
          ],
          "name": "stdout"
        },
        {
          "output_type": "display_data",
          "data": {
            "text/html": [
              "<script src='https://cdnjs.cloudflare.com/ajax/libs/mathjax/2.7.3/latest.js?config=TeX-AMS_HTML'></script>"
            ],
            "text/plain": [
              "<IPython.core.display.HTML object>"
            ]
          },
          "metadata": {
            "tags": []
          }
        },
        {
          "output_type": "display_data",
          "data": {
            "text/latex": "$$\\frac{m}{2} \\left(2 g y{\\left (t \\right )} + \\left(\\frac{d}{d t} x{\\left (t \\right )}\\right)^{2} + \\left(\\frac{d}{d t} y{\\left (t \\right )}\\right)^{2}\\right)$$",
            "text/plain": [
              "  ⎛                     2             2⎞\n",
              "  ⎜           ⎛d       ⎞    ⎛d       ⎞ ⎟\n",
              "m⋅⎜2⋅g⋅y(t) + ⎜──(x(t))⎟  + ⎜──(y(t))⎟ ⎟\n",
              "  ⎝           ⎝dt      ⎠    ⎝dt      ⎠ ⎠\n",
              "────────────────────────────────────────\n",
              "                   2                    "
            ]
          },
          "metadata": {
            "tags": []
          }
        }
      ]
    },
    {
      "cell_type": "markdown",
      "metadata": {
        "id": "7ETEwbXKTcS4"
      },
      "source": [
        "## Getting our impact surface (and its gradients)\n",
        "Our impact surface for this problem is\n",
        "$$\n",
        "\\phi(x,y) = y-h.\n",
        "$$\n",
        "This means that when $y=h$ we should hit the floor and bounce up."
      ]
    },
    {
      "cell_type": "code",
      "metadata": {
        "id": "epEwNFLYTbnF",
        "colab": {
          "base_uri": "https://localhost:8080/",
          "height": 105
        },
        "outputId": "aa2e2c1a-ef07-48c2-d702-5ce4dc308ca3"
      },
      "source": [
        "phi = q[1]-h\n",
        "gradphi = sym.simplify(sym.Matrix([phi]).jacobian(q).T)\n",
        "print(\"Gradient of our surface along q:\")\n",
        "display(gradphi)"
      ],
      "execution_count": null,
      "outputs": [
        {
          "output_type": "stream",
          "text": [
            "Gradient of our surface along q:\n"
          ],
          "name": "stdout"
        },
        {
          "output_type": "display_data",
          "data": {
            "text/html": [
              "<script src='https://cdnjs.cloudflare.com/ajax/libs/mathjax/2.7.3/latest.js?config=TeX-AMS_HTML'></script>"
            ],
            "text/plain": [
              "<IPython.core.display.HTML object>"
            ]
          },
          "metadata": {
            "tags": []
          }
        },
        {
          "output_type": "display_data",
          "data": {
            "text/latex": "$$\\left[\\begin{matrix}0\\\\1\\end{matrix}\\right]$$",
            "text/plain": [
              "⎡0⎤\n",
              "⎢ ⎥\n",
              "⎣1⎦"
            ]
          },
          "metadata": {
            "tags": []
          }
        }
      ]
    },
    {
      "cell_type": "markdown",
      "metadata": {
        "id": "pc4UBardS6aD"
      },
      "source": [
        "## Deriving the impact update equations\n",
        "\n",
        "Let's get started with deriving the impact update and put together useful configuration variables:"
      ]
    },
    {
      "cell_type": "code",
      "metadata": {
        "id": "Bu2QCXLJRARB"
      },
      "source": [
        "# Configuration variables before and after impact\n",
        "q_tau = q.subs(t,tau)\n",
        "q_minus = q.subs(t,tau_minus)\n",
        "q_plus = q.subs(t,tau_plus)\n",
        "qdot_minus = qdot.subs({q[0]:q_minus[0],q[1]:q_minus[1]})\n",
        "qdot_plus = qdot.subs({q[0]:q_plus[0],q[1]:q_plus[1]})"
      ],
      "execution_count": null,
      "outputs": []
    },
    {
      "cell_type": "markdown",
      "metadata": {
        "id": "TTqpTDomZiQk"
      },
      "source": [
        "### Momentum equations"
      ]
    },
    {
      "cell_type": "code",
      "metadata": {
        "id": "ODJ9_Z2TZlql",
        "colab": {
          "base_uri": "https://localhost:8080/",
          "height": 116
        },
        "outputId": "93b440a8-ade5-43a9-fcaa-e83e8e0b84e4"
      },
      "source": [
        "# Momentum before and after impact\n",
        "p_minus = dLdqdot.subs({q[0]:q_minus[0],q[1]:q_minus[1],qdot[0]:qdot_minus[0],qdot[1]:qdot_minus[1]})\n",
        "p_plus = dLdqdot.subs({q[0]:q_plus[0],q[1]:q_plus[1],qdot[0]:qdot_plus[0],qdot[1]:qdot_plus[1]})\n",
        "p_eq = sym.Eq(sym.simplify(p_plus-p_minus),lamb*gradphi)\n",
        "\n",
        "print(\"Impact equations due to momentum terms:\")\n",
        "display(p_eq)"
      ],
      "execution_count": null,
      "outputs": [
        {
          "output_type": "stream",
          "text": [
            "Impact equations due to momentum terms:\n"
          ],
          "name": "stdout"
        },
        {
          "output_type": "display_data",
          "data": {
            "text/html": [
              "<script src='https://cdnjs.cloudflare.com/ajax/libs/mathjax/2.7.3/latest.js?config=TeX-AMS_HTML'></script>"
            ],
            "text/plain": [
              "<IPython.core.display.HTML object>"
            ]
          },
          "metadata": {
            "tags": []
          }
        },
        {
          "output_type": "display_data",
          "data": {
            "text/latex": "$$\\left[\\begin{matrix}m \\left(\\frac{d}{d t} x{\\left (τ^{+} \\right )} - \\frac{d}{d t} x{\\left (τ^{-} \\right )}\\right)\\\\m \\left(\\frac{d}{d t} y{\\left (τ^{+} \\right )} - \\frac{d}{d t} y{\\left (τ^{-} \\right )}\\right)\\end{matrix}\\right] = \\left[\\begin{matrix}0\\\\\\lambda\\end{matrix}\\right]$$",
            "text/plain": [
              "⎡  ⎛d           d        ⎞⎤            \n",
              "⎢m⋅⎜──(x(τ⁺)) - ──(x(τ⁻))⎟⎥            \n",
              "⎢  ⎝dt          dt       ⎠⎥   ⎡   0   ⎤\n",
              "⎢                         ⎥ = ⎢       ⎥\n",
              "⎢  ⎛d           d        ⎞⎥   ⎣\\lambda⎦\n",
              "⎢m⋅⎜──(y(τ⁺)) - ──(y(τ⁻))⎟⎥            \n",
              "⎣  ⎝dt          dt       ⎠⎦            "
            ]
          },
          "metadata": {
            "tags": []
          }
        }
      ]
    },
    {
      "cell_type": "markdown",
      "metadata": {
        "id": "pWYXuA-PZock"
      },
      "source": [
        "### Now let's see what we get for the Hamiltonian conservation equation:"
      ]
    },
    {
      "cell_type": "code",
      "metadata": {
        "id": "X99WDsk3ZoyQ",
        "colab": {
          "base_uri": "https://localhost:8080/",
          "height": 98
        },
        "outputId": "61c05a3a-263c-4562-9708-6ce4dfe1eb5e"
      },
      "source": [
        "# Hamiltonian before and after impact\n",
        "Ham_minus = Ham.subs({q[0]:q_minus[0],q[1]:q_minus[1],qdot[0]:qdot_minus[0],qdot[1]:qdot_minus[1]})\n",
        "Ham_plus = Ham.subs({q[0]:q_plus[0],q[1]:q_plus[1],qdot[0]:qdot_plus[0],qdot[1]:qdot_plus[1]})\n",
        "display(sym.Eq(sym.simplify(Ham_plus-Ham_minus),0))"
      ],
      "execution_count": null,
      "outputs": [
        {
          "output_type": "display_data",
          "data": {
            "text/html": [
              "<script src='https://cdnjs.cloudflare.com/ajax/libs/mathjax/2.7.3/latest.js?config=TeX-AMS_HTML'></script>"
            ],
            "text/plain": [
              "<IPython.core.display.HTML object>"
            ]
          },
          "metadata": {
            "tags": []
          }
        },
        {
          "output_type": "display_data",
          "data": {
            "text/latex": "$$\\frac{m}{2} \\left(2 g y{\\left (τ^{+} \\right )} - 2 g y{\\left (τ^{-} \\right )} + \\left(\\frac{d}{d t} x{\\left (τ^{+} \\right )}\\right)^{2} - \\left(\\frac{d}{d t} x{\\left (τ^{-} \\right )}\\right)^{2} + \\left(\\frac{d}{d t} y{\\left (τ^{+} \\right )}\\right)^{2} - \\left(\\frac{d}{d t} y{\\left (τ^{-} \\right )}\\right)^{2}\\right) = 0$$",
            "text/plain": [
              "  ⎛                                   2              2              2         \n",
              "  ⎜                        ⎛d        ⎞    ⎛d        ⎞    ⎛d        ⎞    ⎛d    \n",
              "m⋅⎜2⋅g⋅y(τ⁺) - 2⋅g⋅y(τ⁻) + ⎜──(x(τ⁺))⎟  - ⎜──(x(τ⁻))⎟  + ⎜──(y(τ⁺))⎟  - ⎜──(y(\n",
              "  ⎝                        ⎝dt       ⎠    ⎝dt       ⎠    ⎝dt       ⎠    ⎝dt   \n",
              "──────────────────────────────────────────────────────────────────────────────\n",
              "                                          2                                   \n",
              "\n",
              "     2⎞    \n",
              "    ⎞ ⎟    \n",
              "τ⁻))⎟ ⎟    \n",
              "    ⎠ ⎠    \n",
              "─────── = 0\n",
              "           "
            ]
          },
          "metadata": {
            "tags": []
          }
        }
      ]
    },
    {
      "cell_type": "markdown",
      "metadata": {
        "id": "2ggTBh4AaIcF"
      },
      "source": [
        "### Is that right? Not quite! Don't forget that we only have a discontinuity in our velocities.\n",
        "\n",
        "This is to say, $y(\\tau^+)=y(\\tau^-).$ So our Hamiltonian impact update equation is then:"
      ]
    },
    {
      "cell_type": "code",
      "metadata": {
        "id": "Rmcow_uHatnI",
        "colab": {
          "base_uri": "https://localhost:8080/",
          "height": 115
        },
        "outputId": "40c893fb-7f5d-4370-f484-527a9c821806"
      },
      "source": [
        "Ham_minus_actual = Ham.subs({qdot[0]:qdot_minus[0],qdot[1]:qdot_minus[1]})\n",
        "Ham_plus_actual = Ham.subs({qdot[0]:qdot_plus[0],qdot[1]:qdot_plus[1]})\n",
        "Ham_eq = sym.Eq(sym.simplify(Ham_plus_actual-Ham_minus_actual),0)\n",
        "\n",
        "print(\"Impact equation due to Hamiltonian term:\")\n",
        "display(Ham_eq)"
      ],
      "execution_count": null,
      "outputs": [
        {
          "output_type": "stream",
          "text": [
            "Impact equation due to Hamiltonian term:\n"
          ],
          "name": "stdout"
        },
        {
          "output_type": "display_data",
          "data": {
            "text/html": [
              "<script src='https://cdnjs.cloudflare.com/ajax/libs/mathjax/2.7.3/latest.js?config=TeX-AMS_HTML'></script>"
            ],
            "text/plain": [
              "<IPython.core.display.HTML object>"
            ]
          },
          "metadata": {
            "tags": []
          }
        },
        {
          "output_type": "display_data",
          "data": {
            "text/latex": "$$\\frac{m}{2} \\left(\\left(\\frac{d}{d t} x{\\left (τ^{+} \\right )}\\right)^{2} - \\left(\\frac{d}{d t} x{\\left (τ^{-} \\right )}\\right)^{2} + \\left(\\frac{d}{d t} y{\\left (τ^{+} \\right )}\\right)^{2} - \\left(\\frac{d}{d t} y{\\left (τ^{-} \\right )}\\right)^{2}\\right) = 0$$",
            "text/plain": [
              "  ⎛           2              2              2              2⎞    \n",
              "  ⎜⎛d        ⎞    ⎛d        ⎞    ⎛d        ⎞    ⎛d        ⎞ ⎟    \n",
              "m⋅⎜⎜──(x(τ⁺))⎟  - ⎜──(x(τ⁻))⎟  + ⎜──(y(τ⁺))⎟  - ⎜──(y(τ⁻))⎟ ⎟    \n",
              "  ⎝⎝dt       ⎠    ⎝dt       ⎠    ⎝dt       ⎠    ⎝dt       ⎠ ⎠    \n",
              "───────────────────────────────────────────────────────────── = 0\n",
              "                              2                                  "
            ]
          },
          "metadata": {
            "tags": []
          }
        }
      ]
    },
    {
      "cell_type": "markdown",
      "metadata": {
        "id": "seRQpqLRb_Fo"
      },
      "source": [
        "### We can solve for the update directly from the equation above"
      ]
    },
    {
      "cell_type": "code",
      "metadata": {
        "id": "wAIL7k-Bb_bJ",
        "colab": {
          "base_uri": "https://localhost:8080/",
          "height": 269
        },
        "outputId": "a3df7569-747d-4040-b816-7dd491316277"
      },
      "source": [
        "ImpactEqs = sym.Eq(sym.Matrix([Ham_eq.lhs,p_eq.lhs[0],p_eq.lhs[1]]),sym.Matrix([Ham_eq.rhs,p_eq.rhs[0],p_eq.rhs[1]]))\n",
        "ImpactSols = sym.solve(ImpactEqs,[qdot_plus[0],qdot_plus[1],lamb])\n",
        "\n",
        "print(\"Solution 1:\")\n",
        "sol1 = sym.Matrix([ImpactSols[0][0],ImpactSols[0][1],ImpactSols[0][2]])\n",
        "display(sym.Eq(sym.Matrix([qdot_plus[0],qdot_plus[1],lamb]),sol1))\n",
        "\n",
        "print(\"Solution 2:\")\n",
        "sol2 = sym.Matrix([ImpactSols[1][0],ImpactSols[1][1],ImpactSols[1][2]])\n",
        "display(sym.Eq(sym.Matrix([qdot_plus[0],qdot_plus[1],lamb]),sol2))"
      ],
      "execution_count": null,
      "outputs": [
        {
          "output_type": "stream",
          "text": [
            "Solution 1:\n"
          ],
          "name": "stdout"
        },
        {
          "output_type": "display_data",
          "data": {
            "text/html": [
              "<script src='https://cdnjs.cloudflare.com/ajax/libs/mathjax/2.7.3/latest.js?config=TeX-AMS_HTML'></script>"
            ],
            "text/plain": [
              "<IPython.core.display.HTML object>"
            ]
          },
          "metadata": {
            "tags": []
          }
        },
        {
          "output_type": "display_data",
          "data": {
            "text/latex": "$$\\left[\\begin{matrix}\\frac{d}{d t} x{\\left (τ^{+} \\right )}\\\\\\frac{d}{d t} y{\\left (τ^{+} \\right )}\\\\\\lambda\\end{matrix}\\right] = \\left[\\begin{matrix}\\frac{d}{d t} x{\\left (τ^{-} \\right )}\\\\- \\frac{d}{d t} y{\\left (τ^{-} \\right )}\\\\- 2 m \\frac{d}{d t} y{\\left (τ^{-} \\right )}\\end{matrix}\\right]$$",
            "text/plain": [
              "              ⎡  d           ⎤\n",
              "⎡d        ⎤   ⎢  ──(x(τ⁻))   ⎥\n",
              "⎢──(x(τ⁺))⎥   ⎢  dt          ⎥\n",
              "⎢dt       ⎥   ⎢              ⎥\n",
              "⎢         ⎥   ⎢   d          ⎥\n",
              "⎢d        ⎥ = ⎢  -──(y(τ⁻))  ⎥\n",
              "⎢──(y(τ⁺))⎥   ⎢   dt         ⎥\n",
              "⎢dt       ⎥   ⎢              ⎥\n",
              "⎢         ⎥   ⎢     d        ⎥\n",
              "⎣ \\lambda ⎦   ⎢-2⋅m⋅──(y(τ⁻))⎥\n",
              "              ⎣     dt       ⎦"
            ]
          },
          "metadata": {
            "tags": []
          }
        },
        {
          "output_type": "stream",
          "text": [
            "Solution 2:\n"
          ],
          "name": "stdout"
        },
        {
          "output_type": "display_data",
          "data": {
            "text/html": [
              "<script src='https://cdnjs.cloudflare.com/ajax/libs/mathjax/2.7.3/latest.js?config=TeX-AMS_HTML'></script>"
            ],
            "text/plain": [
              "<IPython.core.display.HTML object>"
            ]
          },
          "metadata": {
            "tags": []
          }
        },
        {
          "output_type": "display_data",
          "data": {
            "text/latex": "$$\\left[\\begin{matrix}\\frac{d}{d t} x{\\left (τ^{+} \\right )}\\\\\\frac{d}{d t} y{\\left (τ^{+} \\right )}\\\\\\lambda\\end{matrix}\\right] = \\left[\\begin{matrix}\\frac{d}{d t} x{\\left (τ^{-} \\right )}\\\\\\frac{d}{d t} y{\\left (τ^{-} \\right )}\\\\0\\end{matrix}\\right]$$",
            "text/plain": [
              "⎡d        ⎤   ⎡d        ⎤\n",
              "⎢──(x(τ⁺))⎥   ⎢──(x(τ⁻))⎥\n",
              "⎢dt       ⎥   ⎢dt       ⎥\n",
              "⎢         ⎥   ⎢         ⎥\n",
              "⎢d        ⎥ = ⎢d        ⎥\n",
              "⎢──(y(τ⁺))⎥   ⎢──(y(τ⁻))⎥\n",
              "⎢dt       ⎥   ⎢dt       ⎥\n",
              "⎢         ⎥   ⎢         ⎥\n",
              "⎣ \\lambda ⎦   ⎣    0    ⎦"
            ]
          },
          "metadata": {
            "tags": []
          }
        }
      ]
    },
    {
      "cell_type": "markdown",
      "metadata": {
        "id": "-3e6qunLd5gT"
      },
      "source": [
        "This results in us getting a pair of solutions, but only one of them corresponds to physical behavior. Since $q$ must exist in the domain where $\\phi(q)\\geq0$, we can rule out the second solution, which implies that there is no impact surface."
      ]
    },
    {
      "cell_type": "code",
      "metadata": {
        "id": "XPLteyWBfFK7",
        "colab": {
          "base_uri": "https://localhost:8080/",
          "height": 99
        },
        "outputId": "70867883-527f-4185-a50e-d56a6fa08c24"
      },
      "source": [
        "print(\"So our impact update boils down to:\")\n",
        "display(sym.Eq(qdot_plus[1],sol1[1]))"
      ],
      "execution_count": null,
      "outputs": [
        {
          "output_type": "stream",
          "text": [
            "So our impact update boils down to:\n"
          ],
          "name": "stdout"
        },
        {
          "output_type": "display_data",
          "data": {
            "text/html": [
              "<script src='https://cdnjs.cloudflare.com/ajax/libs/mathjax/2.7.3/latest.js?config=TeX-AMS_HTML'></script>"
            ],
            "text/plain": [
              "<IPython.core.display.HTML object>"
            ]
          },
          "metadata": {
            "tags": []
          }
        },
        {
          "output_type": "display_data",
          "data": {
            "text/latex": "$$\\frac{d}{d t} y{\\left (τ^{+} \\right )} = - \\frac{d}{d t} y{\\left (τ^{-} \\right )}$$",
            "text/plain": [
              "d            d        \n",
              "──(y(τ⁺)) = -──(y(τ⁻))\n",
              "dt           dt       "
            ]
          },
          "metadata": {
            "tags": []
          }
        }
      ]
    },
    {
      "cell_type": "markdown",
      "metadata": {
        "id": "vCHz27kABl_3"
      },
      "source": [
        "## Preparing for numerical simulation"
      ]
    },
    {
      "cell_type": "markdown",
      "metadata": {
        "id": "4zzpmdAMB2s1"
      },
      "source": [
        "### Lambdifying our dynamics"
      ]
    },
    {
      "cell_type": "code",
      "metadata": {
        "id": "fIwaQt85B5uw"
      },
      "source": [
        "# We need dummy variables to avoid errors with the d/dt term\n",
        "vx, vy = sym.symbols('v_x v_y')\n",
        "\n",
        "# Substitute dummmy variable into both dynamics expressions\n",
        "dyn_dummy = dyn.subs({qdot[0]:vx, qdot[1]:vy, g:9.81, m:1.0})\n",
        "\n",
        "# Lambdify\n",
        "lam_dyn = sym.lambdify([q[0],vx,q[1],vy],dyn_dummy)\n",
        "\n",
        "# Define dynamics function\n",
        "def dynamics(x):\n",
        "    \"\"\"\n",
        "    the input 'x' contains x, xdot, y, ydot.\n",
        "    the output 'xvec' is determined  by your dynamics.\n",
        "    \"\"\"\n",
        "    xdot = lam_dyn(x[0],x[1],x[2],x[3])\n",
        "    return np.squeeze(xdot)"
      ],
      "execution_count": null,
      "outputs": []
    },
    {
      "cell_type": "markdown",
      "metadata": {
        "id": "wtRF4lkNDyIl"
      },
      "source": [
        "### Lambdifying impact surface expression"
      ]
    },
    {
      "cell_type": "code",
      "metadata": {
        "id": "9X685xiiD-71"
      },
      "source": [
        "lam_phi = sym.lambdify([q[1]],phi.subs(h,0.0))\n",
        "\n",
        "# Check phi(q)\n",
        "def phi_condition(x):\n",
        "    return lam_phi(x[2]) < 0\n",
        "\n",
        "# Flip y velocity\n",
        "def impact_update(x):\n",
        "    newx = np.copy(x)\n",
        "    newx[3] = -newx[3]\n",
        "    return newx"
      ],
      "execution_count": null,
      "outputs": []
    },
    {
      "cell_type": "markdown",
      "metadata": {
        "id": "vqgbI1XzGRIU"
      },
      "source": [
        "### Let's get our Hamiltonian too for fun"
      ]
    },
    {
      "cell_type": "code",
      "metadata": {
        "id": "uQyQMcbmGVMV"
      },
      "source": [
        "lam_Ham = sym.lambdify([q[0],vx,q[1],vy],Ham.subs({qdot[0]:vx, qdot[1]:vy, g:9.81, m:1.0}))"
      ],
      "execution_count": null,
      "outputs": []
    },
    {
      "cell_type": "markdown",
      "metadata": {
        "id": "KLNYRS-uF7rO"
      },
      "source": [
        "## Numerical simulation\n",
        "\n",
        "In order to handle impacts, we will have to use our impact simulation function:"
      ]
    },
    {
      "cell_type": "code",
      "metadata": {
        "id": "o0rIPQLpAuM5"
      },
      "source": [
        "tspan = [0,5]\n",
        "dt = 0.01\n",
        "x0 = np.array([0,0,1,0])\n",
        "xvec = simulate_impact(dynamics,x0,tspan,dt,phi_condition,impact_update)\n",
        "Hvec = np.array([lam_Ham(x[0],x[1],x[2],x[3]) for x in xvec.T])"
      ],
      "execution_count": null,
      "outputs": []
    },
    {
      "cell_type": "markdown",
      "metadata": {
        "id": "d_OWPpmcUXSV"
      },
      "source": [
        "## Plots"
      ]
    },
    {
      "cell_type": "code",
      "metadata": {
        "id": "blVvtvryUYmn",
        "colab": {
          "base_uri": "https://localhost:8080/",
          "height": 334
        },
        "outputId": "211e1a40-545c-4c3b-d0cb-1bfa03cd1108"
      },
      "source": [
        "t = np.arange(tspan[0],tspan[1],dt)\n",
        "plt.figure(facecolor='w',figsize=(14,5))\n",
        "plt.subplot(121)\n",
        "plt.plot(t,xvec[2])\n",
        "plt.grid(True)\n",
        "plt.xlim(tspan)\n",
        "plt.xlabel('Time (s)')\n",
        "plt.ylabel('States')\n",
        "plt.legend([r'$y(t)$'])\n",
        "\n",
        "plt.subplot(122)\n",
        "plt.plot(t,Hvec)\n",
        "plt.grid(True)\n",
        "plt.xlim(tspan)\n",
        "plt.xlabel('Time (s)')\n",
        "plt.ylabel('Hamiltonian')\n",
        "plt.show()"
      ],
      "execution_count": null,
      "outputs": [
        {
          "output_type": "display_data",
          "data": {
            "image/png": "[encoded data removed]",
            "text/plain": [
              "<Figure size 1008x360 with 2 Axes>"
            ]
          },
          "metadata": {
            "tags": []
          }
        }
      ]
    }
  ]
}