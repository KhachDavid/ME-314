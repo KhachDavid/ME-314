{
  "cells": [
    {
      "cell_type": "markdown",
      "metadata": {
        "id": "hpGKreNV1Zvi"
      },
      "source": [
        "# ME314 Homework 5\n",
        "\n",
        "### Submission instructions\n",
        "\n",
        "Deliverables that should be included with your submission are shown in **bold** at the end of each problem statement and the corresponding supplemental material. **Your homework will be graded IFF you submit a single PDF, .mp4 videos of animations when requested and a link to a Google colab file that meet all the requirements outlined below.**\n",
        "\n",
        "- List the names of students you've collaborated with on this homework assignment.\n",
        "- Include all of your code (and handwritten solutions when applicable) used to complete the problems.\n",
        "- Highlight your answers (i.e. **bold** and outline the answers) for handwritten or markdown questions and include simplified code outputs (e.g. .simplify()) for python questions.\n",
        "- Enable Google Colab permission for editing\n",
        " * Click Share in the upper right corner\n",
        " * Under \"Get Link\" click \"Share with...\" or \"Change\"\n",
        " * Then make sure it says \"Anyone with Link\" and \"Editor\" under the dropdown menu\n",
        "- Make sure all cells are run before submitting (i.e. check the permission by running your code in a private mode)\n",
        " * Please don't make changes to your file after submitting, so we can grade it!\n",
        "- Submit a link to your Google Colab file that has been run (before the submission deadline) and don't edit it afterwards!\n",
        "\n",
        "**NOTE:** This Juputer Notebook file serves as a template for you to start homework. Make sure you first copy this template to your own Google driver (click \"File\" -> \"Save a copy in Drive\"), and then start to edit it."
      ]
    },
    {
      "cell_type": "code",
      "execution_count": 20,
      "metadata": {
        "id": "g_-zrKKbRrtk"
      },
      "outputs": [],
      "source": [
        "#Import cell\n",
        "import sympy as sym\n",
        "import numpy as np"
      ]
    },
    {
      "cell_type": "code",
      "execution_count": 21,
      "metadata": {
        "id": "7Fr6sZey1Zvj"
      },
      "outputs": [],
      "source": [
        "##############################################################################################\n",
        "# If you're using Google Colab, uncomment this section by selecting the whole section and press\n",
        "# ctrl+'/' on your and keyboard. Run it before you start programming, this will enable the nice\n",
        "# LaTeX \"display()\" function for you. If you're using the local Jupyter environment, leave it alone\n",
        "##############################################################################################\n",
        "#def custom_latex_printer(exp,**options):\n",
        "#    from google.colab.output._publish import javascript\n",
        "#    url = \"https://cdnjs.cloudflare.com/ajax/libs/mathjax/3.1.1/latest.js?config=TeX-AMS_HTML\"\n",
        "#    javascript(url=url)\n",
        "#    return sym.printing.latex(exp,**options)\n",
        "#sym.init_printing(use_latex=\"mathjax\",latex_printer=custom_latex_printer)"
      ]
    },
    {
      "cell_type": "markdown",
      "metadata": {
        "id": "CWoRK0TT1Zvp"
      },
      "source": [
        "Below are the help functions in previous homeworks, which you may need for this homework."
      ]
    },
    {
      "cell_type": "code",
      "execution_count": 22,
      "metadata": {
        "id": "c_zO-b0K1Zvq"
      },
      "outputs": [
        {
          "name": "stderr",
          "output_type": "stream",
          "text": [
            "<>:2: SyntaxWarning: invalid escape sequence '\\d'\n",
            "<>:31: SyntaxWarning: invalid escape sequence '\\d'\n",
            "<>:2: SyntaxWarning: invalid escape sequence '\\d'\n",
            "<>:31: SyntaxWarning: invalid escape sequence '\\d'\n",
            "/tmp/ipykernel_1302608/372544484.py:2: SyntaxWarning: invalid escape sequence '\\d'\n",
            "  \"\"\"\n",
            "/tmp/ipykernel_1302608/372544484.py:31: SyntaxWarning: invalid escape sequence '\\d'\n",
            "  \"\"\"\n"
          ]
        }
      ],
      "source": [
        "def integrate(f, xt, dt):\n",
        "    \"\"\"\n",
        "    This function takes in an initial condition x(t) and a timestep dt,\n",
        "    as well as a dynamical system f(x) that outputs a vector of the\n",
        "    same dimension as x(t). It outputs a vector x(t+dt) at the future\n",
        "    time step.\n",
        "\n",
        "    Parameters\n",
        "    ============\n",
        "    dyn: Python function\n",
        "        derivate of the system at a given step x(t),\n",
        "        it can considered as \\dot{x}(t) = func(x(t))\n",
        "    xt: NumPy array\n",
        "        current step x(t)\n",
        "    dt:\n",
        "        step size for integration\n",
        "\n",
        "    Return\n",
        "    ============\n",
        "    new_xt:\n",
        "        value of x(t+dt) integrated from x(t)\n",
        "    \"\"\"\n",
        "    k1 = dt * f(xt)\n",
        "    k2 = dt * f(xt+k1/2.)\n",
        "    k3 = dt * f(xt+k2/2.)\n",
        "    k4 = dt * f(xt+k3)\n",
        "    new_xt = xt + (1/6.) * (k1+2.0*k2+2.0*k3+k4)\n",
        "    return new_xt\n",
        "\n",
        "def simulate(f, x0, tspan, dt, integrate):\n",
        "    \"\"\"\n",
        "    This function takes in an initial condition x0, a timestep dt,\n",
        "    a time span tspan consisting of a list [min_time, max_time],\n",
        "    as well as a dynamical system f(x) that outputs a vector of the\n",
        "    same dimension as x0. It outputs a full trajectory simulated\n",
        "    over the time span of dimensions (xvec_size, time_vec_size).\n",
        "\n",
        "    Parameters\n",
        "    ============\n",
        "    f: Python function\n",
        "        derivate of the system at a given step x(t),\n",
        "        it can considered as \\dot{x}(t) = func(x(t))\n",
        "    x0: NumPy array\n",
        "        initial conditions\n",
        "    tspan: Python list\n",
        "        tspan = [min_time, max_time], it defines the start and end\n",
        "        time of simulation\n",
        "    dt:\n",
        "        time step for numerical integration\n",
        "    integrate: Python function\n",
        "        numerical integration method used in this simulation\n",
        "\n",
        "    Return\n",
        "    ============\n",
        "    x_traj:\n",
        "        simulated trajectory of x(t) from t=0 to tf\n",
        "    \"\"\"\n",
        "    N = int((max(tspan)-min(tspan))/dt)\n",
        "    x = np.copy(x0)\n",
        "    tvec = np.linspace(min(tspan),max(tspan),N)\n",
        "    xtraj = np.zeros((len(x0),N))\n",
        "    for i in range(N):\n",
        "        xtraj[:,i]=integrate(f,x,dt)\n",
        "        x = np.copy(xtraj[:,i])\n",
        "    return xtraj\n",
        "\n",
        "def animate_double_pend(theta_array,L1=1,L2=1,T=10):\n",
        "    \"\"\"\n",
        "    Function to generate web-based animation of double-pendulum system\n",
        "\n",
        "    Parameters:\n",
        "    ================================================\n",
        "    theta_array:\n",
        "        trajectory of theta1 and theta2, should be a NumPy array with\n",
        "        shape of (2,N)\n",
        "    L1:\n",
        "        length of the first pendulum\n",
        "    L2:\n",
        "        length of the second pendulum\n",
        "    T:\n",
        "        length/seconds of animation duration\n",
        "\n",
        "    Returns: None\n",
        "    \"\"\"\n",
        "\n",
        "    ################################\n",
        "    # Imports required for animation.\n",
        "    from plotly.offline import init_notebook_mode, iplot\n",
        "    from IPython.display import display, HTML\n",
        "    import plotly.graph_objects as go\n",
        "\n",
        "    #######################\n",
        "    # Browser configuration.\n",
        "    def configure_plotly_browser_state():\n",
        "        import IPython\n",
        "        display(IPython.core.display.HTML('''\n",
        "            <script src=\"/static/components/requirejs/require.js\"></script>\n",
        "            <script>\n",
        "              requirejs.config({\n",
        "                paths: {\n",
        "                  base: '/static/base',\n",
        "                  plotly: 'https://cdn.plot.ly/plotly-latest.min.js?noext',\n",
        "                },\n",
        "              });\n",
        "            </script>\n",
        "            '''))\n",
        "    configure_plotly_browser_state()\n",
        "    init_notebook_mode(connected=False)\n",
        "\n",
        "    ###############################################\n",
        "    # Getting data from pendulum angle trajectories.\n",
        "    xx1=L1*np.sin(theta_array[0])\n",
        "    yy1=-L1*np.cos(theta_array[0])\n",
        "    xx2=xx1+L2*np.sin(theta_array[0]+theta_array[1])\n",
        "    yy2=yy1-L2*np.cos(theta_array[0]+theta_array[1])\n",
        "    N = len(theta_array[0]) # Need this for specifying length of simulation\n",
        "\n",
        "    ####################################\n",
        "    # Using these to specify axis limits.\n",
        "    xm=np.min(xx1)-0.5\n",
        "    xM=np.max(xx1)+0.5\n",
        "    ym=np.min(yy1)-2.5\n",
        "    yM=np.max(yy1)+1.5\n",
        "\n",
        "    ###########################\n",
        "    # Defining data dictionary.\n",
        "    # Trajectories are here.\n",
        "    data=[dict(x=xx1, y=yy1,\n",
        "               mode='lines', name='Arm',\n",
        "               line=dict(width=2, color='blue')\n",
        "              ),\n",
        "          dict(x=xx1, y=yy1,\n",
        "               mode='lines', name='Mass 1',\n",
        "               line=dict(width=2, color='purple')\n",
        "              ),\n",
        "          dict(x=xx2, y=yy2,\n",
        "               mode='lines', name='Mass 2',\n",
        "               line=dict(width=2, color='green')\n",
        "              ),\n",
        "          dict(x=xx1, y=yy1,\n",
        "               mode='markers', name='Pendulum 1 Traj',\n",
        "               marker=dict(color=\"purple\", size=2)\n",
        "              ),\n",
        "          dict(x=xx2, y=yy2,\n",
        "               mode='markers', name='Pendulum 2 Traj',\n",
        "               marker=dict(color=\"green\", size=2)\n",
        "              ),\n",
        "        ]\n",
        "\n",
        "    ################################\n",
        "    # Preparing simulation layout.\n",
        "    # Title and axis ranges are here.\n",
        "    layout=dict(xaxis=dict(range=[xm, xM], autorange=False, zeroline=False,dtick=1),\n",
        "                yaxis=dict(range=[ym, yM], autorange=False, zeroline=False,scaleanchor = \"x\",dtick=1),\n",
        "                title='Double Pendulum Simulation',\n",
        "                hovermode='closest',\n",
        "                updatemenus= [{'type': 'buttons',\n",
        "                               'buttons': [{'label': 'Play','method': 'animate',\n",
        "                                            'args': [None, {'frame': {'duration': T, 'redraw': False}}]},\n",
        "                                           {'args': [[None], {'frame': {'duration': T, 'redraw': False}, 'mode': 'immediate',\n",
        "                                            'transition': {'duration': 0}}],'label': 'Pause','method': 'animate'}\n",
        "                                          ]\n",
        "                              }]\n",
        "               )\n",
        "\n",
        "    ########################################\n",
        "    # Defining the frames of the simulation.\n",
        "    # This is what draws the lines from\n",
        "    # joint to joint of the pendulum.\n",
        "    frames=[dict(data=[dict(x=[0,xx1[k],xx2[k]],\n",
        "                            y=[0,yy1[k],yy2[k]],\n",
        "                            mode='lines',\n",
        "                            line=dict(color='red', width=3)\n",
        "                            ),\n",
        "                       go.Scatter(\n",
        "                            x=[xx1[k]],\n",
        "                            y=[yy1[k]],\n",
        "                            mode=\"markers\",\n",
        "                            marker=dict(color=\"blue\", size=12)),\n",
        "                       go.Scatter(\n",
        "                            x=[xx2[k]],\n",
        "                            y=[yy2[k]],\n",
        "                            mode=\"markers\",\n",
        "                            marker=dict(color=\"blue\", size=12)),\n",
        "                      ]) for k in range(N)]\n",
        "\n",
        "    #######################################\n",
        "    # Putting it all together and plotting.\n",
        "    figure1=dict(data=data, layout=layout, frames=frames)\n",
        "    iplot(figure1)\n",
        "\n",
        "def animate_triple_pend(theta_array, L1=1, L2=1, L3=1, T=10):\n",
        "    \"\"\"\n",
        "    Function to generate web-based animation of triple-pendulum system\n",
        "\n",
        "    Parameters:\n",
        "    ================================================\n",
        "    theta_array:\n",
        "        trajectory of theta1 and theta2, should be a NumPy array with\n",
        "        shape of (3,N)\n",
        "    L1:\n",
        "        length of the first pendulum\n",
        "    L2:\n",
        "        length of the second pendulum\n",
        "    L3:\n",
        "        length of the third pendulum\n",
        "    T:\n",
        "        length/seconds of animation duration\n",
        "\n",
        "    Returns: None\n",
        "    \"\"\"\n",
        "\n",
        "    ################################\n",
        "    # Imports required for animation.\n",
        "    from plotly.offline import init_notebook_mode, iplot\n",
        "    from IPython.display import display, HTML\n",
        "    import plotly.graph_objects as go\n",
        "\n",
        "    #######################\n",
        "    # Browser configuration.\n",
        "    def configure_plotly_browser_state():\n",
        "        import IPython\n",
        "        display(IPython.core.display.HTML('''\n",
        "            <script src=\"/static/components/requirejs/require.js\"></script>\n",
        "            <script>\n",
        "              requirejs.config({\n",
        "                paths: {\n",
        "                  base: '/static/base',\n",
        "                  plotly: 'https://cdn.plot.ly/plotly-1.5.1.min.js?noext',\n",
        "                },\n",
        "              });\n",
        "            </script>\n",
        "            '''))\n",
        "    configure_plotly_browser_state()\n",
        "    init_notebook_mode(connected=False)\n",
        "\n",
        "    ###############################################\n",
        "    # Getting data from pendulum angle trajectories.\n",
        "    xx1=L1*np.sin(theta_array[0])\n",
        "    yy1=-L1*np.cos(theta_array[0])\n",
        "    xx2=xx1+L2*np.sin(theta_array[0]+theta_array[1])\n",
        "    yy2=yy1-L2*np.cos(theta_array[0]+theta_array[1])\n",
        "    xx3=xx2+L3*np.sin(theta_array[0]+theta_array[1]+theta_array[2])\n",
        "    yy3=yy2-L3*np.cos(theta_array[0]+theta_array[1]+theta_array[2])\n",
        "    N = len(theta_array[0]) # Need this for specifying length of simulation\n",
        "\n",
        "    ####################################\n",
        "    # Using these to specify axis limits.\n",
        "    xm=np.min(xx1)-0.5\n",
        "    xM=np.max(xx1)+0.5\n",
        "    ym=np.min(yy1)-2.5\n",
        "    yM=np.max(yy1)+1.5\n",
        "\n",
        "    ###########################\n",
        "    # Defining data dictionary.\n",
        "    # Trajectories are here.\n",
        "    data=[dict(x=xx1, y=yy1,\n",
        "               mode='lines', name='Arm',\n",
        "               line=dict(width=2, color='blue')\n",
        "              ),\n",
        "          dict(x=xx1, y=yy1,\n",
        "               mode='lines', name='Mass 1',\n",
        "               line=dict(width=2, color='purple')\n",
        "              ),\n",
        "          dict(x=xx2, y=yy2,\n",
        "               mode='lines', name='Mass 2',\n",
        "               line=dict(width=2, color='green')\n",
        "              ),\n",
        "          dict(x=xx3, y=yy3,\n",
        "               mode='lines', name='Mass 3',\n",
        "               line=dict(width=2, color='yellow')\n",
        "              ),\n",
        "          dict(x=xx1, y=yy1,\n",
        "               mode='markers', name='Pendulum 1 Traj',\n",
        "               marker=dict(color=\"purple\", size=2)\n",
        "              ),\n",
        "          dict(x=xx2, y=yy2,\n",
        "               mode='markers', name='Pendulum 2 Traj',\n",
        "               marker=dict(color=\"green\", size=2)\n",
        "              ),\n",
        "          dict(x=xx3, y=yy3,\n",
        "               mode='markers', name='Pendulum 3 Traj',\n",
        "               marker=dict(color=\"yellow\", size=2)\n",
        "              ),\n",
        "        ]\n",
        "\n",
        "    ################################\n",
        "    # Preparing simulation layout.\n",
        "    # Title and axis ranges are here.\n",
        "    layout=dict(xaxis=dict(range=[xm, xM], autorange=False, zeroline=False,dtick=1),\n",
        "                yaxis=dict(range=[ym, yM], autorange=False, zeroline=False,scaleanchor = \"x\",dtick=1),\n",
        "                title='Double Pendulum Simulation',\n",
        "                hovermode='closest',\n",
        "                updatemenus= [{'type': 'buttons',\n",
        "                               'buttons': [{'label': 'Play','method': 'animate',\n",
        "                                            'args': [None, {'frame': {'duration': T, 'redraw': False}}]},\n",
        "                                           {'args': [[None], {'frame': {'duration': T, 'redraw': False}, 'mode': 'immediate',\n",
        "                                            'transition': {'duration': 0}}],'label': 'Pause','method': 'animate'}\n",
        "                                          ]\n",
        "                              }]\n",
        "               )\n",
        "\n",
        "    ########################################\n",
        "    # Defining the frames of the simulation.\n",
        "    # This is what draws the lines from\n",
        "    # joint to joint of the pendulum.\n",
        "    frames=[dict(data=[dict(x=[0,xx1[k],xx2[k],xx3[k]],\n",
        "                            y=[0,yy1[k],yy2[k],yy3[k]],\n",
        "                            mode='lines',\n",
        "                            line=dict(color='red', width=3)\n",
        "                            ),\n",
        "                       go.Scatter(\n",
        "                            x=[xx1[k]],\n",
        "                            y=[yy1[k]],\n",
        "                            mode=\"markers\",\n",
        "                            marker=dict(color=\"blue\", size=12)),\n",
        "                       go.Scatter(\n",
        "                            x=[xx2[k]],\n",
        "                            y=[yy2[k]],\n",
        "                            mode=\"markers\",\n",
        "                            marker=dict(color=\"blue\", size=12)),\n",
        "                       go.Scatter(\n",
        "                            x=[xx3[k]],\n",
        "                            y=[yy3[k]],\n",
        "                            mode=\"markers\",\n",
        "                            marker=dict(color=\"blue\", size=12)),\n",
        "                      ]) for k in range(N)]\n",
        "\n",
        "    #######################################\n",
        "    # Putting it all together and plotting.\n",
        "    figure1=dict(data=data, layout=layout, frames=frames)\n",
        "    iplot(figure1)\n"
      ]
    },
    {
      "cell_type": "code",
      "execution_count": 23,
      "metadata": {
        "colab": {
          "base_uri": "https://localhost:8080/",
          "height": 377
        },
        "id": "ErkFGzgk1Zvv",
        "outputId": "27772f90-d061-48e3-c23c-52b5da6d9e13"
      },
      "outputs": [
        {
          "data": {
            "text/html": [
              "<table><tr><td><img src='https://github.com/MuchenSun/ME314pngs/raw/master/singlepend.JPG' width=350' height='350'></table>"
            ],
            "text/plain": [
              "<IPython.core.display.HTML object>"
            ]
          },
          "metadata": {},
          "output_type": "display_data"
        }
      ],
      "source": [
        "from IPython.core.display import HTML\n",
        "display(HTML(\"<table><tr><td><img src='https://github.com/MuchenSun/ME314pngs/raw/master/singlepend.JPG' width=350' height='350'></table>\"))"
      ]
    },
    {
      "cell_type": "markdown",
      "metadata": {
        "id": "2BNpt_dn1Zv1"
      },
      "source": [
        "## Problem 1 (5pts)\n",
        "\n",
        "Consider the single pendulum showed above. Solve the Euler-Lagrange equations and simulate the system for $t\\in[0,5]$ with $dt=0.01, R=1, m=1, g=9.8$ given initial condition as $\\theta=\\frac{\\pi}{2}, \\dot{\\theta}=0$. Plot your simulation of the system (i.e. $\\theta$ versus time). Note that in this problem there is no impact involved (ignore the wall at the bottom).\n",
        "\n",
        "**Turn in: A copy of the code used to solve the EL-equations and numerically simulate the system. Also include code output, which should be the plot of the trajectory versus time.**"
      ]
    },
    {
      "cell_type": "code",
      "execution_count": 27,
      "metadata": {},
      "outputs": [
        {
          "data": {
            "image/png": "[encoded data removed]",
            "text/plain": [
              "<Figure size 640x480 with 1 Axes>"
            ]
          },
          "metadata": {},
          "output_type": "display_data"
        }
      ],
      "source": [
        "# Define symbols\n",
        "t = sym.symbols('t')\n",
        "theta = sym.Function('theta')(t)\n",
        "R, m, g = sym.symbols('R m g')\n",
        "theta_dot = sym.diff(theta, t)\n",
        "\n",
        "# Define Lagrangian\n",
        "T = 0.5 * m * (R * (sym.diff(theta)))**2  # Kinetic energy\n",
        "V = m * g * R * (1 - sym.cos(theta))       # Potential energy\n",
        "L = T - V                                  # Lagrangian\n",
        "# Euler-Lagrange equation\n",
        "dL_dtheta = sym.diff(L, theta)\n",
        "dL_dtheta_dot = sym.diff(L, sym.diff(theta, t))\n",
        "d_dt_dL_dtheta_dot = sym.diff(dL_dtheta_dot, t)\n",
        "EL_eq = sym.Eq(d_dt_dL_dtheta_dot - dL_dtheta, 0)\n",
        "\n",
        "# Solve Euler-Lagrange equation for theta''(t)\n",
        "theta_ddot = sym.solve(EL_eq, sym.diff(theta, (t, 2)))[0]\n",
        "\n",
        "# Convert to numerical function\n",
        "theta_ddot = theta_ddot.subs({R: 1, m: 1, g: 9.8}).simplify()\n",
        "theta_ddot_func = sym.lambdify([theta, theta_dot], theta_ddot)\n",
        "\n",
        "# Parameters\n",
        "dt = 0.01\n",
        "tspan = [0, 5]\n",
        "theta0 = np.pi / 2\n",
        "theta_dot0 = 0.0\n",
        "\n",
        "# Initial conditions\n",
        "x0 = np.array([theta0, theta_dot0])\n",
        "\n",
        "# Define the system of ODEs\n",
        "def pendulum_ode(x):\n",
        "    theta, theta_dot = x\n",
        "    theta_ddot = theta_ddot_func(theta, theta_dot)\n",
        "    return np.array([theta_dot, theta_ddot])\n",
        "\n",
        "# Time vector\n",
        "tvec = np.arange(tspan[0], tspan[1], dt)\n",
        "\n",
        "sol = simulate(pendulum_ode, x0, tspan, dt, integrate)\n",
        "\n",
        "# Integrate the ODE\n",
        "# Plot the results\n",
        "import matplotlib.pyplot as plt\n",
        "\n",
        "plt.plot(tvec, sol[0, :])\n",
        "plt.xlabel('Time [s]')\n",
        "plt.ylabel('Theta [rad]')\n",
        "plt.title('Single Pendulum Simulation')\n",
        "plt.grid(True)\n",
        "plt.show()\n"
      ]
    },
    {
      "cell_type": "markdown",
      "metadata": {
        "id": "KBSsV5nv1Zv7"
      },
      "source": [
        "## Problem 2 (10pts)\n",
        "\n",
        "Now, time for impact (i.e. don't ignore the vertical wall) ! As shown in the figure above, there is a wall such that the pendulum will hit it when $\\theta=0$. Recall that in the course notes, to solve the impact update rule, we have two set of equations:\n",
        "$$\n",
        "\\begin{aligned}\n",
        "\\frac{\\partial L}{\\partial \\dot{q}} \\Big\\vert^{\\tau^+}_{\\tau^-} & = \\lambda \\frac{\\partial \\phi}{\\partial q} \\\\\n",
        "\\left[ \\frac{\\partial L}{\\partial \\dot{q}}\\cdot\\dot{q} - L(q,\\dot{q}) \\right] \\Bigg\\vert^{\\tau^+}_{\\tau^-} & = 0\n",
        "\\end{aligned}\n",
        "$$\n",
        "    \n",
        "In this problem, you will need to symbolically compute the following three expressions contained the equations above:\n",
        "$$\\frac{\\partial L}{\\partial \\dot{q}}, \\quad \\frac{\\partial \\phi}{\\partial q}, \\quad \\frac{\\partial L}{\\partial \\dot{q}}\\cdot\\dot{q} - L(q,\\dot{q})$$\n",
        "\n",
        "> Hint 1: The third expression is the Hamiltonian of the system.\n",
        ">\n",
        "> Hint 2: All three expressions can be considered as functions of $q$ and $\\dot{q}$. If you have previously defined $q$ and $\\dot{q}$ as SymPy's function objects, now you will need to substitute them with dummy symbols (using SymPy's substitute method)\n",
        ">\n",
        "> Hint 3: $q$ and $\\dot{q}$ should be two sets of separate symbols.\n",
        "\n",
        "**Turn in: A copy of code used to symbolically compute the three expressions, also include the outputs of your code, which should be the three expressions (make sure there is no SymPy Function(t) left in your solution output).**"
      ]
    },
    {
      "cell_type": "code",
      "execution_count": 32,
      "metadata": {
        "id": "yhJmKcMk1Zv8"
      },
      "outputs": [
        {
          "name": "stderr",
          "output_type": "stream",
          "text": [
            "<>:1: SyntaxWarning: invalid escape sequence '\\d'\n",
            "<>:1: SyntaxWarning: invalid escape sequence '\\d'\n",
            "/tmp/ipykernel_1302608/3191069095.py:1: SyntaxWarning: invalid escape sequence '\\d'\n",
            "  q, q_dot = sym.symbols('q \\dot{q}')\n"
          ]
        },
        {
          "data": {
            "text/latex": [
              "$\\displaystyle 1.0 R^{2} \\dot{q} m$"
            ],
            "text/plain": [
              "1.0*R**2*\\dot{q}*m"
            ]
          },
          "metadata": {},
          "output_type": "display_data"
        },
        {
          "data": {
            "text/latex": [
              "$\\displaystyle 1$"
            ],
            "text/plain": [
              "1"
            ]
          },
          "metadata": {},
          "output_type": "display_data"
        },
        {
          "data": {
            "text/latex": [
              "$\\displaystyle 0.5 R^{2} \\dot{q}^{2} m + R g m \\left(1 - \\cos{\\left(q \\right)}\\right)$"
            ],
            "text/plain": [
              "0.5*R**2*\\dot{q}**2*m + R*g*m*(1 - cos(q))"
            ]
          },
          "metadata": {},
          "output_type": "display_data"
        }
      ],
      "source": [
        "q, q_dot = sym.symbols('q \\dot{q}')\n",
        "\n",
        "L_q = L.subs({theta: q, theta_dot: q_dot})\n",
        "\n",
        "dL_dq_dot = sym.diff(L_q, q_dot)\n",
        "\n",
        "# since phi = q, dphi_dq = 1\n",
        "dphi_dq = sym.diff(q, q)\n",
        "\n",
        "Hamiltonian_expr = dL_dq_dot * q_dot - L_q\n",
        "display(dL_dq_dot, dphi_dq, Hamiltonian_expr)"
      ]
    },
    {
      "cell_type": "markdown",
      "metadata": {
        "id": "aAmzJzld1ZwC"
      },
      "source": [
        "## Problem 3 (10pts)\n",
        "\n",
        "Now everything is ready for you to solve the impact update rules! To solve those equations, you will need to evaluate them right before and after the impact time at $\\tau^-$ and $\\tau^+$.\n",
        "\n",
        "> Hint 1: Here $\\dot{q}(\\tau^-)$ is actually same as the dummy symbol you defined in Problem 2 (why?), but you will need to define new dummy symbol for $\\dot{q}(\\tau^+)$. That is to say, $\\frac{\\partial L}{\\partial \\dot{q}}$ and $\\frac{\\partial L}{\\partial \\dot{q}}\\cdot\\dot{q} - L(q,\\dot{q})$ evaluated at $\\tau^-$ are those you already had in Problem 2, but you will need to substitute the dummy symbols of $\\dot{q}(\\tau^+)$ to evaluate them at $\\tau^+$.\n",
        "\n",
        "Based on the information above, define the equations for impact update and solve them for impact update rules. After solving the impact update solution, numerically evaluate it as a function using SymPy's lambdify method and test it with $\\theta(\\tau^-)=0.01, \\dot{\\theta}(\\tau^-)=2$.\n",
        "\n",
        "\n",
        "> Hint 2: In your equations and impact update solutions, there should be NO SymPy Function left (except for internal functions like $\\sin$ or $\\cos$).\n",
        ">\n",
        "> Hint 3: You may wonder where are $q(\\tau^-)$ and $q(\\tau^+)$? The real question at hand is do we really need new dummy variables for them?\n",
        ">\n",
        "> Hint 4: The solution of the impact update rules, which is obtained by solving the equations for the dummy variables corresponds to $\\dot{q}(\\tau^+)$ and $\\lambda$, can be a function of $q(\\tau^-)$ or a function of $q(\\tau^-)$ and $\\dot{q}(\\tau^-)$. While $q$ will not be updated during impact, including it now (as an argument in your lambdify function) may help you to combine the function into simulation later.\n",
        "\n",
        "**Turn in: A copy of code used to symbolically solve for the impact update rules and evaluate them numerically. Also, include the outputs of your code, which should be the test output of your numerically evaluated impact update function.**"
      ]
    },
    {
      "cell_type": "code",
      "execution_count": null,
      "metadata": {
        "id": "kJz9A5nY1ZwC"
      },
      "outputs": [],
      "source": []
    },
    {
      "cell_type": "markdown",
      "metadata": {
        "id": "8-Q9dAKH1ZwI"
      },
      "source": [
        "## Problem 4 (20pts)\n",
        "\n",
        "Finally, it's time to simulate the impact! To use impact update rules with our previous simulate function, there two more steps:\n",
        "1. Write a function called ''impact_condition'', which takes in $s=[q,\\dot{q}]$ and returns **True** if $s$ will cause an impact, otherwise the function will return **False**.\n",
        "\n",
        "> Hint 1 : you need to use the constraint $\\phi$ in this problem, and note that, since we are doing numerical evaluation, the impact condition will not be perfect, you will need to catch the change of sign at $\\phi(s)$ or setup a threshold to decide the condition.\n",
        "\n",
        "2. Now, with the ''impact_condition'' function and the numerically evaluated impact update rule for $\\dot{q}(\\tau^+)$ solved in last problem, find a way to combine them into the previous simulation function, thus it can simulate the impact. Pseudo-code for the simulate function can be found in lecture note 13.\n",
        "\n",
        "Simulate the system with same parameters and initial condition in Problem 1 for the single pendulum hitting the wall for five times. Plot the trajectory and animate the simulation (you need to modify the animation function by yourself).\n",
        "\n",
        "**Turn in: A copy of the code used to simulate the system. You don't need to include the animation function, but please include other code (impact_condition, simulate, ets.) used for simulating impact. Also, include the plot and a video for animation. The video can be uploaded separately through Canvas, and it should be in \".mp4\" format. You can use screen capture or record the screen directly with your phone.**"
      ]
    },
    {
      "cell_type": "code",
      "execution_count": null,
      "metadata": {
        "id": "OZb-SYKC1Zwk"
      },
      "outputs": [],
      "source": []
    },
    {
      "cell_type": "markdown",
      "metadata": {
        "id": "G00WpnULMTVl"
      },
      "source": [
        "## Problem 5 (10pts)"
      ]
    },
    {
      "cell_type": "code",
      "execution_count": null,
      "metadata": {
        "colab": {
          "base_uri": "https://localhost:8080/",
          "height": 477
        },
        "id": "PQ_2cckG1Zwn",
        "outputId": "68643808-cc33-4152-8d23-9b4f67ff6173"
      },
      "outputs": [
        {
          "data": {
            "text/html": [
              "<table><tr><td><img src='https://github.com/MuchenSun/ME314pngs/raw/master/tripend_constrained.JPG' width=500' height='450'></table>"
            ],
            "text/plain": [
              "<IPython.core.display.HTML object>"
            ]
          },
          "metadata": {},
          "output_type": "display_data"
        }
      ],
      "source": [
        "from IPython.core.display import HTML\n",
        "display(HTML(\"<table><tr><td><img src='https://github.com/MuchenSun/ME314pngs/raw/master/tripend_constrained.JPG' width=500' height='450'></table>\"))"
      ]
    },
    {
      "cell_type": "markdown",
      "metadata": {
        "id": "-yJ22XwU1Zwr"
      },
      "source": [
        "We will now consider a constrained triple-pendulum system with the system configuration $q=[\\theta_1, \\theta_2, \\theta_3]$. A constraint is such that *x coordinate* of the third pendulum (i.e. $m_3$) ONLY can not be smaller than 0 -- there exist a vertical wall high enough for third pendulum impact. Note that there is no constraint on *y coordinate* -- the top ceiling is infinitely high!\n",
        "\n",
        "Similar to Problem 2, symbolically compute the following three expressions contained the equations above:\n",
        "$$\\frac{\\partial L}{\\partial \\dot{q}}, \\quad \\frac{\\partial \\phi}{\\partial q}, \\quad \\frac{\\partial L}{\\partial \\dot{q}}\\cdot\\dot{q} - L(q,\\dot{q})$$\n",
        "\n",
        "Use $m_1=m_2=m_3=1$ and $R_1=R_2=R_3=1$ as numerical values in the equations (i.e. **do not** define $m_1, m_2, m_3, R_1, R_2, R_3$ as symbols).\n",
        "\n",
        "> Hint 1: As before, you will need to substitute $q$ and $\\dot{q}$ with dummy symbols.\n",
        "\n",
        "**Turn in: Include the code used to symbolically compute the three expressions, as well as code outputs - the resulting three expressions. Make sure there is no SymPy Function(t) left!**"
      ]
    },
    {
      "cell_type": "code",
      "execution_count": null,
      "metadata": {
        "id": "Bjgged841Zws"
      },
      "outputs": [],
      "source": []
    },
    {
      "cell_type": "markdown",
      "metadata": {
        "id": "khDZ_7QJ1Zw4"
      },
      "source": [
        "## Problem 6 (10pts)\n",
        "\n",
        "Similar to Problem 3, now you need to define dummy symbols for $\\dot{q}(\\tau^+)$, define the equations for impact update rules. Note that you don't need to solve the equations in this problem - in fact it's very time consuming to solve the analytical solution, and we will use a trick to get around it later!\n",
        "\n",
        "**Turn in: Include a copy of the code used to define the equations for impact update and the code output (i.e. print out of the equations).**"
      ]
    },
    {
      "cell_type": "code",
      "execution_count": null,
      "metadata": {
        "id": "S3ufZSrQ1Zw8"
      },
      "outputs": [],
      "source": []
    },
    {
      "cell_type": "markdown",
      "metadata": {
        "id": "PfMq1f0y1ZxA"
      },
      "source": [
        "## Problem 7 (15pts)\n",
        "\n",
        "Since solving the analytical symbolic solution of the impact update rules for the triple-pendulum system is too slow, here we will solve it along within the simulation. The idea is, when the impact happens, substitute the numerical values of $q$ and $\\dot{q}$ at that moment into the equations you got in Problem 6, thus you will just need to solve a set equations with most terms being numerical values (which is very fast).\n",
        "\n",
        "The first thing is to write a function called \"impact\\_update\\_triple\\_pend\". This function at least takes in the current state of the system $s(t^-) = [q(t^-), \\dot{q}(t^-)]$ or $\\dot{q}(t^-)$, inside the function you need to substitute in $q(t^-)$ and $\\dot{q}(t^-)$, solve for and return $s(t^+) = [q(t^+), \\dot{q}(t^+)]$ or $\\dot{q}(t^+)$ (which should be numerical values now). This function will replace lambdify, and you can use SymPy's \"sym.N()\" or \"expr.evalf()\" methods to convert SymPy expressions into numerical values. Test your function with $\\theta_1(\\tau^-) = \\theta_2(\\tau^-) = \\theta_3(\\tau^-) = 0$ and $\\dot{\\theta}_1(\\tau^-) = \\dot{\\theta_2}(\\tau^-) = \\dot{\\theta_3}(\\tau^-) = -1$.\n",
        "\n",
        "**Turn in: A copy of your \"impact_update_triple_pend\" function, and the test result of your function.**"
      ]
    },
    {
      "cell_type": "code",
      "execution_count": null,
      "metadata": {
        "id": "dgkTCCF11ZxA"
      },
      "outputs": [],
      "source": []
    },
    {
      "cell_type": "markdown",
      "metadata": {
        "id": "jE-Fh9e61ZxE"
      },
      "source": [
        "## Problem 8 (15pts)\n",
        "\n",
        "Similar to the single-pendulum system, you will still want to implement a function named \"impact\\_condition\\_triple\\_pend\" to indicate the moment when impact happens. Again, you need to use the constraint $\\phi$. After obtaining the impact condition function, simulate the triple-pendulum system with impact for $t\\in[0,2], dt=0.01$ with initial condition $\\theta_1=\\frac{\\pi}{3}, \\theta_2=\\frac{\\pi}{3}, \\theta_3=-\\frac{\\pi}{3}$ and $\\dot{\\theta}_1=\\dot{\\theta}_2=\\dot{\\theta}_3=0$. Plot the simulated trajectory versus time and animate your simulated trajectory.\n",
        "\n",
        "> Hint 1: You will need to modify the simulate function!\n",
        "\n",
        "**Turn in: A copy of code for the impact update function and simulate function, as well as code output including the plot of simulated trajectory and the animation. The video should be uploaded separately from the .pdf file through Canvas, and it should be in \".mp4\" format. You can use screen capture or record the screen directly with your phone.**"
      ]
    },
    {
      "cell_type": "code",
      "execution_count": null,
      "metadata": {
        "id": "yxajOfcd1ZxR"
      },
      "outputs": [],
      "source": []
    },
    {
      "cell_type": "markdown",
      "metadata": {
        "id": "5H-1-N8x1Zxb"
      },
      "source": [
        "## Problem 9 (5pts)\n",
        "\n",
        "Compute and plot the Hamiltonian of the simulated trajectory for the triple-pendulum system with impact.\n",
        "\n",
        "**Turn in: A copy of code used to compute the Hamiltonian, also include the code output, which should the plot of the Hamiltonian versus time.**"
      ]
    },
    {
      "cell_type": "code",
      "execution_count": null,
      "metadata": {
        "id": "dK4ih-dT1Zxc"
      },
      "outputs": [],
      "source": []
    }
  ],
  "metadata": {
    "colab": {
      "provenance": []
    },
    "kernelspec": {
      "display_name": "Python 3",
      "language": "python",
      "name": "python3"
    },
    "language_info": {
      "codemirror_mode": {
        "name": "ipython",
        "version": 3
      },
      "file_extension": ".py",
      "mimetype": "text/x-python",
      "name": "python",
      "nbconvert_exporter": "python",
      "pygments_lexer": "ipython3",
      "version": "3.12.3"
    }
  },
  "nbformat": 4,
  "nbformat_minor": 0
}
